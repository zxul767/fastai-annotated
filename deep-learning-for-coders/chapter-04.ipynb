{
 "cells": [
  {
   "cell_type": "code",
   "execution_count": 150,
   "metadata": {},
   "outputs": [
    {
     "data": {
      "text/html": [
       "<style type='text/css'>\n",
       "  .rendered_html {\n",
       "      font-family: Courier New;\n",
       "      font-size:110%;\n",
       "      line-height:115%;\n",
       "  }\n",
       "  .rendered_html code {\n",
       "      font-size: 90%;\n",
       "  }\n",
       "</style>\n"
      ],
      "text/plain": [
       "<IPython.core.display.HTML object>"
      ]
     },
     "metadata": {},
     "output_type": "display_data"
    }
   ],
   "source": [
    "%%html\n",
    "<style type='text/css'>\n",
    "  .rendered_html {\n",
    "      font-family: Courier New;\n",
    "      font-size:110%;\n",
    "      line-height:115%;\n",
    "  }\n",
    "  .rendered_html code {\n",
    "      font-size: 90%;\n",
    "  }\n",
    "</style>"
   ]
  },
  {
   "cell_type": "markdown",
   "metadata": {},
   "source": [
    "# Chapter 4 -- Recognizing Handwritten Digits\n",
    "\n",
    "In this chapter we'll take a look under the hood to understand in detail what was going on during the training of the classifiers in previous chapters. \n",
    "\n",
    "We'll work through a simplified version of the handwritten digits recognition problem, starting with a very simple baseline model, and then use all of the machinery that deep learning models use to solve this and more sophisticated problems.\n",
    "\n",
    "The most important concepts we'll see are:\n",
    "\n",
    "+ Loss Functions\n",
    "+ Function Optimization\n",
    "+ Stochastic Gradient Descent\n",
    "+ Gradient Computation\n",
    "+ Tensor Broadcasting\n",
    "+ Training Loops\n",
    "+ Computational Graphs"
   ]
  },
  {
   "cell_type": "markdown",
   "metadata": {},
   "source": [
    "## 4.1 Exploring Input Data"
   ]
  },
  {
   "cell_type": "code",
   "execution_count": 151,
   "metadata": {},
   "outputs": [],
   "source": [
    "from fastai.vision.all import *"
   ]
  },
  {
   "cell_type": "code",
   "execution_count": 152,
   "metadata": {},
   "outputs": [],
   "source": [
    "path = untar_data(URLs.MNIST_SAMPLE)"
   ]
  },
  {
   "cell_type": "code",
   "execution_count": 153,
   "metadata": {},
   "outputs": [
    {
     "data": {
      "text/plain": [
       "(#3) [Path('/root/.fastai/data/mnist_sample/train'),Path('/root/.fastai/data/mnist_sample/labels.csv'),Path('/root/.fastai/data/mnist_sample/valid')]"
      ]
     },
     "execution_count": 153,
     "metadata": {},
     "output_type": "execute_result"
    }
   ],
   "source": [
    "path.ls()"
   ]
  },
  {
   "cell_type": "code",
   "execution_count": 154,
   "metadata": {},
   "outputs": [
    {
     "name": "stdout",
     "output_type": "stream",
     "text": [
      "name,label\r\n",
      "train/3/7463.png,0\r\n",
      "train/3/21102.png,0\r\n",
      "train/3/31559.png,0\r\n",
      "train/3/46882.png,0\r\n",
      "train/3/26209.png,0\r\n",
      "train/3/41391.png,0\r\n",
      "train/3/11910.png,0\r\n",
      "train/3/52435.png,0\r\n",
      "train/3/21660.png,0\r\n"
     ]
    }
   ],
   "source": [
    "!head /root/.fastai/data/mnist_sample/labels.csv"
   ]
  },
  {
   "cell_type": "code",
   "execution_count": 155,
   "metadata": {},
   "outputs": [
    {
     "data": {
      "text/plain": [
       "(#2) [Path('/root/.fastai/data/mnist_sample/train/7'),Path('/root/.fastai/data/mnist_sample/train/3')]"
      ]
     },
     "execution_count": 155,
     "metadata": {},
     "output_type": "execute_result"
    }
   ],
   "source": [
    "(path/'train').ls()"
   ]
  },
  {
   "cell_type": "code",
   "execution_count": 156,
   "metadata": {},
   "outputs": [
    {
     "data": {
      "text/plain": [
       "(#6131) [Path('/root/.fastai/data/mnist_sample/train/3/10.png'),Path('/root/.fastai/data/mnist_sample/train/3/10000.png'),Path('/root/.fastai/data/mnist_sample/train/3/10011.png'),Path('/root/.fastai/data/mnist_sample/train/3/10031.png'),Path('/root/.fastai/data/mnist_sample/train/3/10034.png'),Path('/root/.fastai/data/mnist_sample/train/3/10042.png'),Path('/root/.fastai/data/mnist_sample/train/3/10052.png'),Path('/root/.fastai/data/mnist_sample/train/3/1007.png'),Path('/root/.fastai/data/mnist_sample/train/3/10074.png'),Path('/root/.fastai/data/mnist_sample/train/3/10091.png')...]"
      ]
     },
     "execution_count": 156,
     "metadata": {},
     "output_type": "execute_result"
    }
   ],
   "source": [
    "threes = (path/'train'/'3').ls().sorted()\n",
    "sevens = (path/'train'/'7').ls().sorted()\n",
    "threes"
   ]
  },
  {
   "cell_type": "code",
   "execution_count": 157,
   "metadata": {},
   "outputs": [
    {
     "data": {
      "image/png": "[encoded data removed]",
      "text/plain": [
       "<PIL.PngImagePlugin.PngImageFile image mode=L size=28x28 at 0x7FCB80488DF0>"
      ]
     },
     "execution_count": 157,
     "metadata": {},
     "output_type": "execute_result"
    }
   ],
   "source": [
    "img3_path = threes[1]\n",
    "img3 = Image.open(img3_path); img3"
   ]
  },
  {
   "cell_type": "code",
   "execution_count": 158,
   "metadata": {},
   "outputs": [
    {
     "data": {
      "text/plain": [
       "array([[  0,   0,   0,   0,   0,   0],\n",
       "       [  0,   0,   0,   0,   0,  29],\n",
       "       [  0,   0,   0,  48, 166, 224],\n",
       "       [  0,  93, 244, 249, 253, 187],\n",
       "       [  0, 107, 253, 253, 230,  48],\n",
       "       [  0,   3,  20,  20,  15,   0]], dtype=uint8)"
      ]
     },
     "execution_count": 158,
     "metadata": {},
     "output_type": "execute_result"
    }
   ],
   "source": [
    "array(img3)[4:10, 4:10]"
   ]
  },
  {
   "cell_type": "code",
   "execution_count": 159,
   "metadata": {},
   "outputs": [
    {
     "data": {
      "text/plain": [
       "tensor([[  0,   0,   0,   0,   0,   0],\n",
       "        [  0,   0,   0,   0,   0,  29],\n",
       "        [  0,   0,   0,  48, 166, 224],\n",
       "        [  0,  93, 244, 249, 253, 187],\n",
       "        [  0, 107, 253, 253, 230,  48],\n",
       "        [  0,   3,  20,  20,  15,   0]], dtype=torch.uint8)"
      ]
     },
     "execution_count": 159,
     "metadata": {},
     "output_type": "execute_result"
    }
   ],
   "source": [
    "tensor(img3)[4:10, 4:10]"
   ]
  },
  {
   "cell_type": "code",
   "execution_count": 160,
   "metadata": {},
   "outputs": [
    {
     "data": {
      "text/html": [
       "<style  type=\"text/css\" >\n",
       "#T_fa8cf882_045f_11ed_b967_8e7759c05863row0_col0,#T_fa8cf882_045f_11ed_b967_8e7759c05863row0_col1,#T_fa8cf882_045f_11ed_b967_8e7759c05863row0_col2,#T_fa8cf882_045f_11ed_b967_8e7759c05863row0_col3,#T_fa8cf882_045f_11ed_b967_8e7759c05863row0_col4,#T_fa8cf882_045f_11ed_b967_8e7759c05863row0_col5,#T_fa8cf882_045f_11ed_b967_8e7759c05863row0_col6,#T_fa8cf882_045f_11ed_b967_8e7759c05863row0_col7,#T_fa8cf882_045f_11ed_b967_8e7759c05863row0_col8,#T_fa8cf882_045f_11ed_b967_8e7759c05863row0_col9,#T_fa8cf882_045f_11ed_b967_8e7759c05863row0_col10,#T_fa8cf882_045f_11ed_b967_8e7759c05863row0_col11,#T_fa8cf882_045f_11ed_b967_8e7759c05863row0_col12,#T_fa8cf882_045f_11ed_b967_8e7759c05863row0_col13,#T_fa8cf882_045f_11ed_b967_8e7759c05863row0_col14,#T_fa8cf882_045f_11ed_b967_8e7759c05863row0_col15,#T_fa8cf882_045f_11ed_b967_8e7759c05863row0_col16,#T_fa8cf882_045f_11ed_b967_8e7759c05863row0_col17,#T_fa8cf882_045f_11ed_b967_8e7759c05863row1_col0,#T_fa8cf882_045f_11ed_b967_8e7759c05863row1_col1,#T_fa8cf882_045f_11ed_b967_8e7759c05863row1_col2,#T_fa8cf882_045f_11ed_b967_8e7759c05863row1_col3,#T_fa8cf882_045f_11ed_b967_8e7759c05863row1_col4,#T_fa8cf882_045f_11ed_b967_8e7759c05863row1_col15,#T_fa8cf882_045f_11ed_b967_8e7759c05863row1_col16,#T_fa8cf882_045f_11ed_b967_8e7759c05863row1_col17,#T_fa8cf882_045f_11ed_b967_8e7759c05863row2_col0,#T_fa8cf882_045f_11ed_b967_8e7759c05863row2_col1,#T_fa8cf882_045f_11ed_b967_8e7759c05863row2_col2,#T_fa8cf882_045f_11ed_b967_8e7759c05863row2_col15,#T_fa8cf882_045f_11ed_b967_8e7759c05863row2_col16,#T_fa8cf882_045f_11ed_b967_8e7759c05863row2_col17,#T_fa8cf882_045f_11ed_b967_8e7759c05863row3_col0,#T_fa8cf882_045f_11ed_b967_8e7759c05863row3_col15,#T_fa8cf882_045f_11ed_b967_8e7759c05863row3_col16,#T_fa8cf882_045f_11ed_b967_8e7759c05863row3_col17,#T_fa8cf882_045f_11ed_b967_8e7759c05863row4_col0,#T_fa8cf882_045f_11ed_b967_8e7759c05863row4_col6,#T_fa8cf882_045f_11ed_b967_8e7759c05863row4_col7,#T_fa8cf882_045f_11ed_b967_8e7759c05863row4_col8,#T_fa8cf882_045f_11ed_b967_8e7759c05863row4_col9,#T_fa8cf882_045f_11ed_b967_8e7759c05863row4_col10,#T_fa8cf882_045f_11ed_b967_8e7759c05863row4_col15,#T_fa8cf882_045f_11ed_b967_8e7759c05863row4_col16,#T_fa8cf882_045f_11ed_b967_8e7759c05863row4_col17,#T_fa8cf882_045f_11ed_b967_8e7759c05863row5_col0,#T_fa8cf882_045f_11ed_b967_8e7759c05863row5_col5,#T_fa8cf882_045f_11ed_b967_8e7759c05863row5_col6,#T_fa8cf882_045f_11ed_b967_8e7759c05863row5_col7,#T_fa8cf882_045f_11ed_b967_8e7759c05863row5_col8,#T_fa8cf882_045f_11ed_b967_8e7759c05863row5_col9,#T_fa8cf882_045f_11ed_b967_8e7759c05863row5_col15,#T_fa8cf882_045f_11ed_b967_8e7759c05863row5_col16,#T_fa8cf882_045f_11ed_b967_8e7759c05863row5_col17,#T_fa8cf882_045f_11ed_b967_8e7759c05863row6_col0,#T_fa8cf882_045f_11ed_b967_8e7759c05863row6_col1,#T_fa8cf882_045f_11ed_b967_8e7759c05863row6_col2,#T_fa8cf882_045f_11ed_b967_8e7759c05863row6_col3,#T_fa8cf882_045f_11ed_b967_8e7759c05863row6_col4,#T_fa8cf882_045f_11ed_b967_8e7759c05863row6_col5,#T_fa8cf882_045f_11ed_b967_8e7759c05863row6_col6,#T_fa8cf882_045f_11ed_b967_8e7759c05863row6_col7,#T_fa8cf882_045f_11ed_b967_8e7759c05863row6_col8,#T_fa8cf882_045f_11ed_b967_8e7759c05863row6_col9,#T_fa8cf882_045f_11ed_b967_8e7759c05863row6_col14,#T_fa8cf882_045f_11ed_b967_8e7759c05863row6_col15,#T_fa8cf882_045f_11ed_b967_8e7759c05863row6_col16,#T_fa8cf882_045f_11ed_b967_8e7759c05863row6_col17,#T_fa8cf882_045f_11ed_b967_8e7759c05863row7_col0,#T_fa8cf882_045f_11ed_b967_8e7759c05863row7_col1,#T_fa8cf882_045f_11ed_b967_8e7759c05863row7_col2,#T_fa8cf882_045f_11ed_b967_8e7759c05863row7_col3,#T_fa8cf882_045f_11ed_b967_8e7759c05863row7_col4,#T_fa8cf882_045f_11ed_b967_8e7759c05863row7_col5,#T_fa8cf882_045f_11ed_b967_8e7759c05863row7_col6,#T_fa8cf882_045f_11ed_b967_8e7759c05863row7_col13,#T_fa8cf882_045f_11ed_b967_8e7759c05863row7_col14,#T_fa8cf882_045f_11ed_b967_8e7759c05863row7_col15,#T_fa8cf882_045f_11ed_b967_8e7759c05863row7_col16,#T_fa8cf882_045f_11ed_b967_8e7759c05863row7_col17,#T_fa8cf882_045f_11ed_b967_8e7759c05863row8_col0,#T_fa8cf882_045f_11ed_b967_8e7759c05863row8_col1,#T_fa8cf882_045f_11ed_b967_8e7759c05863row8_col2,#T_fa8cf882_045f_11ed_b967_8e7759c05863row8_col3,#T_fa8cf882_045f_11ed_b967_8e7759c05863row8_col4,#T_fa8cf882_045f_11ed_b967_8e7759c05863row8_col13,#T_fa8cf882_045f_11ed_b967_8e7759c05863row8_col14,#T_fa8cf882_045f_11ed_b967_8e7759c05863row8_col15,#T_fa8cf882_045f_11ed_b967_8e7759c05863row8_col16,#T_fa8cf882_045f_11ed_b967_8e7759c05863row8_col17,#T_fa8cf882_045f_11ed_b967_8e7759c05863row9_col0,#T_fa8cf882_045f_11ed_b967_8e7759c05863row9_col1,#T_fa8cf882_045f_11ed_b967_8e7759c05863row9_col2,#T_fa8cf882_045f_11ed_b967_8e7759c05863row9_col3,#T_fa8cf882_045f_11ed_b967_8e7759c05863row9_col4,#T_fa8cf882_045f_11ed_b967_8e7759c05863row9_col16,#T_fa8cf882_045f_11ed_b967_8e7759c05863row9_col17,#T_fa8cf882_045f_11ed_b967_8e7759c05863row10_col0,#T_fa8cf882_045f_11ed_b967_8e7759c05863row10_col1,#T_fa8cf882_045f_11ed_b967_8e7759c05863row10_col2,#T_fa8cf882_045f_11ed_b967_8e7759c05863row10_col3,#T_fa8cf882_045f_11ed_b967_8e7759c05863row10_col4,#T_fa8cf882_045f_11ed_b967_8e7759c05863row10_col5,#T_fa8cf882_045f_11ed_b967_8e7759c05863row10_col6,#T_fa8cf882_045f_11ed_b967_8e7759c05863row10_col17{\n",
       "            font-size:  6pt;\n",
       "            background-color:  #ffffff;\n",
       "            color:  #000000;\n",
       "        }#T_fa8cf882_045f_11ed_b967_8e7759c05863row1_col5{\n",
       "            font-size:  6pt;\n",
       "            background-color:  #efefef;\n",
       "            color:  #000000;\n",
       "        }#T_fa8cf882_045f_11ed_b967_8e7759c05863row1_col6,#T_fa8cf882_045f_11ed_b967_8e7759c05863row1_col13{\n",
       "            font-size:  6pt;\n",
       "            background-color:  #7c7c7c;\n",
       "            color:  #000000;\n",
       "        }#T_fa8cf882_045f_11ed_b967_8e7759c05863row1_col7{\n",
       "            font-size:  6pt;\n",
       "            background-color:  #4a4a4a;\n",
       "            color:  #f1f1f1;\n",
       "        }#T_fa8cf882_045f_11ed_b967_8e7759c05863row1_col8,#T_fa8cf882_045f_11ed_b967_8e7759c05863row1_col9,#T_fa8cf882_045f_11ed_b967_8e7759c05863row1_col10,#T_fa8cf882_045f_11ed_b967_8e7759c05863row2_col5,#T_fa8cf882_045f_11ed_b967_8e7759c05863row2_col6,#T_fa8cf882_045f_11ed_b967_8e7759c05863row2_col7,#T_fa8cf882_045f_11ed_b967_8e7759c05863row2_col11,#T_fa8cf882_045f_11ed_b967_8e7759c05863row2_col12,#T_fa8cf882_045f_11ed_b967_8e7759c05863row2_col13,#T_fa8cf882_045f_11ed_b967_8e7759c05863row3_col4,#T_fa8cf882_045f_11ed_b967_8e7759c05863row3_col12,#T_fa8cf882_045f_11ed_b967_8e7759c05863row3_col13,#T_fa8cf882_045f_11ed_b967_8e7759c05863row4_col1,#T_fa8cf882_045f_11ed_b967_8e7759c05863row4_col2,#T_fa8cf882_045f_11ed_b967_8e7759c05863row4_col3,#T_fa8cf882_045f_11ed_b967_8e7759c05863row4_col12,#T_fa8cf882_045f_11ed_b967_8e7759c05863row4_col13,#T_fa8cf882_045f_11ed_b967_8e7759c05863row5_col12,#T_fa8cf882_045f_11ed_b967_8e7759c05863row6_col11,#T_fa8cf882_045f_11ed_b967_8e7759c05863row9_col11,#T_fa8cf882_045f_11ed_b967_8e7759c05863row10_col11,#T_fa8cf882_045f_11ed_b967_8e7759c05863row10_col12,#T_fa8cf882_045f_11ed_b967_8e7759c05863row10_col13,#T_fa8cf882_045f_11ed_b967_8e7759c05863row10_col14,#T_fa8cf882_045f_11ed_b967_8e7759c05863row10_col15,#T_fa8cf882_045f_11ed_b967_8e7759c05863row10_col16{\n",
       "            font-size:  6pt;\n",
       "            background-color:  #000000;\n",
       "            color:  #f1f1f1;\n",
       "        }#T_fa8cf882_045f_11ed_b967_8e7759c05863row1_col11{\n",
       "            font-size:  6pt;\n",
       "            background-color:  #606060;\n",
       "            color:  #f1f1f1;\n",
       "        }#T_fa8cf882_045f_11ed_b967_8e7759c05863row1_col12{\n",
       "            font-size:  6pt;\n",
       "            background-color:  #4d4d4d;\n",
       "            color:  #f1f1f1;\n",
       "        }#T_fa8cf882_045f_11ed_b967_8e7759c05863row1_col14{\n",
       "            font-size:  6pt;\n",
       "            background-color:  #bbbbbb;\n",
       "            color:  #000000;\n",
       "        }#T_fa8cf882_045f_11ed_b967_8e7759c05863row2_col3{\n",
       "            font-size:  6pt;\n",
       "            background-color:  #e4e4e4;\n",
       "            color:  #000000;\n",
       "        }#T_fa8cf882_045f_11ed_b967_8e7759c05863row2_col4,#T_fa8cf882_045f_11ed_b967_8e7759c05863row8_col6{\n",
       "            font-size:  6pt;\n",
       "            background-color:  #6b6b6b;\n",
       "            color:  #000000;\n",
       "        }#T_fa8cf882_045f_11ed_b967_8e7759c05863row2_col8,#T_fa8cf882_045f_11ed_b967_8e7759c05863row2_col14,#T_fa8cf882_045f_11ed_b967_8e7759c05863row3_col14{\n",
       "            font-size:  6pt;\n",
       "            background-color:  #171717;\n",
       "            color:  #f1f1f1;\n",
       "        }#T_fa8cf882_045f_11ed_b967_8e7759c05863row2_col9,#T_fa8cf882_045f_11ed_b967_8e7759c05863row3_col11{\n",
       "            font-size:  6pt;\n",
       "            background-color:  #4b4b4b;\n",
       "            color:  #f1f1f1;\n",
       "        }#T_fa8cf882_045f_11ed_b967_8e7759c05863row2_col10,#T_fa8cf882_045f_11ed_b967_8e7759c05863row7_col10,#T_fa8cf882_045f_11ed_b967_8e7759c05863row8_col8,#T_fa8cf882_045f_11ed_b967_8e7759c05863row8_col10,#T_fa8cf882_045f_11ed_b967_8e7759c05863row9_col8,#T_fa8cf882_045f_11ed_b967_8e7759c05863row9_col10{\n",
       "            font-size:  6pt;\n",
       "            background-color:  #010101;\n",
       "            color:  #f1f1f1;\n",
       "        }#T_fa8cf882_045f_11ed_b967_8e7759c05863row3_col1{\n",
       "            font-size:  6pt;\n",
       "            background-color:  #272727;\n",
       "            color:  #f1f1f1;\n",
       "        }#T_fa8cf882_045f_11ed_b967_8e7759c05863row3_col2{\n",
       "            font-size:  6pt;\n",
       "            background-color:  #0a0a0a;\n",
       "            color:  #f1f1f1;\n",
       "        }#T_fa8cf882_045f_11ed_b967_8e7759c05863row3_col3{\n",
       "            font-size:  6pt;\n",
       "            background-color:  #050505;\n",
       "            color:  #f1f1f1;\n",
       "        }#T_fa8cf882_045f_11ed_b967_8e7759c05863row3_col5{\n",
       "            font-size:  6pt;\n",
       "            background-color:  #333333;\n",
       "            color:  #f1f1f1;\n",
       "        }#T_fa8cf882_045f_11ed_b967_8e7759c05863row3_col6{\n",
       "            font-size:  6pt;\n",
       "            background-color:  #e6e6e6;\n",
       "            color:  #000000;\n",
       "        }#T_fa8cf882_045f_11ed_b967_8e7759c05863row3_col7,#T_fa8cf882_045f_11ed_b967_8e7759c05863row3_col10{\n",
       "            font-size:  6pt;\n",
       "            background-color:  #fafafa;\n",
       "            color:  #000000;\n",
       "        }#T_fa8cf882_045f_11ed_b967_8e7759c05863row3_col8{\n",
       "            font-size:  6pt;\n",
       "            background-color:  #fbfbfb;\n",
       "            color:  #000000;\n",
       "        }#T_fa8cf882_045f_11ed_b967_8e7759c05863row3_col9{\n",
       "            font-size:  6pt;\n",
       "            background-color:  #fdfdfd;\n",
       "            color:  #000000;\n",
       "        }#T_fa8cf882_045f_11ed_b967_8e7759c05863row4_col4{\n",
       "            font-size:  6pt;\n",
       "            background-color:  #1b1b1b;\n",
       "            color:  #f1f1f1;\n",
       "        }#T_fa8cf882_045f_11ed_b967_8e7759c05863row4_col5{\n",
       "            font-size:  6pt;\n",
       "            background-color:  #e0e0e0;\n",
       "            color:  #000000;\n",
       "        }#T_fa8cf882_045f_11ed_b967_8e7759c05863row4_col11{\n",
       "            font-size:  6pt;\n",
       "            background-color:  #4e4e4e;\n",
       "            color:  #f1f1f1;\n",
       "        }#T_fa8cf882_045f_11ed_b967_8e7759c05863row4_col14{\n",
       "            font-size:  6pt;\n",
       "            background-color:  #767676;\n",
       "            color:  #000000;\n",
       "        }#T_fa8cf882_045f_11ed_b967_8e7759c05863row5_col1{\n",
       "            font-size:  6pt;\n",
       "            background-color:  #fcfcfc;\n",
       "            color:  #000000;\n",
       "        }#T_fa8cf882_045f_11ed_b967_8e7759c05863row5_col2,#T_fa8cf882_045f_11ed_b967_8e7759c05863row5_col3{\n",
       "            font-size:  6pt;\n",
       "            background-color:  #f6f6f6;\n",
       "            color:  #000000;\n",
       "        }#T_fa8cf882_045f_11ed_b967_8e7759c05863row5_col4,#T_fa8cf882_045f_11ed_b967_8e7759c05863row7_col7{\n",
       "            font-size:  6pt;\n",
       "            background-color:  #f8f8f8;\n",
       "            color:  #000000;\n",
       "        }#T_fa8cf882_045f_11ed_b967_8e7759c05863row5_col10,#T_fa8cf882_045f_11ed_b967_8e7759c05863row10_col7{\n",
       "            font-size:  6pt;\n",
       "            background-color:  #e8e8e8;\n",
       "            color:  #000000;\n",
       "        }#T_fa8cf882_045f_11ed_b967_8e7759c05863row5_col11{\n",
       "            font-size:  6pt;\n",
       "            background-color:  #222222;\n",
       "            color:  #f1f1f1;\n",
       "        }#T_fa8cf882_045f_11ed_b967_8e7759c05863row5_col13,#T_fa8cf882_045f_11ed_b967_8e7759c05863row6_col12{\n",
       "            font-size:  6pt;\n",
       "            background-color:  #090909;\n",
       "            color:  #f1f1f1;\n",
       "        }#T_fa8cf882_045f_11ed_b967_8e7759c05863row5_col14{\n",
       "            font-size:  6pt;\n",
       "            background-color:  #d0d0d0;\n",
       "            color:  #000000;\n",
       "        }#T_fa8cf882_045f_11ed_b967_8e7759c05863row6_col10,#T_fa8cf882_045f_11ed_b967_8e7759c05863row7_col11,#T_fa8cf882_045f_11ed_b967_8e7759c05863row9_col6{\n",
       "            font-size:  6pt;\n",
       "            background-color:  #060606;\n",
       "            color:  #f1f1f1;\n",
       "        }#T_fa8cf882_045f_11ed_b967_8e7759c05863row6_col13{\n",
       "            font-size:  6pt;\n",
       "            background-color:  #979797;\n",
       "            color:  #000000;\n",
       "        }#T_fa8cf882_045f_11ed_b967_8e7759c05863row7_col8{\n",
       "            font-size:  6pt;\n",
       "            background-color:  #b6b6b6;\n",
       "            color:  #000000;\n",
       "        }#T_fa8cf882_045f_11ed_b967_8e7759c05863row7_col9{\n",
       "            font-size:  6pt;\n",
       "            background-color:  #252525;\n",
       "            color:  #f1f1f1;\n",
       "        }#T_fa8cf882_045f_11ed_b967_8e7759c05863row7_col12{\n",
       "            font-size:  6pt;\n",
       "            background-color:  #999999;\n",
       "            color:  #000000;\n",
       "        }#T_fa8cf882_045f_11ed_b967_8e7759c05863row8_col5{\n",
       "            font-size:  6pt;\n",
       "            background-color:  #f9f9f9;\n",
       "            color:  #000000;\n",
       "        }#T_fa8cf882_045f_11ed_b967_8e7759c05863row8_col7{\n",
       "            font-size:  6pt;\n",
       "            background-color:  #101010;\n",
       "            color:  #f1f1f1;\n",
       "        }#T_fa8cf882_045f_11ed_b967_8e7759c05863row8_col9,#T_fa8cf882_045f_11ed_b967_8e7759c05863row9_col9{\n",
       "            font-size:  6pt;\n",
       "            background-color:  #020202;\n",
       "            color:  #f1f1f1;\n",
       "        }#T_fa8cf882_045f_11ed_b967_8e7759c05863row8_col11{\n",
       "            font-size:  6pt;\n",
       "            background-color:  #545454;\n",
       "            color:  #f1f1f1;\n",
       "        }#T_fa8cf882_045f_11ed_b967_8e7759c05863row8_col12{\n",
       "            font-size:  6pt;\n",
       "            background-color:  #f1f1f1;\n",
       "            color:  #000000;\n",
       "        }#T_fa8cf882_045f_11ed_b967_8e7759c05863row9_col5{\n",
       "            font-size:  6pt;\n",
       "            background-color:  #f7f7f7;\n",
       "            color:  #000000;\n",
       "        }#T_fa8cf882_045f_11ed_b967_8e7759c05863row9_col7{\n",
       "            font-size:  6pt;\n",
       "            background-color:  #030303;\n",
       "            color:  #f1f1f1;\n",
       "        }#T_fa8cf882_045f_11ed_b967_8e7759c05863row9_col12{\n",
       "            font-size:  6pt;\n",
       "            background-color:  #181818;\n",
       "            color:  #f1f1f1;\n",
       "        }#T_fa8cf882_045f_11ed_b967_8e7759c05863row9_col13{\n",
       "            font-size:  6pt;\n",
       "            background-color:  #303030;\n",
       "            color:  #f1f1f1;\n",
       "        }#T_fa8cf882_045f_11ed_b967_8e7759c05863row9_col14{\n",
       "            font-size:  6pt;\n",
       "            background-color:  #a9a9a9;\n",
       "            color:  #000000;\n",
       "        }#T_fa8cf882_045f_11ed_b967_8e7759c05863row9_col15{\n",
       "            font-size:  6pt;\n",
       "            background-color:  #fefefe;\n",
       "            color:  #000000;\n",
       "        }#T_fa8cf882_045f_11ed_b967_8e7759c05863row10_col8,#T_fa8cf882_045f_11ed_b967_8e7759c05863row10_col9{\n",
       "            font-size:  6pt;\n",
       "            background-color:  #bababa;\n",
       "            color:  #000000;\n",
       "        }#T_fa8cf882_045f_11ed_b967_8e7759c05863row10_col10{\n",
       "            font-size:  6pt;\n",
       "            background-color:  #393939;\n",
       "            color:  #f1f1f1;\n",
       "        }</style><table id=\"T_fa8cf882_045f_11ed_b967_8e7759c05863\" ><thead>    <tr>        <th class=\"blank level0\" ></th>        <th class=\"col_heading level0 col0\" >0</th>        <th class=\"col_heading level0 col1\" >1</th>        <th class=\"col_heading level0 col2\" >2</th>        <th class=\"col_heading level0 col3\" >3</th>        <th class=\"col_heading level0 col4\" >4</th>        <th class=\"col_heading level0 col5\" >5</th>        <th class=\"col_heading level0 col6\" >6</th>        <th class=\"col_heading level0 col7\" >7</th>        <th class=\"col_heading level0 col8\" >8</th>        <th class=\"col_heading level0 col9\" >9</th>        <th class=\"col_heading level0 col10\" >10</th>        <th class=\"col_heading level0 col11\" >11</th>        <th class=\"col_heading level0 col12\" >12</th>        <th class=\"col_heading level0 col13\" >13</th>        <th class=\"col_heading level0 col14\" >14</th>        <th class=\"col_heading level0 col15\" >15</th>        <th class=\"col_heading level0 col16\" >16</th>        <th class=\"col_heading level0 col17\" >17</th>    </tr></thead><tbody>\n",
       "                <tr>\n",
       "                        <th id=\"T_fa8cf882_045f_11ed_b967_8e7759c05863level0_row0\" class=\"row_heading level0 row0\" >0</th>\n",
       "                        <td id=\"T_fa8cf882_045f_11ed_b967_8e7759c05863row0_col0\" class=\"data row0 col0\" >0</td>\n",
       "                        <td id=\"T_fa8cf882_045f_11ed_b967_8e7759c05863row0_col1\" class=\"data row0 col1\" >0</td>\n",
       "                        <td id=\"T_fa8cf882_045f_11ed_b967_8e7759c05863row0_col2\" class=\"data row0 col2\" >0</td>\n",
       "                        <td id=\"T_fa8cf882_045f_11ed_b967_8e7759c05863row0_col3\" class=\"data row0 col3\" >0</td>\n",
       "                        <td id=\"T_fa8cf882_045f_11ed_b967_8e7759c05863row0_col4\" class=\"data row0 col4\" >0</td>\n",
       "                        <td id=\"T_fa8cf882_045f_11ed_b967_8e7759c05863row0_col5\" class=\"data row0 col5\" >0</td>\n",
       "                        <td id=\"T_fa8cf882_045f_11ed_b967_8e7759c05863row0_col6\" class=\"data row0 col6\" >0</td>\n",
       "                        <td id=\"T_fa8cf882_045f_11ed_b967_8e7759c05863row0_col7\" class=\"data row0 col7\" >0</td>\n",
       "                        <td id=\"T_fa8cf882_045f_11ed_b967_8e7759c05863row0_col8\" class=\"data row0 col8\" >0</td>\n",
       "                        <td id=\"T_fa8cf882_045f_11ed_b967_8e7759c05863row0_col9\" class=\"data row0 col9\" >0</td>\n",
       "                        <td id=\"T_fa8cf882_045f_11ed_b967_8e7759c05863row0_col10\" class=\"data row0 col10\" >0</td>\n",
       "                        <td id=\"T_fa8cf882_045f_11ed_b967_8e7759c05863row0_col11\" class=\"data row0 col11\" >0</td>\n",
       "                        <td id=\"T_fa8cf882_045f_11ed_b967_8e7759c05863row0_col12\" class=\"data row0 col12\" >0</td>\n",
       "                        <td id=\"T_fa8cf882_045f_11ed_b967_8e7759c05863row0_col13\" class=\"data row0 col13\" >0</td>\n",
       "                        <td id=\"T_fa8cf882_045f_11ed_b967_8e7759c05863row0_col14\" class=\"data row0 col14\" >0</td>\n",
       "                        <td id=\"T_fa8cf882_045f_11ed_b967_8e7759c05863row0_col15\" class=\"data row0 col15\" >0</td>\n",
       "                        <td id=\"T_fa8cf882_045f_11ed_b967_8e7759c05863row0_col16\" class=\"data row0 col16\" >0</td>\n",
       "                        <td id=\"T_fa8cf882_045f_11ed_b967_8e7759c05863row0_col17\" class=\"data row0 col17\" >0</td>\n",
       "            </tr>\n",
       "            <tr>\n",
       "                        <th id=\"T_fa8cf882_045f_11ed_b967_8e7759c05863level0_row1\" class=\"row_heading level0 row1\" >1</th>\n",
       "                        <td id=\"T_fa8cf882_045f_11ed_b967_8e7759c05863row1_col0\" class=\"data row1 col0\" >0</td>\n",
       "                        <td id=\"T_fa8cf882_045f_11ed_b967_8e7759c05863row1_col1\" class=\"data row1 col1\" >0</td>\n",
       "                        <td id=\"T_fa8cf882_045f_11ed_b967_8e7759c05863row1_col2\" class=\"data row1 col2\" >0</td>\n",
       "                        <td id=\"T_fa8cf882_045f_11ed_b967_8e7759c05863row1_col3\" class=\"data row1 col3\" >0</td>\n",
       "                        <td id=\"T_fa8cf882_045f_11ed_b967_8e7759c05863row1_col4\" class=\"data row1 col4\" >0</td>\n",
       "                        <td id=\"T_fa8cf882_045f_11ed_b967_8e7759c05863row1_col5\" class=\"data row1 col5\" >29</td>\n",
       "                        <td id=\"T_fa8cf882_045f_11ed_b967_8e7759c05863row1_col6\" class=\"data row1 col6\" >150</td>\n",
       "                        <td id=\"T_fa8cf882_045f_11ed_b967_8e7759c05863row1_col7\" class=\"data row1 col7\" >195</td>\n",
       "                        <td id=\"T_fa8cf882_045f_11ed_b967_8e7759c05863row1_col8\" class=\"data row1 col8\" >254</td>\n",
       "                        <td id=\"T_fa8cf882_045f_11ed_b967_8e7759c05863row1_col9\" class=\"data row1 col9\" >255</td>\n",
       "                        <td id=\"T_fa8cf882_045f_11ed_b967_8e7759c05863row1_col10\" class=\"data row1 col10\" >254</td>\n",
       "                        <td id=\"T_fa8cf882_045f_11ed_b967_8e7759c05863row1_col11\" class=\"data row1 col11\" >176</td>\n",
       "                        <td id=\"T_fa8cf882_045f_11ed_b967_8e7759c05863row1_col12\" class=\"data row1 col12\" >193</td>\n",
       "                        <td id=\"T_fa8cf882_045f_11ed_b967_8e7759c05863row1_col13\" class=\"data row1 col13\" >150</td>\n",
       "                        <td id=\"T_fa8cf882_045f_11ed_b967_8e7759c05863row1_col14\" class=\"data row1 col14\" >96</td>\n",
       "                        <td id=\"T_fa8cf882_045f_11ed_b967_8e7759c05863row1_col15\" class=\"data row1 col15\" >0</td>\n",
       "                        <td id=\"T_fa8cf882_045f_11ed_b967_8e7759c05863row1_col16\" class=\"data row1 col16\" >0</td>\n",
       "                        <td id=\"T_fa8cf882_045f_11ed_b967_8e7759c05863row1_col17\" class=\"data row1 col17\" >0</td>\n",
       "            </tr>\n",
       "            <tr>\n",
       "                        <th id=\"T_fa8cf882_045f_11ed_b967_8e7759c05863level0_row2\" class=\"row_heading level0 row2\" >2</th>\n",
       "                        <td id=\"T_fa8cf882_045f_11ed_b967_8e7759c05863row2_col0\" class=\"data row2 col0\" >0</td>\n",
       "                        <td id=\"T_fa8cf882_045f_11ed_b967_8e7759c05863row2_col1\" class=\"data row2 col1\" >0</td>\n",
       "                        <td id=\"T_fa8cf882_045f_11ed_b967_8e7759c05863row2_col2\" class=\"data row2 col2\" >0</td>\n",
       "                        <td id=\"T_fa8cf882_045f_11ed_b967_8e7759c05863row2_col3\" class=\"data row2 col3\" >48</td>\n",
       "                        <td id=\"T_fa8cf882_045f_11ed_b967_8e7759c05863row2_col4\" class=\"data row2 col4\" >166</td>\n",
       "                        <td id=\"T_fa8cf882_045f_11ed_b967_8e7759c05863row2_col5\" class=\"data row2 col5\" >224</td>\n",
       "                        <td id=\"T_fa8cf882_045f_11ed_b967_8e7759c05863row2_col6\" class=\"data row2 col6\" >253</td>\n",
       "                        <td id=\"T_fa8cf882_045f_11ed_b967_8e7759c05863row2_col7\" class=\"data row2 col7\" >253</td>\n",
       "                        <td id=\"T_fa8cf882_045f_11ed_b967_8e7759c05863row2_col8\" class=\"data row2 col8\" >234</td>\n",
       "                        <td id=\"T_fa8cf882_045f_11ed_b967_8e7759c05863row2_col9\" class=\"data row2 col9\" >196</td>\n",
       "                        <td id=\"T_fa8cf882_045f_11ed_b967_8e7759c05863row2_col10\" class=\"data row2 col10\" >253</td>\n",
       "                        <td id=\"T_fa8cf882_045f_11ed_b967_8e7759c05863row2_col11\" class=\"data row2 col11\" >253</td>\n",
       "                        <td id=\"T_fa8cf882_045f_11ed_b967_8e7759c05863row2_col12\" class=\"data row2 col12\" >253</td>\n",
       "                        <td id=\"T_fa8cf882_045f_11ed_b967_8e7759c05863row2_col13\" class=\"data row2 col13\" >253</td>\n",
       "                        <td id=\"T_fa8cf882_045f_11ed_b967_8e7759c05863row2_col14\" class=\"data row2 col14\" >233</td>\n",
       "                        <td id=\"T_fa8cf882_045f_11ed_b967_8e7759c05863row2_col15\" class=\"data row2 col15\" >0</td>\n",
       "                        <td id=\"T_fa8cf882_045f_11ed_b967_8e7759c05863row2_col16\" class=\"data row2 col16\" >0</td>\n",
       "                        <td id=\"T_fa8cf882_045f_11ed_b967_8e7759c05863row2_col17\" class=\"data row2 col17\" >0</td>\n",
       "            </tr>\n",
       "            <tr>\n",
       "                        <th id=\"T_fa8cf882_045f_11ed_b967_8e7759c05863level0_row3\" class=\"row_heading level0 row3\" >3</th>\n",
       "                        <td id=\"T_fa8cf882_045f_11ed_b967_8e7759c05863row3_col0\" class=\"data row3 col0\" >0</td>\n",
       "                        <td id=\"T_fa8cf882_045f_11ed_b967_8e7759c05863row3_col1\" class=\"data row3 col1\" >93</td>\n",
       "                        <td id=\"T_fa8cf882_045f_11ed_b967_8e7759c05863row3_col2\" class=\"data row3 col2\" >244</td>\n",
       "                        <td id=\"T_fa8cf882_045f_11ed_b967_8e7759c05863row3_col3\" class=\"data row3 col3\" >249</td>\n",
       "                        <td id=\"T_fa8cf882_045f_11ed_b967_8e7759c05863row3_col4\" class=\"data row3 col4\" >253</td>\n",
       "                        <td id=\"T_fa8cf882_045f_11ed_b967_8e7759c05863row3_col5\" class=\"data row3 col5\" >187</td>\n",
       "                        <td id=\"T_fa8cf882_045f_11ed_b967_8e7759c05863row3_col6\" class=\"data row3 col6\" >46</td>\n",
       "                        <td id=\"T_fa8cf882_045f_11ed_b967_8e7759c05863row3_col7\" class=\"data row3 col7\" >10</td>\n",
       "                        <td id=\"T_fa8cf882_045f_11ed_b967_8e7759c05863row3_col8\" class=\"data row3 col8\" >8</td>\n",
       "                        <td id=\"T_fa8cf882_045f_11ed_b967_8e7759c05863row3_col9\" class=\"data row3 col9\" >4</td>\n",
       "                        <td id=\"T_fa8cf882_045f_11ed_b967_8e7759c05863row3_col10\" class=\"data row3 col10\" >10</td>\n",
       "                        <td id=\"T_fa8cf882_045f_11ed_b967_8e7759c05863row3_col11\" class=\"data row3 col11\" >194</td>\n",
       "                        <td id=\"T_fa8cf882_045f_11ed_b967_8e7759c05863row3_col12\" class=\"data row3 col12\" >253</td>\n",
       "                        <td id=\"T_fa8cf882_045f_11ed_b967_8e7759c05863row3_col13\" class=\"data row3 col13\" >253</td>\n",
       "                        <td id=\"T_fa8cf882_045f_11ed_b967_8e7759c05863row3_col14\" class=\"data row3 col14\" >233</td>\n",
       "                        <td id=\"T_fa8cf882_045f_11ed_b967_8e7759c05863row3_col15\" class=\"data row3 col15\" >0</td>\n",
       "                        <td id=\"T_fa8cf882_045f_11ed_b967_8e7759c05863row3_col16\" class=\"data row3 col16\" >0</td>\n",
       "                        <td id=\"T_fa8cf882_045f_11ed_b967_8e7759c05863row3_col17\" class=\"data row3 col17\" >0</td>\n",
       "            </tr>\n",
       "            <tr>\n",
       "                        <th id=\"T_fa8cf882_045f_11ed_b967_8e7759c05863level0_row4\" class=\"row_heading level0 row4\" >4</th>\n",
       "                        <td id=\"T_fa8cf882_045f_11ed_b967_8e7759c05863row4_col0\" class=\"data row4 col0\" >0</td>\n",
       "                        <td id=\"T_fa8cf882_045f_11ed_b967_8e7759c05863row4_col1\" class=\"data row4 col1\" >107</td>\n",
       "                        <td id=\"T_fa8cf882_045f_11ed_b967_8e7759c05863row4_col2\" class=\"data row4 col2\" >253</td>\n",
       "                        <td id=\"T_fa8cf882_045f_11ed_b967_8e7759c05863row4_col3\" class=\"data row4 col3\" >253</td>\n",
       "                        <td id=\"T_fa8cf882_045f_11ed_b967_8e7759c05863row4_col4\" class=\"data row4 col4\" >230</td>\n",
       "                        <td id=\"T_fa8cf882_045f_11ed_b967_8e7759c05863row4_col5\" class=\"data row4 col5\" >48</td>\n",
       "                        <td id=\"T_fa8cf882_045f_11ed_b967_8e7759c05863row4_col6\" class=\"data row4 col6\" >0</td>\n",
       "                        <td id=\"T_fa8cf882_045f_11ed_b967_8e7759c05863row4_col7\" class=\"data row4 col7\" >0</td>\n",
       "                        <td id=\"T_fa8cf882_045f_11ed_b967_8e7759c05863row4_col8\" class=\"data row4 col8\" >0</td>\n",
       "                        <td id=\"T_fa8cf882_045f_11ed_b967_8e7759c05863row4_col9\" class=\"data row4 col9\" >0</td>\n",
       "                        <td id=\"T_fa8cf882_045f_11ed_b967_8e7759c05863row4_col10\" class=\"data row4 col10\" >0</td>\n",
       "                        <td id=\"T_fa8cf882_045f_11ed_b967_8e7759c05863row4_col11\" class=\"data row4 col11\" >192</td>\n",
       "                        <td id=\"T_fa8cf882_045f_11ed_b967_8e7759c05863row4_col12\" class=\"data row4 col12\" >253</td>\n",
       "                        <td id=\"T_fa8cf882_045f_11ed_b967_8e7759c05863row4_col13\" class=\"data row4 col13\" >253</td>\n",
       "                        <td id=\"T_fa8cf882_045f_11ed_b967_8e7759c05863row4_col14\" class=\"data row4 col14\" >156</td>\n",
       "                        <td id=\"T_fa8cf882_045f_11ed_b967_8e7759c05863row4_col15\" class=\"data row4 col15\" >0</td>\n",
       "                        <td id=\"T_fa8cf882_045f_11ed_b967_8e7759c05863row4_col16\" class=\"data row4 col16\" >0</td>\n",
       "                        <td id=\"T_fa8cf882_045f_11ed_b967_8e7759c05863row4_col17\" class=\"data row4 col17\" >0</td>\n",
       "            </tr>\n",
       "            <tr>\n",
       "                        <th id=\"T_fa8cf882_045f_11ed_b967_8e7759c05863level0_row5\" class=\"row_heading level0 row5\" >5</th>\n",
       "                        <td id=\"T_fa8cf882_045f_11ed_b967_8e7759c05863row5_col0\" class=\"data row5 col0\" >0</td>\n",
       "                        <td id=\"T_fa8cf882_045f_11ed_b967_8e7759c05863row5_col1\" class=\"data row5 col1\" >3</td>\n",
       "                        <td id=\"T_fa8cf882_045f_11ed_b967_8e7759c05863row5_col2\" class=\"data row5 col2\" >20</td>\n",
       "                        <td id=\"T_fa8cf882_045f_11ed_b967_8e7759c05863row5_col3\" class=\"data row5 col3\" >20</td>\n",
       "                        <td id=\"T_fa8cf882_045f_11ed_b967_8e7759c05863row5_col4\" class=\"data row5 col4\" >15</td>\n",
       "                        <td id=\"T_fa8cf882_045f_11ed_b967_8e7759c05863row5_col5\" class=\"data row5 col5\" >0</td>\n",
       "                        <td id=\"T_fa8cf882_045f_11ed_b967_8e7759c05863row5_col6\" class=\"data row5 col6\" >0</td>\n",
       "                        <td id=\"T_fa8cf882_045f_11ed_b967_8e7759c05863row5_col7\" class=\"data row5 col7\" >0</td>\n",
       "                        <td id=\"T_fa8cf882_045f_11ed_b967_8e7759c05863row5_col8\" class=\"data row5 col8\" >0</td>\n",
       "                        <td id=\"T_fa8cf882_045f_11ed_b967_8e7759c05863row5_col9\" class=\"data row5 col9\" >0</td>\n",
       "                        <td id=\"T_fa8cf882_045f_11ed_b967_8e7759c05863row5_col10\" class=\"data row5 col10\" >43</td>\n",
       "                        <td id=\"T_fa8cf882_045f_11ed_b967_8e7759c05863row5_col11\" class=\"data row5 col11\" >224</td>\n",
       "                        <td id=\"T_fa8cf882_045f_11ed_b967_8e7759c05863row5_col12\" class=\"data row5 col12\" >253</td>\n",
       "                        <td id=\"T_fa8cf882_045f_11ed_b967_8e7759c05863row5_col13\" class=\"data row5 col13\" >245</td>\n",
       "                        <td id=\"T_fa8cf882_045f_11ed_b967_8e7759c05863row5_col14\" class=\"data row5 col14\" >74</td>\n",
       "                        <td id=\"T_fa8cf882_045f_11ed_b967_8e7759c05863row5_col15\" class=\"data row5 col15\" >0</td>\n",
       "                        <td id=\"T_fa8cf882_045f_11ed_b967_8e7759c05863row5_col16\" class=\"data row5 col16\" >0</td>\n",
       "                        <td id=\"T_fa8cf882_045f_11ed_b967_8e7759c05863row5_col17\" class=\"data row5 col17\" >0</td>\n",
       "            </tr>\n",
       "            <tr>\n",
       "                        <th id=\"T_fa8cf882_045f_11ed_b967_8e7759c05863level0_row6\" class=\"row_heading level0 row6\" >6</th>\n",
       "                        <td id=\"T_fa8cf882_045f_11ed_b967_8e7759c05863row6_col0\" class=\"data row6 col0\" >0</td>\n",
       "                        <td id=\"T_fa8cf882_045f_11ed_b967_8e7759c05863row6_col1\" class=\"data row6 col1\" >0</td>\n",
       "                        <td id=\"T_fa8cf882_045f_11ed_b967_8e7759c05863row6_col2\" class=\"data row6 col2\" >0</td>\n",
       "                        <td id=\"T_fa8cf882_045f_11ed_b967_8e7759c05863row6_col3\" class=\"data row6 col3\" >0</td>\n",
       "                        <td id=\"T_fa8cf882_045f_11ed_b967_8e7759c05863row6_col4\" class=\"data row6 col4\" >0</td>\n",
       "                        <td id=\"T_fa8cf882_045f_11ed_b967_8e7759c05863row6_col5\" class=\"data row6 col5\" >0</td>\n",
       "                        <td id=\"T_fa8cf882_045f_11ed_b967_8e7759c05863row6_col6\" class=\"data row6 col6\" >0</td>\n",
       "                        <td id=\"T_fa8cf882_045f_11ed_b967_8e7759c05863row6_col7\" class=\"data row6 col7\" >0</td>\n",
       "                        <td id=\"T_fa8cf882_045f_11ed_b967_8e7759c05863row6_col8\" class=\"data row6 col8\" >0</td>\n",
       "                        <td id=\"T_fa8cf882_045f_11ed_b967_8e7759c05863row6_col9\" class=\"data row6 col9\" >0</td>\n",
       "                        <td id=\"T_fa8cf882_045f_11ed_b967_8e7759c05863row6_col10\" class=\"data row6 col10\" >249</td>\n",
       "                        <td id=\"T_fa8cf882_045f_11ed_b967_8e7759c05863row6_col11\" class=\"data row6 col11\" >253</td>\n",
       "                        <td id=\"T_fa8cf882_045f_11ed_b967_8e7759c05863row6_col12\" class=\"data row6 col12\" >245</td>\n",
       "                        <td id=\"T_fa8cf882_045f_11ed_b967_8e7759c05863row6_col13\" class=\"data row6 col13\" >126</td>\n",
       "                        <td id=\"T_fa8cf882_045f_11ed_b967_8e7759c05863row6_col14\" class=\"data row6 col14\" >0</td>\n",
       "                        <td id=\"T_fa8cf882_045f_11ed_b967_8e7759c05863row6_col15\" class=\"data row6 col15\" >0</td>\n",
       "                        <td id=\"T_fa8cf882_045f_11ed_b967_8e7759c05863row6_col16\" class=\"data row6 col16\" >0</td>\n",
       "                        <td id=\"T_fa8cf882_045f_11ed_b967_8e7759c05863row6_col17\" class=\"data row6 col17\" >0</td>\n",
       "            </tr>\n",
       "            <tr>\n",
       "                        <th id=\"T_fa8cf882_045f_11ed_b967_8e7759c05863level0_row7\" class=\"row_heading level0 row7\" >7</th>\n",
       "                        <td id=\"T_fa8cf882_045f_11ed_b967_8e7759c05863row7_col0\" class=\"data row7 col0\" >0</td>\n",
       "                        <td id=\"T_fa8cf882_045f_11ed_b967_8e7759c05863row7_col1\" class=\"data row7 col1\" >0</td>\n",
       "                        <td id=\"T_fa8cf882_045f_11ed_b967_8e7759c05863row7_col2\" class=\"data row7 col2\" >0</td>\n",
       "                        <td id=\"T_fa8cf882_045f_11ed_b967_8e7759c05863row7_col3\" class=\"data row7 col3\" >0</td>\n",
       "                        <td id=\"T_fa8cf882_045f_11ed_b967_8e7759c05863row7_col4\" class=\"data row7 col4\" >0</td>\n",
       "                        <td id=\"T_fa8cf882_045f_11ed_b967_8e7759c05863row7_col5\" class=\"data row7 col5\" >0</td>\n",
       "                        <td id=\"T_fa8cf882_045f_11ed_b967_8e7759c05863row7_col6\" class=\"data row7 col6\" >0</td>\n",
       "                        <td id=\"T_fa8cf882_045f_11ed_b967_8e7759c05863row7_col7\" class=\"data row7 col7\" >14</td>\n",
       "                        <td id=\"T_fa8cf882_045f_11ed_b967_8e7759c05863row7_col8\" class=\"data row7 col8\" >101</td>\n",
       "                        <td id=\"T_fa8cf882_045f_11ed_b967_8e7759c05863row7_col9\" class=\"data row7 col9\" >223</td>\n",
       "                        <td id=\"T_fa8cf882_045f_11ed_b967_8e7759c05863row7_col10\" class=\"data row7 col10\" >253</td>\n",
       "                        <td id=\"T_fa8cf882_045f_11ed_b967_8e7759c05863row7_col11\" class=\"data row7 col11\" >248</td>\n",
       "                        <td id=\"T_fa8cf882_045f_11ed_b967_8e7759c05863row7_col12\" class=\"data row7 col12\" >124</td>\n",
       "                        <td id=\"T_fa8cf882_045f_11ed_b967_8e7759c05863row7_col13\" class=\"data row7 col13\" >0</td>\n",
       "                        <td id=\"T_fa8cf882_045f_11ed_b967_8e7759c05863row7_col14\" class=\"data row7 col14\" >0</td>\n",
       "                        <td id=\"T_fa8cf882_045f_11ed_b967_8e7759c05863row7_col15\" class=\"data row7 col15\" >0</td>\n",
       "                        <td id=\"T_fa8cf882_045f_11ed_b967_8e7759c05863row7_col16\" class=\"data row7 col16\" >0</td>\n",
       "                        <td id=\"T_fa8cf882_045f_11ed_b967_8e7759c05863row7_col17\" class=\"data row7 col17\" >0</td>\n",
       "            </tr>\n",
       "            <tr>\n",
       "                        <th id=\"T_fa8cf882_045f_11ed_b967_8e7759c05863level0_row8\" class=\"row_heading level0 row8\" >8</th>\n",
       "                        <td id=\"T_fa8cf882_045f_11ed_b967_8e7759c05863row8_col0\" class=\"data row8 col0\" >0</td>\n",
       "                        <td id=\"T_fa8cf882_045f_11ed_b967_8e7759c05863row8_col1\" class=\"data row8 col1\" >0</td>\n",
       "                        <td id=\"T_fa8cf882_045f_11ed_b967_8e7759c05863row8_col2\" class=\"data row8 col2\" >0</td>\n",
       "                        <td id=\"T_fa8cf882_045f_11ed_b967_8e7759c05863row8_col3\" class=\"data row8 col3\" >0</td>\n",
       "                        <td id=\"T_fa8cf882_045f_11ed_b967_8e7759c05863row8_col4\" class=\"data row8 col4\" >0</td>\n",
       "                        <td id=\"T_fa8cf882_045f_11ed_b967_8e7759c05863row8_col5\" class=\"data row8 col5\" >11</td>\n",
       "                        <td id=\"T_fa8cf882_045f_11ed_b967_8e7759c05863row8_col6\" class=\"data row8 col6\" >166</td>\n",
       "                        <td id=\"T_fa8cf882_045f_11ed_b967_8e7759c05863row8_col7\" class=\"data row8 col7\" >239</td>\n",
       "                        <td id=\"T_fa8cf882_045f_11ed_b967_8e7759c05863row8_col8\" class=\"data row8 col8\" >253</td>\n",
       "                        <td id=\"T_fa8cf882_045f_11ed_b967_8e7759c05863row8_col9\" class=\"data row8 col9\" >253</td>\n",
       "                        <td id=\"T_fa8cf882_045f_11ed_b967_8e7759c05863row8_col10\" class=\"data row8 col10\" >253</td>\n",
       "                        <td id=\"T_fa8cf882_045f_11ed_b967_8e7759c05863row8_col11\" class=\"data row8 col11\" >187</td>\n",
       "                        <td id=\"T_fa8cf882_045f_11ed_b967_8e7759c05863row8_col12\" class=\"data row8 col12\" >30</td>\n",
       "                        <td id=\"T_fa8cf882_045f_11ed_b967_8e7759c05863row8_col13\" class=\"data row8 col13\" >0</td>\n",
       "                        <td id=\"T_fa8cf882_045f_11ed_b967_8e7759c05863row8_col14\" class=\"data row8 col14\" >0</td>\n",
       "                        <td id=\"T_fa8cf882_045f_11ed_b967_8e7759c05863row8_col15\" class=\"data row8 col15\" >0</td>\n",
       "                        <td id=\"T_fa8cf882_045f_11ed_b967_8e7759c05863row8_col16\" class=\"data row8 col16\" >0</td>\n",
       "                        <td id=\"T_fa8cf882_045f_11ed_b967_8e7759c05863row8_col17\" class=\"data row8 col17\" >0</td>\n",
       "            </tr>\n",
       "            <tr>\n",
       "                        <th id=\"T_fa8cf882_045f_11ed_b967_8e7759c05863level0_row9\" class=\"row_heading level0 row9\" >9</th>\n",
       "                        <td id=\"T_fa8cf882_045f_11ed_b967_8e7759c05863row9_col0\" class=\"data row9 col0\" >0</td>\n",
       "                        <td id=\"T_fa8cf882_045f_11ed_b967_8e7759c05863row9_col1\" class=\"data row9 col1\" >0</td>\n",
       "                        <td id=\"T_fa8cf882_045f_11ed_b967_8e7759c05863row9_col2\" class=\"data row9 col2\" >0</td>\n",
       "                        <td id=\"T_fa8cf882_045f_11ed_b967_8e7759c05863row9_col3\" class=\"data row9 col3\" >0</td>\n",
       "                        <td id=\"T_fa8cf882_045f_11ed_b967_8e7759c05863row9_col4\" class=\"data row9 col4\" >0</td>\n",
       "                        <td id=\"T_fa8cf882_045f_11ed_b967_8e7759c05863row9_col5\" class=\"data row9 col5\" >16</td>\n",
       "                        <td id=\"T_fa8cf882_045f_11ed_b967_8e7759c05863row9_col6\" class=\"data row9 col6\" >248</td>\n",
       "                        <td id=\"T_fa8cf882_045f_11ed_b967_8e7759c05863row9_col7\" class=\"data row9 col7\" >250</td>\n",
       "                        <td id=\"T_fa8cf882_045f_11ed_b967_8e7759c05863row9_col8\" class=\"data row9 col8\" >253</td>\n",
       "                        <td id=\"T_fa8cf882_045f_11ed_b967_8e7759c05863row9_col9\" class=\"data row9 col9\" >253</td>\n",
       "                        <td id=\"T_fa8cf882_045f_11ed_b967_8e7759c05863row9_col10\" class=\"data row9 col10\" >253</td>\n",
       "                        <td id=\"T_fa8cf882_045f_11ed_b967_8e7759c05863row9_col11\" class=\"data row9 col11\" >253</td>\n",
       "                        <td id=\"T_fa8cf882_045f_11ed_b967_8e7759c05863row9_col12\" class=\"data row9 col12\" >232</td>\n",
       "                        <td id=\"T_fa8cf882_045f_11ed_b967_8e7759c05863row9_col13\" class=\"data row9 col13\" >213</td>\n",
       "                        <td id=\"T_fa8cf882_045f_11ed_b967_8e7759c05863row9_col14\" class=\"data row9 col14\" >111</td>\n",
       "                        <td id=\"T_fa8cf882_045f_11ed_b967_8e7759c05863row9_col15\" class=\"data row9 col15\" >2</td>\n",
       "                        <td id=\"T_fa8cf882_045f_11ed_b967_8e7759c05863row9_col16\" class=\"data row9 col16\" >0</td>\n",
       "                        <td id=\"T_fa8cf882_045f_11ed_b967_8e7759c05863row9_col17\" class=\"data row9 col17\" >0</td>\n",
       "            </tr>\n",
       "            <tr>\n",
       "                        <th id=\"T_fa8cf882_045f_11ed_b967_8e7759c05863level0_row10\" class=\"row_heading level0 row10\" >10</th>\n",
       "                        <td id=\"T_fa8cf882_045f_11ed_b967_8e7759c05863row10_col0\" class=\"data row10 col0\" >0</td>\n",
       "                        <td id=\"T_fa8cf882_045f_11ed_b967_8e7759c05863row10_col1\" class=\"data row10 col1\" >0</td>\n",
       "                        <td id=\"T_fa8cf882_045f_11ed_b967_8e7759c05863row10_col2\" class=\"data row10 col2\" >0</td>\n",
       "                        <td id=\"T_fa8cf882_045f_11ed_b967_8e7759c05863row10_col3\" class=\"data row10 col3\" >0</td>\n",
       "                        <td id=\"T_fa8cf882_045f_11ed_b967_8e7759c05863row10_col4\" class=\"data row10 col4\" >0</td>\n",
       "                        <td id=\"T_fa8cf882_045f_11ed_b967_8e7759c05863row10_col5\" class=\"data row10 col5\" >0</td>\n",
       "                        <td id=\"T_fa8cf882_045f_11ed_b967_8e7759c05863row10_col6\" class=\"data row10 col6\" >0</td>\n",
       "                        <td id=\"T_fa8cf882_045f_11ed_b967_8e7759c05863row10_col7\" class=\"data row10 col7\" >43</td>\n",
       "                        <td id=\"T_fa8cf882_045f_11ed_b967_8e7759c05863row10_col8\" class=\"data row10 col8\" >98</td>\n",
       "                        <td id=\"T_fa8cf882_045f_11ed_b967_8e7759c05863row10_col9\" class=\"data row10 col9\" >98</td>\n",
       "                        <td id=\"T_fa8cf882_045f_11ed_b967_8e7759c05863row10_col10\" class=\"data row10 col10\" >208</td>\n",
       "                        <td id=\"T_fa8cf882_045f_11ed_b967_8e7759c05863row10_col11\" class=\"data row10 col11\" >253</td>\n",
       "                        <td id=\"T_fa8cf882_045f_11ed_b967_8e7759c05863row10_col12\" class=\"data row10 col12\" >253</td>\n",
       "                        <td id=\"T_fa8cf882_045f_11ed_b967_8e7759c05863row10_col13\" class=\"data row10 col13\" >253</td>\n",
       "                        <td id=\"T_fa8cf882_045f_11ed_b967_8e7759c05863row10_col14\" class=\"data row10 col14\" >253</td>\n",
       "                        <td id=\"T_fa8cf882_045f_11ed_b967_8e7759c05863row10_col15\" class=\"data row10 col15\" >187</td>\n",
       "                        <td id=\"T_fa8cf882_045f_11ed_b967_8e7759c05863row10_col16\" class=\"data row10 col16\" >22</td>\n",
       "                        <td id=\"T_fa8cf882_045f_11ed_b967_8e7759c05863row10_col17\" class=\"data row10 col17\" >0</td>\n",
       "            </tr>\n",
       "    </tbody></table>"
      ],
      "text/plain": [
       "<pandas.io.formats.style.Styler at 0x7fcb890b3b20>"
      ]
     },
     "execution_count": 160,
     "metadata": {},
     "output_type": "execute_result"
    }
   ],
   "source": [
    "img3_tensor = tensor(img3)\n",
    "df = pd.DataFrame(img3_tensor[4:15, 4:22])\n",
    "df.style.set_properties(**{'font-size': '6pt'}).background_gradient('Greys')"
   ]
  },
  {
   "cell_type": "markdown",
   "metadata": {},
   "source": [
    "## 4.2 Designing a Solution: 🤔 Stop and Think\n",
    "\n",
    "Before we see some approaches to solve this problem, spend some time thinking how *you* would solve the problem if this was a novel problem (i.e., if no one had attempted to solve it before, so Googling for an answer wouldn't help)"
   ]
  },
  {
   "cell_type": "markdown",
   "metadata": {},
   "source": [
    "**An Algorithmic Approach: Image as a Graph**\n",
    "\n",
    "One possibility is to segment each image into two atomic kinds of shapes: straight lines (vertical, horizontal or slanted) and curved lines. After having identified all such parts, we can build a graph where vertices represent the parts and edges the junctions between them.\n",
    "\n",
    "With such a representation, we can then use a \"soft\" graph isomorphism algorithm to find a similarity score between two graphs. This score would then serve to make a classification.\n",
    "\n",
    "Some challenges with this scheme are:\n",
    "\n",
    "+ **Nodes Relevance** If all nodes have the same relevance, strong noise in the image will end up affecting recognition performance. Therefore we need to weight vertices so as to give more importance to strokes that are more likely to be relevant for the identity of an object. Clearly, there is some learning involved in this, as it's very hard to code a priori which strokes matter most.\n",
    "\n",
    "\n",
    "+ **Shape Recognition** How do we recognize lines and arcs? Hard-coding shape detectors is one possibility, but we need to be careful about their definition to make them flexible enough. This means being able to detect lines in all possible orientations. Special casing is likely to lead to a brittle program, though. Another concern is how to deal with lines of various widths. Lines of a single pixel may be easy enough, but what about lines several pixels wide?\n",
    "\n",
    "\n",
    "+ **Graph Isomorphism** Even though graph isomorphism is a well-studied problem in mathematics (but a rather hard problem with no known general and efficient solution), in this instance we need something even more flexible that does pattern matching. This calls for additional research.\n",
    "\n",
    "One possibility to deal with the issue of thick lines might be to have a base algorithm (one that works on one-pixel lines) on eroded versions of the image (so as to thin thick lines), and then superpose the results into a single image to be fed into the algorithm that builds the graph.\n",
    "\n",
    "Something nice about this graph-based framework is that it can be used for more than the simple problem of handwritten digits recognition. For any problem where we can detect individual features, and those features have relationships among each other, this general algorithm can prove useful."
   ]
  },
  {
   "cell_type": "markdown",
   "metadata": {},
   "source": [
    "## 4.3 First Approach: Pixelwise Similarity\n",
    "One approach to solve this problem is to build an \"ideal\" number for each category (an ideal 3 and an ideal 7) from the training data, and then during inference compute the \"distance\" to that ideal number.\n",
    "\n",
    "The distance can be defined as the mean of the differences between individual pixels, and the ideal number for each category could be simply the average of the corresponding training samples."
   ]
  },
  {
   "cell_type": "code",
   "execution_count": 161,
   "metadata": {},
   "outputs": [
    {
     "data": {
      "text/plain": [
       "(6131, 6265)"
      ]
     },
     "execution_count": 161,
     "metadata": {},
     "output_type": "execute_result"
    }
   ],
   "source": [
    "seven_tensors = [tensor(Image.open(path)) for path in sevens]\n",
    "three_tensors = [tensor(Image.open(path)) for path in threes]\n",
    "len(three_tensors), len(seven_tensors)"
   ]
  },
  {
   "cell_type": "code",
   "execution_count": 162,
   "metadata": {},
   "outputs": [
    {
     "data": {
      "text/plain": [
       "torch.Size([28, 28])"
      ]
     },
     "execution_count": 162,
     "metadata": {},
     "output_type": "execute_result"
    },
    {
     "data": {
      "image/png": "[encoded data removed]",
      "text/plain": [
       "<Figure size 72x72 with 1 Axes>"
      ]
     },
     "metadata": {
      "needs_background": "light"
     },
     "output_type": "display_data"
    }
   ],
   "source": [
    "show_image(three_tensors[1])\n",
    "seven_tensors[0].shape"
   ]
  },
  {
   "cell_type": "code",
   "execution_count": 163,
   "metadata": {},
   "outputs": [
    {
     "data": {
      "text/plain": [
       "(torch.Size([6131, 28, 28]), torch.Size([6265, 28, 28]))"
      ]
     },
     "execution_count": 163,
     "metadata": {},
     "output_type": "execute_result"
    }
   ],
   "source": [
    "# We divide by 255 to normalize (remember that pixels\n",
    "# are in the range 0-255). Even though this is not\n",
    "# absolutely necessary, it is a useful trick to help\n",
    "# deep learning models learn faster.\n",
    "stacked_7s = torch.stack(seven_tensors).float() / 255\n",
    "\n",
    "# We also stack the images into a single tensor because\n",
    "# models in PyTorch only take tensors as inputs.\n",
    "stacked_3s = torch.stack(three_tensors).float() / 255\n",
    "stacked_3s.shape, stacked_7s.shape"
   ]
  },
  {
   "cell_type": "markdown",
   "metadata": {},
   "source": [
    "### \"Ideal\" 3 and 7"
   ]
  },
  {
   "cell_type": "code",
   "execution_count": 164,
   "metadata": {},
   "outputs": [
    {
     "data": {
      "text/plain": [
       "torch.Size([28, 28])"
      ]
     },
     "execution_count": 164,
     "metadata": {},
     "output_type": "execute_result"
    },
    {
     "data": {
      "image/png": "[encoded data removed]",
      "text/plain": [
       "<Figure size 72x72 with 1 Axes>"
      ]
     },
     "metadata": {
      "needs_background": "light"
     },
     "output_type": "display_data"
    },
    {
     "data": {
      "image/png": "[encoded data removed]",
      "text/plain": [
       "<Figure size 72x72 with 1 Axes>"
      ]
     },
     "metadata": {
      "needs_background": "light"
     },
     "output_type": "display_data"
    },
    {
     "data": {
      "image/png": "[encoded data removed]",
      "text/plain": [
       "<Figure size 72x72 with 1 Axes>"
      ]
     },
     "metadata": {
      "needs_background": "light"
     },
     "output_type": "display_data"
    }
   ],
   "source": [
    "# Taking the mean on axis=0 means that:\n",
    "#\n",
    "# 1) the result will have the axis=0 removed;\n",
    "# 2) each element in the result (in this case, each pixel) will be the mean\n",
    "#    of all elements with the same coordinate (excluding the coordinate for\n",
    "#    axis=0); i.e., result[i,j] = mean(stacked_3s[:,i,j])\n",
    "ideal3 = stacked_3s.mean(axis=0)\n",
    "show_image(ideal3), show_image(stacked_3s[0]), show_image(stacked_3s[1])\n",
    "ideal3.shape"
   ]
  },
  {
   "cell_type": "code",
   "execution_count": 165,
   "metadata": {},
   "outputs": [
    {
     "data": {
      "text/plain": [
       "torch.Size([28, 28])"
      ]
     },
     "execution_count": 165,
     "metadata": {},
     "output_type": "execute_result"
    },
    {
     "data": {
      "image/png": "[encoded data removed]",
      "text/plain": [
       "<Figure size 72x72 with 1 Axes>"
      ]
     },
     "metadata": {
      "needs_background": "light"
     },
     "output_type": "display_data"
    },
    {
     "data": {
      "image/png": "[encoded data removed]",
      "text/plain": [
       "<Figure size 72x72 with 1 Axes>"
      ]
     },
     "metadata": {
      "needs_background": "light"
     },
     "output_type": "display_data"
    },
    {
     "data": {
      "image/png": "[encoded data removed]",
      "text/plain": [
       "<Figure size 72x72 with 1 Axes>"
      ]
     },
     "metadata": {
      "needs_background": "light"
     },
     "output_type": "display_data"
    }
   ],
   "source": [
    "ideal7 = stacked_7s.mean(axis=0)\n",
    "show_image(ideal7), show_image(stacked_7s[0]), show_image(stacked_7s[1])\n",
    "ideal7.shape"
   ]
  },
  {
   "cell_type": "markdown",
   "metadata": {},
   "source": [
    "### 🤔 Stop and Think\n",
    "\n",
    "**How would you define similarity between tensors representing threes or sevens?**\n",
    "\n",
    "One possibility is to \"flatten\" the images and consider them as one-dimensional vectors. This will discard spatial information, but maybe it will be good enough for our purposes.\n",
    "\n",
    "Once they've been turned into vectors, we can use one of the well-known similarity measures between vectors (e.g., `F.cosine_similarity`)"
   ]
  },
  {
   "cell_type": "code",
   "execution_count": 166,
   "metadata": {},
   "outputs": [
    {
     "data": {
      "text/plain": [
       "torch.Size([6131, 28, 28])"
      ]
     },
     "execution_count": 166,
     "metadata": {},
     "output_type": "execute_result"
    }
   ],
   "source": [
    "stacked_3s.shape"
   ]
  },
  {
   "cell_type": "code",
   "execution_count": 167,
   "metadata": {},
   "outputs": [
    {
     "data": {
      "text/plain": [
       "torch.Size([6131, 784])"
      ]
     },
     "execution_count": 167,
     "metadata": {},
     "output_type": "execute_result"
    }
   ],
   "source": [
    "stacked_3s.reshape(stacked_3s.shape[0], -1).shape"
   ]
  },
  {
   "cell_type": "code",
   "execution_count": 168,
   "metadata": {},
   "outputs": [
    {
     "data": {
      "text/plain": [
       "tensor(0.8533)"
      ]
     },
     "execution_count": 168,
     "metadata": {},
     "output_type": "execute_result"
    },
    {
     "data": {
      "image/png": "[encoded data removed]",
      "text/plain": [
       "<Figure size 72x72 with 1 Axes>"
      ]
     },
     "metadata": {
      "needs_background": "light"
     },
     "output_type": "display_data"
    },
    {
     "data": {
      "image/png": "[encoded data removed]",
      "text/plain": [
       "<Figure size 72x72 with 1 Axes>"
      ]
     },
     "metadata": {
      "needs_background": "light"
     },
     "output_type": "display_data"
    }
   ],
   "source": [
    "ideal3_vector = ideal3.reshape(-1)\n",
    "some3_vector = stacked_3s[0].reshape(-1)\n",
    "\n",
    "# We have to explicitly say dim=0 because by the default\n",
    "# PyTorch assumes we're passing tensors where the first\n",
    "# dimension indexes the samples\n",
    "show_image(ideal3), show_image(stacked_3s[0])\n",
    "F.cosine_similarity(ideal3_vector, some3_vector, dim=0)"
   ]
  },
  {
   "cell_type": "code",
   "execution_count": 169,
   "metadata": {},
   "outputs": [
    {
     "data": {
      "text/plain": [
       "tensor(0.5813)"
      ]
     },
     "execution_count": 169,
     "metadata": {},
     "output_type": "execute_result"
    },
    {
     "data": {
      "image/png": "[encoded data removed]",
      "text/plain": [
       "<Figure size 72x72 with 1 Axes>"
      ]
     },
     "metadata": {
      "needs_background": "light"
     },
     "output_type": "display_data"
    },
    {
     "data": {
      "image/png": "[encoded data removed]",
      "text/plain": [
       "<Figure size 72x72 with 1 Axes>"
      ]
     },
     "metadata": {
      "needs_background": "light"
     },
     "output_type": "display_data"
    }
   ],
   "source": [
    "some7_vector = stacked_7s[0].reshape(-1)\n",
    "\n",
    "# We have to explicitly say dim=0 because by the default\n",
    "# PyTorch assumes we're computing on tensors where the\n",
    "# first dimension indexes the batch of samples\n",
    "show_image(ideal3), show_image(stacked_7s[0])\n",
    "F.cosine_similarity(ideal3_vector, some7_vector, dim=0)"
   ]
  },
  {
   "cell_type": "code",
   "execution_count": 170,
   "metadata": {},
   "outputs": [
    {
     "data": {
      "text/plain": [
       "tensor(0.8362)"
      ]
     },
     "execution_count": 170,
     "metadata": {},
     "output_type": "execute_result"
    },
    {
     "data": {
      "image/png": "[encoded data removed]",
      "text/plain": [
       "<Figure size 72x72 with 1 Axes>"
      ]
     },
     "metadata": {
      "needs_background": "light"
     },
     "output_type": "display_data"
    },
    {
     "data": {
      "image/png": "[encoded data removed]",
      "text/plain": [
       "<Figure size 72x72 with 1 Axes>"
      ]
     },
     "metadata": {
      "needs_background": "light"
     },
     "output_type": "display_data"
    }
   ],
   "source": [
    "ideal7_vector = ideal7.reshape(-1)\n",
    "\n",
    "show_image(ideal7), show_image(stacked_7s[0])\n",
    "F.cosine_similarity(ideal7_vector, some7_vector, dim=0)"
   ]
  },
  {
   "cell_type": "markdown",
   "metadata": {},
   "source": [
    "### Cosine Similarity Interpretation\n",
    "Something to keep in mind is that the range of the cosine similarity function is `[-1, +1]`. The more similar two vectors are to each other, the values approach 1. The more dissimilar they are, the values approach -1."
   ]
  },
  {
   "cell_type": "code",
   "execution_count": 171,
   "metadata": {},
   "outputs": [
    {
     "data": {
      "text/plain": [
       "torch.Size([6131, 28, 28])"
      ]
     },
     "execution_count": 171,
     "metadata": {},
     "output_type": "execute_result"
    }
   ],
   "source": [
    "stacked_3s.shape # => [6131, 28, 28] but we need [6131, 784]"
   ]
  },
  {
   "cell_type": "code",
   "execution_count": 172,
   "metadata": {},
   "outputs": [
    {
     "data": {
      "text/plain": [
       "tensor(0.7257)"
      ]
     },
     "execution_count": 172,
     "metadata": {},
     "output_type": "execute_result"
    }
   ],
   "source": [
    "# Comparing an ideal 3 to all 3s\n",
    "stacked_3s_as_vectors = stacked_3s.reshape(stacked_3s.shape[0], -1)\n",
    "similarities1_0 = F.cosine_similarity(\n",
    "    # dim=-1 instructs PyTorch to use the vector in the last dimension\n",
    "    # of the tensors to compute the similarity (keep in mind that the\n",
    "    # first one indexes samples)\n",
    "    stacked_3s_as_vectors, ideal3_vector, dim=-1)\n",
    "similarities1_0.mean()"
   ]
  },
  {
   "cell_type": "code",
   "execution_count": 173,
   "metadata": {},
   "outputs": [
    {
     "data": {
      "text/plain": [
       "tensor(0.5013)"
      ]
     },
     "execution_count": 173,
     "metadata": {},
     "output_type": "execute_result"
    }
   ],
   "source": [
    "# Comparing an ideal 3 to all 7s\n",
    "stacked_7s_as_vectors = stacked_7s.reshape(stacked_7s.shape[0], -1)\n",
    "similarities2_0 = F.cosine_similarity(\n",
    "    stacked_7s_as_vectors, ideal3_vector, dim=-1)\n",
    "similarities2_0.mean()"
   ]
  },
  {
   "cell_type": "markdown",
   "metadata": {},
   "source": [
    "The following figure illustrates how `F.cosine_similarity` handles a comparison between a tensors with multiple vectors (shape NxD) and a tensor with just a vector (shape D):\n",
    "\n",
    "![Broadcasting Tensors](https://www.w3resource.com/w3r_images/python-numpy-exercise-124.svg)\n",
    "\n",
    "The figure shows the concept of \"broadcasting\" with the `+` operator, but you can in fact use any other operator which works on scalars. We'll see this important concept in more detail later on."
   ]
  },
  {
   "cell_type": "markdown",
   "metadata": {},
   "source": [
    "### Other Similarity Measures\n",
    "It is also possible to use other distance measures between vectors, but one thing to consider is normalization (although that's merely for interpretation; if ranking or pairwise comparison is all we need, then absolute distance is just fine).\n",
    "\n",
    "For example, PyTorch defines the `pairwise_distance` function, which works as follows:"
   ]
  },
  {
   "cell_type": "code",
   "execution_count": 174,
   "metadata": {},
   "outputs": [
    {
     "data": {
      "text/plain": [
       "tensor(8.0184)"
      ]
     },
     "execution_count": 174,
     "metadata": {},
     "output_type": "execute_result"
    }
   ],
   "source": [
    "# comparing an ideal 3 to all 3s (alternative)\n",
    "similarities2_0 = F.pairwise_distance(\n",
    "    stacked_7s.reshape(stacked_7s.shape[0], -1), ideal3_vector)\n",
    "similarities2_0.mean()"
   ]
  },
  {
   "cell_type": "code",
   "execution_count": 175,
   "metadata": {},
   "outputs": [
    {
     "data": {
      "text/plain": [
       "tensor(6.6454)"
      ]
     },
     "execution_count": 175,
     "metadata": {},
     "output_type": "execute_result"
    }
   ],
   "source": [
    "# comparing an ideal 3 to all 7s (alternative)\n",
    "similarities1_1 = F.pairwise_distance(\n",
    "    stacked_3s.reshape(stacked_3s.shape[0], -1), ideal3_vector)\n",
    "similarities1_1.mean()"
   ]
  },
  {
   "cell_type": "code",
   "execution_count": 176,
   "metadata": {},
   "outputs": [
    {
     "data": {
      "text/plain": [
       "<AxesSubplot:>"
      ]
     },
     "execution_count": 176,
     "metadata": {},
     "output_type": "execute_result"
    },
    {
     "data": {
      "image/png": "[encoded data removed]",
      "text/plain": [
       "<Figure size 72x72 with 1 Axes>"
      ]
     },
     "metadata": {
      "needs_background": "light"
     },
     "output_type": "display_data"
    }
   ],
   "source": [
    "some3 = stacked_3s[1]\n",
    "show_image(some3)"
   ]
  },
  {
   "cell_type": "markdown",
   "metadata": {},
   "source": [
    "## 4.4 Model Evaluation: Loss Functions\n",
    "\n",
    "Although we could definitely use some of the distance functions we saw above to construct a loss function for our problem, we can also find similarity between images in their original form by looking at differences between individual pixels and then averaging the results across each image:"
   ]
  },
  {
   "cell_type": "code",
   "execution_count": 177,
   "metadata": {},
   "outputs": [
    {
     "data": {
      "text/plain": [
       "(tensor(0.1114), tensor(0.2021))"
      ]
     },
     "execution_count": 177,
     "metadata": {},
     "output_type": "execute_result"
    }
   ],
   "source": [
    "# (some3 - ideal3) is an element-wise operation between tensors\n",
    "distance_3_abs = (some3 - ideal3).abs().mean()\n",
    "# rmse: root mean squared error\n",
    "distance_3_rmse = ((some3 - ideal3)**2).mean().sqrt()\n",
    "distance_3_abs, distance_3_rmse"
   ]
  },
  {
   "cell_type": "code",
   "execution_count": 178,
   "metadata": {},
   "outputs": [
    {
     "data": {
      "text/plain": [
       "(tensor(0.1586), tensor(0.3021))"
      ]
     },
     "execution_count": 178,
     "metadata": {},
     "output_type": "execute_result"
    }
   ],
   "source": [
    "distance_7_abs = (some3 - ideal7).abs().mean()\n",
    "# rmse: root mean squared error\n",
    "distance_7_rmse = ((some3 - ideal7)**2).mean().sqrt()\n",
    "distance_7_abs, distance_7_rmse"
   ]
  },
  {
   "cell_type": "markdown",
   "metadata": {},
   "source": [
    "PyTorch (accessible in `fastai` in the `F` namespace) has functions for both of these cost functions:"
   ]
  },
  {
   "cell_type": "code",
   "execution_count": 179,
   "metadata": {},
   "outputs": [
    {
     "data": {
      "text/plain": [
       "(tensor(0.1586), tensor(0.3021))"
      ]
     },
     "execution_count": 179,
     "metadata": {},
     "output_type": "execute_result"
    }
   ],
   "source": [
    "F.l1_loss(some3, ideal7), F.mse_loss(some3, ideal7).sqrt()"
   ]
  },
  {
   "cell_type": "markdown",
   "metadata": {},
   "source": [
    "`l1` stands for \"L1 norm\". Roughly speaking, a norm represents the \"size\" of a vector. You can read more about it [here](https://machinelearningmastery.com/vector-norms-machine-learning/#:~:text=The%20length%20of%20the%20vector,vector's%20magnitude%20or%20the%20norm)"
   ]
  },
  {
   "cell_type": "markdown",
   "metadata": {},
   "source": [
    "### Validation Set\n",
    "For the purposes of evaluating a model, it is crucial to have a validation set that we didn't use during training:"
   ]
  },
  {
   "cell_type": "code",
   "execution_count": 180,
   "metadata": {},
   "outputs": [],
   "source": [
    "threes_path = path/'valid'/'3'\n",
    "validation_3s = torch.stack([tensor(Image.open(path)) for path in threes_path.ls()])\n",
    "validation_3s = validation_3s.float() / 255"
   ]
  },
  {
   "cell_type": "code",
   "execution_count": 181,
   "metadata": {},
   "outputs": [],
   "source": [
    "sevens_path = path/'valid'/'7'\n",
    "validation_7s = torch.stack([tensor(Image.open(path)) for path in sevens_path.ls()])\n",
    "validation_7s = validation_7s.float() / 255"
   ]
  },
  {
   "cell_type": "code",
   "execution_count": 182,
   "metadata": {},
   "outputs": [
    {
     "data": {
      "text/plain": [
       "(torch.Size([1010, 28, 28]), torch.Size([1028, 28, 28]))"
      ]
     },
     "execution_count": 182,
     "metadata": {},
     "output_type": "execute_result"
    }
   ],
   "source": [
    "validation_3s.shape, validation_7s.shape"
   ]
  },
  {
   "cell_type": "markdown",
   "metadata": {},
   "source": [
    "### Pixelwise Loss Function\n",
    "The following function will capture the amount of error (distance) between ideal numbers and the samples we want to classify:"
   ]
  },
  {
   "cell_type": "code",
   "execution_count": 183,
   "metadata": {},
   "outputs": [],
   "source": [
    "def mnist_distance(ideal, sample):\n",
    "    # a.shape === b.shape (virtually at least, because of broadcasting)\n",
    "    # (-1, -2) means to perform the mean across the last and the second-to-last axes\n",
    "    return (ideal-sample).abs().mean((-1, -2))"
   ]
  },
  {
   "cell_type": "code",
   "execution_count": 184,
   "metadata": {},
   "outputs": [
    {
     "data": {
      "text/plain": [
       "tensor(0.1114)"
      ]
     },
     "execution_count": 184,
     "metadata": {},
     "output_type": "execute_result"
    }
   ],
   "source": [
    "mnist_distance(ideal3, some3)"
   ]
  },
  {
   "cell_type": "code",
   "execution_count": 185,
   "metadata": {},
   "outputs": [
    {
     "data": {
      "text/plain": [
       "(tensor([0.1328, 0.1523, 0.1245,  ..., 0.1383, 0.1280, 0.1138]),\n",
       " torch.Size([1010]))"
      ]
     },
     "execution_count": 185,
     "metadata": {},
     "output_type": "execute_result"
    }
   ],
   "source": [
    "# This will compute the absolute differences between corresponding pixels in the \n",
    "# validation 3s and  the \"ideal\" 3. The results for each image will then be averaged,\n",
    "# resulting in a vector of \"distances\"\n",
    "distance_validation_3s = mnist_distance(ideal3, validation_3s)\n",
    "distance_validation_3s, distance_validation_3s.shape"
   ]
  },
  {
   "cell_type": "markdown",
   "metadata": {},
   "source": [
    "### Broadcasting"
   ]
  },
  {
   "cell_type": "markdown",
   "metadata": {},
   "source": [
    "If you've been paying attention, you may be wondering how it is possible that despite the fact that `validation_3s` and `ideal3` have different shapes:"
   ]
  },
  {
   "cell_type": "code",
   "execution_count": 186,
   "metadata": {},
   "outputs": [
    {
     "ename": "NameError",
     "evalue": "name 'mean3' is not defined",
     "output_type": "error",
     "traceback": [
      "\u001b[0;31m---------------------------------------------------------------------------\u001b[0m",
      "\u001b[0;31mNameError\u001b[0m                                 Traceback (most recent call last)",
      "\u001b[0;32m<ipython-input-186-f1a0c78d3aaa>\u001b[0m in \u001b[0;36m<module>\u001b[0;34m\u001b[0m\n\u001b[0;32m----> 1\u001b[0;31m \u001b[0mvalidation_3s\u001b[0m\u001b[0;34m.\u001b[0m\u001b[0mshape\u001b[0m\u001b[0;34m,\u001b[0m \u001b[0mmean3\u001b[0m\u001b[0;34m.\u001b[0m\u001b[0mshape\u001b[0m\u001b[0;34m\u001b[0m\u001b[0;34m\u001b[0m\u001b[0m\n\u001b[0m",
      "\u001b[0;31mNameError\u001b[0m: name 'mean3' is not defined"
     ]
    }
   ],
   "source": [
    "validation_3s.shape, mean3.shape"
   ]
  },
  {
   "cell_type": "markdown",
   "metadata": {},
   "source": [
    "`mnist_distance` was able to perform the subtraction between `ideal` and `sample` correctly. The reason for this is that PyTorch does \"broadcasting\". Roughly speaking:\n",
    "\n",
    "> Broadcasting is an operation of matching the dimensions of differently shaped arrays in order to be able to perform further operations on those arrays (e.g., per-element arithmetic).\n",
    "\n",
    "See the following resources to get a better grasp of how broadcasting works:\n",
    "\n",
    "+ [How Broadcasting Works](https://stackoverflow.com/questions/51371070/how-does-pytorch-broadcasting-work)\n",
    "+ [Broadcasting in Numpy](https://towardsdatascience.com/broadcasting-in-numpy-58856f926d73)"
   ]
  },
  {
   "cell_type": "code",
   "execution_count": null,
   "metadata": {},
   "outputs": [],
   "source": [
    "def is_3(x):\n",
    "    return mnist_distance(x, mean3) < mnist_distance(x, mean7)"
   ]
  },
  {
   "cell_type": "code",
   "execution_count": null,
   "metadata": {},
   "outputs": [],
   "source": [
    "is_3(some3), is_3(some3).float()"
   ]
  },
  {
   "cell_type": "code",
   "execution_count": null,
   "metadata": {},
   "outputs": [],
   "source": [
    "some7 = stacked_7s[1]\n",
    "show_image(some7)"
   ]
  },
  {
   "cell_type": "code",
   "execution_count": null,
   "metadata": {},
   "outputs": [],
   "source": [
    "is_3(some7), is_3(some7).float()"
   ]
  },
  {
   "cell_type": "code",
   "execution_count": null,
   "metadata": {},
   "outputs": [],
   "source": [
    "validation_3s.shape"
   ]
  },
  {
   "cell_type": "code",
   "execution_count": null,
   "metadata": {},
   "outputs": [],
   "source": [
    "# Broadcasting at play once again!\n",
    "is_3(validation_3s).float()"
   ]
  },
  {
   "cell_type": "code",
   "execution_count": null,
   "metadata": {},
   "outputs": [],
   "source": [
    "accuracy_3s = is_3(validation_3s).float().mean()\n",
    "accuracy_7s = (1 - is_3(validation_7s).float()).mean()\n",
    "\n",
    "print(f'3s accuracy: {round(accuracy_3s.item(), 3)}')\n",
    "print(f'7s accuracy: {round(accuracy_7s.item(), 3)}')\n",
    "print(f'average accuracy: {round((accuracy_3s + accuracy_7s).item() / 2.0, 3)}')"
   ]
  },
  {
   "cell_type": "markdown",
   "metadata": {},
   "source": [
    "Now let's see how this accuracy compares to the one we get by changing the distance metric. `mnist_distance2` transforms an image into a flat vector and compares two images so represented using cosine similarity:"
   ]
  },
  {
   "cell_type": "code",
   "execution_count": null,
   "metadata": {},
   "outputs": [],
   "source": [
    "def mnist_distance2(ideal, sample):\n",
    "    # Semantically, ideal and sample are images (or collections of images)\n",
    "    # a.shape === (N, W, H) where N === samples, W === image width, H  === image height\n",
    "    ideal = torch.flatten(ideal, start_dim=-2)\n",
    "    sample = torch.flatten(sample, start_dim=-2)\n",
    "    return 1.0 - F.cosine_similarity(ideal, sample, dim=-1)"
   ]
  },
  {
   "cell_type": "code",
   "execution_count": null,
   "metadata": {},
   "outputs": [],
   "source": [
    "mnist_distance2(some3, ideal7)"
   ]
  },
  {
   "cell_type": "code",
   "execution_count": null,
   "metadata": {},
   "outputs": [],
   "source": [
    "def is_3(x):\n",
    "    return mnist_distance2(x, mean3) < mnist_distance2(x, mean7)"
   ]
  },
  {
   "cell_type": "code",
   "execution_count": null,
   "metadata": {},
   "outputs": [],
   "source": [
    "accuracy_3s = is_3(validation_3s).float().mean()\n",
    "accuracy_7s = (1 - is_3(validation_7s).float()).mean()\n",
    "\n",
    "print(f'3s accuracy: {round(accuracy_3s.item(), 3)}')\n",
    "print(f'7s accuracy: {round(accuracy_7s.item(), 3)}')\n",
    "print(f'average accuracy: {round((accuracy_3s + accuracy_7s).item() / 2.0, 3)}')"
   ]
  },
  {
   "cell_type": "markdown",
   "metadata": {},
   "source": [
    "Interestingly, the average accuracy increases by a little over 1%, mostly thanks to the increase in accuracy for 3s and despite the decrease in accuracy for 7s"
   ]
  },
  {
   "cell_type": "markdown",
   "metadata": {},
   "source": [
    "## 4.4 SGD: Stochastic Gradient Descent\n",
    "**Key Concepts**\n",
    "+ Loss (Cost) Function\n",
    "+ Learning Rate\n",
    "+ Model Parameters\n",
    "\n",
    "SGD is an algorithm used to find the optimal weights in a neural network, i.e., the weights that will turn the neural network into a function approximator for the task we're interested in.\n",
    "\n",
    "### 1-dimensional SGD\n",
    "If our problem only had a single variable, the loss function might look as an inverted parabola, and finding the best possible network would amount to finding the minimum of this function, as illustrated in the following figure:"
   ]
  },
  {
   "cell_type": "markdown",
   "metadata": {},
   "source": [
    "![](https://miro.medium.com/max/1400/1*GTRi-Y2doXbbrc4lGJYH-w.png)"
   ]
  },
  {
   "cell_type": "markdown",
   "metadata": {},
   "source": [
    "### 2-dimensional SGD\n",
    "The following pictures illustrates the same concept when using 2 variables. Notice that because we're not using only a subset (in the extreme a single training example at a time), our \"descent\" to the optimum may be irregular:"
   ]
  },
  {
   "cell_type": "markdown",
   "metadata": {},
   "source": [
    "|![](https://www.researchgate.net/profile/Xudong-Huang-4/publication/328106221/figure/fig3/AS:678422925807621@1538760038610/Stochastic-gradient-descent-compared-with-gradient-descent.png)|\n",
    "|:--:|\n",
    "|*Contours view of the loss surface for 2D function*|"
   ]
  },
  {
   "cell_type": "markdown",
   "metadata": {},
   "source": [
    "|![GD in 2D](https://metamug.com/article/images/gradient-descent.png)|\n",
    "|:--:|\n",
    "|*Surface of a 2-dimensional loss function*|"
   ]
  },
  {
   "cell_type": "markdown",
   "metadata": {},
   "source": [
    "### SGD for Computational Graphs\n",
    "More generally, SGD can be used to find the optimal weights for any computational graph that ends with a loss function. A neural network is an instance of a computational graph. We'll see what a computational graph looks like in a moment."
   ]
  },
  {
   "cell_type": "markdown",
   "metadata": {},
   "source": [
    "PyTorch has built-in support for automatic differentiation of the elements in the neural network (and in general for any computational graph). For example, for the following expression:\n",
    "\n",
    "```python\n",
    "x = torch.tensor(1)\n",
    "y = torch.tensor(2)\n",
    "v = x * y\n",
    "w = torch.log(v)\n",
    "z = w\n",
    "```\n",
    "\n",
    "The following figure illustrates both its forward and backward computational graph:"
   ]
  },
  {
   "cell_type": "markdown",
   "metadata": {},
   "source": [
    "|![Computional Graph PyTorch](https://pytorch.org/assets/images/computational_graph_reverse_auto_differentiation.png)|\n",
    "|:--:|\n",
    "|*Computational graph of `z=log(x.y)`*|"
   ]
  },
  {
   "cell_type": "markdown",
   "metadata": {},
   "source": [
    "This works with scalars (tensors of 0 dimension)..."
   ]
  },
  {
   "cell_type": "markdown",
   "metadata": {},
   "source": [
    "$$ \n",
    "f(x) = x^2 \n",
    "$$\n",
    "\n",
    "$$\n",
    "\\frac{\\partial f}{\\partial x} = 2x\n",
    "$$"
   ]
  },
  {
   "cell_type": "markdown",
   "metadata": {},
   "source": [
    "### Automatic Differentiation (Automated Chain Rule)\n",
    "In the previous computational graph, we saw both how the predictions (blue path), and the gradients to update the weights (green path) are computed.\n",
    "\n",
    "In PyTorch, it is usually only needed to specify the former as the latter is automatically inferred, as long as the functions we specify are common. For functions unknown to PyTorch, it is necessary to provide both the forward and backward functions to fit into this framework."
   ]
  },
  {
   "cell_type": "code",
   "execution_count": null,
   "metadata": {},
   "outputs": [],
   "source": [
    "def f(x):\n",
    "    return x**2\n",
    "\n",
    "xt = tensor(3.0).requires_grad_()\n",
    "yt = f(xt); yt"
   ]
  },
  {
   "cell_type": "code",
   "execution_count": null,
   "metadata": {},
   "outputs": [],
   "source": [
    "xt.requires_grad"
   ]
  },
  {
   "cell_type": "code",
   "execution_count": null,
   "metadata": {},
   "outputs": [],
   "source": [
    "# compute gradients for all tensors with `requires_grad=True`\n",
    "yt.backward()"
   ]
  },
  {
   "cell_type": "code",
   "execution_count": null,
   "metadata": {},
   "outputs": [],
   "source": [
    "xt.grad"
   ]
  },
  {
   "cell_type": "markdown",
   "metadata": {},
   "source": [
    "...but it also works with tensors of arbitrary shape:"
   ]
  },
  {
   "cell_type": "code",
   "execution_count": null,
   "metadata": {},
   "outputs": [],
   "source": [
    "xt = tensor([3.0, 4.0, 10.0], requires_grad=True)"
   ]
  },
  {
   "cell_type": "code",
   "execution_count": null,
   "metadata": {},
   "outputs": [],
   "source": [
    "xt.requires_grad"
   ]
  },
  {
   "cell_type": "markdown",
   "metadata": {},
   "source": [
    "|![Computational Graph PyTorch](https://user-images.githubusercontent.com/442314/179265235-29dc51fe-2d8d-41f1-893f-582509c73f2a.png)|\n",
    "|:--:|\n",
    "|*Computational graph of `y=sum(exp(x))`*|"
   ]
  },
  {
   "cell_type": "code",
   "execution_count": null,
   "metadata": {},
   "outputs": [],
   "source": [
    "def f(x):\n",
    "    return (x**2).sum()\n",
    "\n",
    "yt = f(xt)\n",
    "yt"
   ]
  },
  {
   "cell_type": "code",
   "execution_count": null,
   "metadata": {},
   "outputs": [],
   "source": [
    "yt.backward()\n",
    "xt.grad"
   ]
  },
  {
   "cell_type": "markdown",
   "metadata": {},
   "source": [
    "### End-to-End SGD Example"
   ]
  },
  {
   "cell_type": "code",
   "execution_count": null,
   "metadata": {},
   "outputs": [],
   "source": [
    "time = torch.arange(0, 20).float(); time"
   ]
  },
  {
   "cell_type": "code",
   "execution_count": null,
   "metadata": {},
   "outputs": [],
   "source": [
    "speed = torch.rand(20) * 3 + 0.75 * (time-9.5)**2 + 1\n",
    "plt.scatter(time, speed)"
   ]
  },
  {
   "cell_type": "markdown",
   "metadata": {},
   "source": [
    "$$\n",
    "\\Large f(t) = at^2 + bt + c\n",
    "$$"
   ]
  },
  {
   "cell_type": "code",
   "execution_count": null,
   "metadata": {},
   "outputs": [],
   "source": [
    "def f(t, params):\n",
    "    a, b, c = params\n",
    "    return a*(t**2) + (b*t) + c"
   ]
  },
  {
   "cell_type": "code",
   "execution_count": null,
   "metadata": {},
   "outputs": [],
   "source": [
    "def mse(predictions, targets):\n",
    "    return ((predictions-targets)**2).mean().sqrt()"
   ]
  },
  {
   "cell_type": "code",
   "execution_count": null,
   "metadata": {},
   "outputs": [],
   "source": [
    "params = torch.randn(3).requires_grad_()"
   ]
  },
  {
   "cell_type": "code",
   "execution_count": null,
   "metadata": {},
   "outputs": [],
   "source": [
    "predictions = f(time, params)"
   ]
  },
  {
   "cell_type": "code",
   "execution_count": null,
   "metadata": {},
   "outputs": [],
   "source": [
    "def show_predictions(predictions, ax=None):\n",
    "    if ax is None:\n",
    "        ax = plt.subplots()[1]\n",
    "    ax.scatter(time, speed)\n",
    "    # to_np is necessary because matplotlib only understands\n",
    "    # numpy arrays but `predictions` are PyTorch tensors\n",
    "    ax.scatter(time, to_np(predictions))\n",
    "    ax.set_ylim(-300, 100)"
   ]
  },
  {
   "cell_type": "code",
   "execution_count": null,
   "metadata": {},
   "outputs": [],
   "source": [
    "show_predictions(predictions)"
   ]
  },
  {
   "cell_type": "code",
   "execution_count": null,
   "metadata": {},
   "outputs": [],
   "source": [
    "loss = mse(predictions, speed); loss"
   ]
  },
  {
   "cell_type": "code",
   "execution_count": null,
   "metadata": {},
   "outputs": [],
   "source": [
    "# compute gradients\n",
    "loss.backward()\n",
    "params.grad"
   ]
  },
  {
   "cell_type": "code",
   "execution_count": null,
   "metadata": {},
   "outputs": [],
   "source": [
    "params"
   ]
  },
  {
   "cell_type": "code",
   "execution_count": null,
   "metadata": {},
   "outputs": [],
   "source": [
    "learning_rate = 1e-3\n",
    "params.data -= learning_rate * params.grad.data\n",
    "params.grad = None"
   ]
  },
  {
   "cell_type": "code",
   "execution_count": null,
   "metadata": {},
   "outputs": [],
   "source": [
    "predictions = f(time, params)\n",
    "mse(predictions, speed)"
   ]
  },
  {
   "cell_type": "code",
   "execution_count": null,
   "metadata": {},
   "outputs": [],
   "source": [
    "show_predictions(predictions)"
   ]
  },
  {
   "cell_type": "code",
   "execution_count": null,
   "metadata": {},
   "outputs": [],
   "source": [
    "def apply_step(params, show=True):\n",
    "    predictions = f(time, params)\n",
    "    loss = mse(predictions, speed)\n",
    "    loss.backward()\n",
    "    params.data -= learning_rate * params.grad.data\n",
    "    params.grad = None\n",
    "    if show:\n",
    "        print(loss.item())\n",
    "    return predictions"
   ]
  },
  {
   "cell_type": "code",
   "execution_count": null,
   "metadata": {},
   "outputs": [],
   "source": [
    "for _ in range(10):\n",
    "    apply_step(params)"
   ]
  },
  {
   "cell_type": "code",
   "execution_count": null,
   "metadata": {},
   "outputs": [],
   "source": [
    "_, axes = plt.subplots(1, 4, figsize=(12, 3))\n",
    "for axis in axes:\n",
    "    show_predictions(apply_step(params, show=False), axis)\n",
    "plt.tight_layout()"
   ]
  },
  {
   "cell_type": "markdown",
   "metadata": {},
   "source": [
    "## MNIST Loss Function"
   ]
  },
  {
   "cell_type": "markdown",
   "metadata": {},
   "source": [
    "### Preparing Validation Data"
   ]
  },
  {
   "cell_type": "code",
   "execution_count": null,
   "metadata": {},
   "outputs": [],
   "source": [
    "train_x = torch.cat([stacked_3s, stacked_7s]).view(-1, 28*28)\n",
    "train_y = tensor([1]*len(threes) + [0]*len(sevens)).unsqueeze(1)\n",
    "train_x.shape, train_y.shape"
   ]
  },
  {
   "cell_type": "code",
   "execution_count": null,
   "metadata": {},
   "outputs": [],
   "source": [
    "dataset = list(zip(train_x, train_y))\n",
    "x, y = dataset[0]\n",
    "x.shape, y"
   ]
  },
  {
   "cell_type": "code",
   "execution_count": null,
   "metadata": {},
   "outputs": [],
   "source": [
    "validation_x = torch.cat([validation_3s, validation_7s]).view(-1, 28*28)\n",
    "validation_y = tensor([1]*len(validation_3s) + [0]*len(validation_7s)).unsqueeze(1)\n",
    "validation_x.shape, validation_y.shape"
   ]
  },
  {
   "cell_type": "code",
   "execution_count": null,
   "metadata": {},
   "outputs": [],
   "source": [
    "validation_dataset = list(zip(validation_x, validation_y))"
   ]
  },
  {
   "cell_type": "markdown",
   "metadata": {},
   "source": [
    "### Basic Building Block: Linear Layer"
   ]
  },
  {
   "cell_type": "code",
   "execution_count": null,
   "metadata": {},
   "outputs": [],
   "source": [
    "def init_params(size, stddev=1.0):\n",
    "    return (torch.randn(size)*stddev).requires_grad_()"
   ]
  },
  {
   "cell_type": "code",
   "execution_count": null,
   "metadata": {},
   "outputs": [],
   "source": [
    "weights = init_params((28*28, 1))\n",
    "bias = init_params(1)"
   ]
  },
  {
   "cell_type": "code",
   "execution_count": null,
   "metadata": {},
   "outputs": [],
   "source": [
    "(train_x[0]*weights.T).sum() + bias"
   ]
  },
  {
   "cell_type": "code",
   "execution_count": null,
   "metadata": {},
   "outputs": [],
   "source": [
    "def linear1(x_batch):\n",
    "    return x_batch @ weights + bias"
   ]
  },
  {
   "cell_type": "code",
   "execution_count": null,
   "metadata": {},
   "outputs": [],
   "source": [
    "predictions = linear1(train_x); predictions"
   ]
  },
  {
   "cell_type": "code",
   "execution_count": null,
   "metadata": {},
   "outputs": [],
   "source": [
    "corrects = (predictions > 0.0).float() == train_y\n",
    "corrects"
   ]
  },
  {
   "cell_type": "code",
   "execution_count": null,
   "metadata": {},
   "outputs": [],
   "source": [
    "corrects.float().mean().item()"
   ]
  },
  {
   "cell_type": "code",
   "execution_count": null,
   "metadata": {},
   "outputs": [],
   "source": [
    "targets = tensor([1, 0, 1])\n",
    "predictions = tensor([0.9, 0.4, 0.2])"
   ]
  },
  {
   "cell_type": "markdown",
   "metadata": {},
   "source": [
    "### Loss Function -- V1"
   ]
  },
  {
   "cell_type": "code",
   "execution_count": null,
   "metadata": {},
   "outputs": [],
   "source": [
    "def mnist_loss(predictions, targets):\n",
    "    return torch.where(targets==1, 1-predictions, predictions).mean()"
   ]
  },
  {
   "cell_type": "code",
   "execution_count": null,
   "metadata": {},
   "outputs": [],
   "source": [
    "torch.where(targets==1, 1-predictions, predictions)"
   ]
  },
  {
   "cell_type": "code",
   "execution_count": null,
   "metadata": {},
   "outputs": [],
   "source": [
    "mnist_loss(predictions, targets)"
   ]
  },
  {
   "cell_type": "code",
   "execution_count": null,
   "metadata": {},
   "outputs": [],
   "source": [
    "mnist_loss(tensor([0.9, 0.4, 0.8]), targets)"
   ]
  },
  {
   "cell_type": "code",
   "execution_count": null,
   "metadata": {},
   "outputs": [],
   "source": [
    "def sigmoid(x):\n",
    "    return 1/(1 + torch.exp(-x))"
   ]
  },
  {
   "cell_type": "code",
   "execution_count": null,
   "metadata": {},
   "outputs": [],
   "source": [
    "from fastbook import plot_function\n",
    "\n",
    "plot_function(torch.sigmoid, title='Sigmoid', min=-4, max=4)"
   ]
  },
  {
   "cell_type": "markdown",
   "metadata": {},
   "source": [
    "### Loss Function -- V2"
   ]
  },
  {
   "cell_type": "code",
   "execution_count": null,
   "metadata": {},
   "outputs": [],
   "source": [
    "def mnist_loss(predictions, targets):\n",
    "    predictions = predictions.sigmoid()\n",
    "    return torch.where(targets==1, 1-predictions, predictions).mean()"
   ]
  },
  {
   "cell_type": "code",
   "execution_count": null,
   "metadata": {},
   "outputs": [],
   "source": [
    "dataloader = DataLoader(range(15), batch_size=5, shuffle=True)\n",
    "list(dataloader)"
   ]
  },
  {
   "cell_type": "code",
   "execution_count": null,
   "metadata": {},
   "outputs": [],
   "source": [
    "dataset1 = L(enumerate(string.ascii_lowercase))\n",
    "dataset1"
   ]
  },
  {
   "cell_type": "code",
   "execution_count": null,
   "metadata": {},
   "outputs": [],
   "source": [
    "dataloader = DataLoader(dataset1, batch_size=6, shuffle=True)\n",
    "list(dataloader)"
   ]
  },
  {
   "cell_type": "code",
   "execution_count": null,
   "metadata": {},
   "outputs": [],
   "source": [
    "# in this very simple model, we have a single output neuron\n",
    "# if we had K output neurons, the shape of `weights` would\n",
    "# be (28*28, K)\n",
    "weights = init_params((28*28, 1))\n",
    "bias = init_params(1)"
   ]
  },
  {
   "cell_type": "code",
   "execution_count": null,
   "metadata": {},
   "outputs": [],
   "source": [
    "dataloader = DataLoader(dataset, batch_size=256)\n",
    "xb, yb = first(dataloader)\n",
    "xb.shape, yb.shape"
   ]
  },
  {
   "cell_type": "code",
   "execution_count": null,
   "metadata": {},
   "outputs": [],
   "source": [
    "validation_dataloader = DataLoader(validation_dataset, batch_size=256)"
   ]
  },
  {
   "cell_type": "code",
   "execution_count": null,
   "metadata": {},
   "outputs": [],
   "source": [
    "batch = train_x[:5]\n",
    "batch.shape"
   ]
  },
  {
   "cell_type": "code",
   "execution_count": null,
   "metadata": {},
   "outputs": [],
   "source": [
    "predictions = linear1(batch)\n",
    "predictions"
   ]
  },
  {
   "cell_type": "code",
   "execution_count": null,
   "metadata": {},
   "outputs": [],
   "source": [
    "loss = mnist_loss(predictions, train_y[:5])\n",
    "loss"
   ]
  },
  {
   "cell_type": "code",
   "execution_count": null,
   "metadata": {},
   "outputs": [],
   "source": [
    "loss.backward()\n",
    "weights.grad.shape, weights.grad.mean(), bias.grad"
   ]
  },
  {
   "cell_type": "code",
   "execution_count": null,
   "metadata": {},
   "outputs": [],
   "source": [
    "def compute_gradients(x_batch, y_batch, model):\n",
    "    predictions = model(x_batch)\n",
    "    loss = mnist_loss(predictions, y_batch)\n",
    "    loss.backward()"
   ]
  },
  {
   "cell_type": "code",
   "execution_count": null,
   "metadata": {},
   "outputs": [],
   "source": [
    "compute_gradients(batch, train_y[:5], linear1)\n",
    "weights.grad.mean(), bias.grad"
   ]
  },
  {
   "cell_type": "markdown",
   "metadata": {},
   "source": [
    "Notice that if we call the above cell twice, the gradients will change!"
   ]
  },
  {
   "cell_type": "code",
   "execution_count": null,
   "metadata": {},
   "outputs": [],
   "source": [
    "compute_gradients(batch, train_y[:5], linear1)\n",
    "weights.grad.mean(), bias.grad"
   ]
  },
  {
   "cell_type": "code",
   "execution_count": null,
   "metadata": {},
   "outputs": [],
   "source": [
    "weights.grad.zero_()\n",
    "bias.grad.zero_()"
   ]
  },
  {
   "cell_type": "code",
   "execution_count": null,
   "metadata": {},
   "outputs": [],
   "source": [
    "def train_epoch(model, params, learning_rate):\n",
    "    for x_batch, y_batch in dataloader:\n",
    "        compute_gradients(x_batch, y_batch, model)\n",
    "        for param in params:\n",
    "            param.data -= learning_rate * param.grad\n",
    "            param.grad.zero_()"
   ]
  },
  {
   "cell_type": "code",
   "execution_count": null,
   "metadata": {},
   "outputs": [],
   "source": [
    "def batch_accuracy(x_batch, y_batch):\n",
    "    predictions = x_batch.sigmoid()\n",
    "    correct = (predictions > 0.5) == y_batch\n",
    "    return correct.float().mean()"
   ]
  },
  {
   "cell_type": "code",
   "execution_count": null,
   "metadata": {},
   "outputs": [],
   "source": [
    "batch_accuracy(linear1(batch), train_y[:5])"
   ]
  },
  {
   "cell_type": "code",
   "execution_count": null,
   "metadata": {},
   "outputs": [],
   "source": [
    "def validate_epoch(model):\n",
    "    accuracies = [batch_accuracy(model(xb), yb) for xb, yb in validation_dataloader]\n",
    "    return round(torch.stack(accuracies).mean().item(), 4)"
   ]
  },
  {
   "cell_type": "code",
   "execution_count": null,
   "metadata": {},
   "outputs": [],
   "source": [
    "validate_epoch(linear1)"
   ]
  },
  {
   "cell_type": "code",
   "execution_count": null,
   "metadata": {},
   "outputs": [],
   "source": [
    "learning_rate = 1.\n",
    "params = weights, bias\n",
    "train_epoch(linear1, params, learning_rate)\n",
    "validate_epoch(linear1)"
   ]
  },
  {
   "cell_type": "code",
   "execution_count": null,
   "metadata": {},
   "outputs": [],
   "source": [
    "for i in range(20):\n",
    "    train_epoch(linear1, params, learning_rate)\n",
    "    print(validate_epoch(linear1), end=' ')"
   ]
  },
  {
   "cell_type": "markdown",
   "metadata": {},
   "source": [
    "### Basic Optimizer"
   ]
  },
  {
   "cell_type": "code",
   "execution_count": null,
   "metadata": {},
   "outputs": [],
   "source": [
    "class BasicOptimizer:\n",
    "    def __init__(self, params, learning_rate):\n",
    "        # creating a copy of the parameters is actually quite important!\n",
    "        # if you don't do it, the updates in self.step() won't have any\n",
    "        # effect (I guess this is by design -- we'll have to ask the fastai authors)\n",
    "        self.params = list(params)\n",
    "        self.learning_rate = learning_rate\n",
    "    \n",
    "    def step(self, *args, **kwargs):\n",
    "        for param in self.params:\n",
    "            param.data -= param.grad.data * self.learning_rate\n",
    "\n",
    "    def zero_grad(self, *args, **kwargs):\n",
    "        for param in self.params:\n",
    "            param.grad = None"
   ]
  },
  {
   "cell_type": "code",
   "execution_count": null,
   "metadata": {},
   "outputs": [],
   "source": [
    "linear_model = nn.Linear(28*28, 1)"
   ]
  },
  {
   "cell_type": "code",
   "execution_count": null,
   "metadata": {},
   "outputs": [],
   "source": [
    "w, b = linear_model.parameters()\n",
    "w.shape, b.shape"
   ]
  },
  {
   "cell_type": "code",
   "execution_count": null,
   "metadata": {},
   "outputs": [],
   "source": [
    "def train_epoch(model, optimizer):\n",
    "    for x_batch, y_batch in dataloader:\n",
    "        compute_gradients(x_batch, y_batch, model)\n",
    "        optimizer.step()\n",
    "        optimizer.zero_grad()"
   ]
  },
  {
   "cell_type": "code",
   "execution_count": null,
   "metadata": {},
   "outputs": [],
   "source": [
    "def train_model(model, optimizer, epochs=10):\n",
    "    for i in range(epochs):\n",
    "        train_epoch(model, optimizer)\n",
    "        print(validate_epoch(model), end=' ')"
   ]
  },
  {
   "cell_type": "code",
   "execution_count": null,
   "metadata": {},
   "outputs": [],
   "source": [
    "optimizer = BasicOptimizer(linear_model.parameters(), learning_rate)"
   ]
  },
  {
   "cell_type": "code",
   "execution_count": null,
   "metadata": {},
   "outputs": [],
   "source": [
    "learning_rate = 1e-2\n",
    "train_model(linear_model, optimizer, epochs=20)"
   ]
  },
  {
   "cell_type": "markdown",
   "metadata": {},
   "source": [
    "### Training the Model"
   ]
  },
  {
   "cell_type": "code",
   "execution_count": null,
   "metadata": {},
   "outputs": [],
   "source": [
    "linear_model = nn.Linear(28*28, 1)\n",
    "optimizer = SGD(linear_model.parameters(), learning_rate)\n",
    "train_model(linear_model, optimizer, epochs=20)"
   ]
  },
  {
   "cell_type": "code",
   "execution_count": null,
   "metadata": {},
   "outputs": [],
   "source": [
    "dataloaders = DataLoaders(dataloader, validation_dataloader)"
   ]
  },
  {
   "cell_type": "code",
   "execution_count": null,
   "metadata": {},
   "outputs": [],
   "source": [
    "model = nn.Linear(28*28, 1)\n",
    "learner = Learner(dataloaders, model, opt_func=SGD, loss_func=mnist_loss, metrics=batch_accuracy)"
   ]
  },
  {
   "cell_type": "code",
   "execution_count": null,
   "metadata": {},
   "outputs": [],
   "source": [
    "learner.fit(10, lr=learning_rate)"
   ]
  },
  {
   "cell_type": "code",
   "execution_count": null,
   "metadata": {},
   "outputs": [],
   "source": [
    "#w1 = init_params((28*28, 30))\n",
    "#b1 = init_params(30)\n",
    "#w2 = init_params((30, 1))\n",
    "#b2 = init_params(1)"
   ]
  },
  {
   "cell_type": "code",
   "execution_count": null,
   "metadata": {},
   "outputs": [],
   "source": [
    "# def simple_net(xb):\n",
    "#     output = xb @ w1 + b1\n",
    "#     output = output.max(tensor(0.0))\n",
    "#     output = output @ w2 + b2\n",
    "#     return output"
   ]
  },
  {
   "cell_type": "code",
   "execution_count": null,
   "metadata": {},
   "outputs": [],
   "source": [
    "plot_function(F.relu)"
   ]
  },
  {
   "cell_type": "code",
   "execution_count": null,
   "metadata": {},
   "outputs": [],
   "source": [
    "simple_net = nn.Sequential(\n",
    "    nn.Linear(28*28, 30),\n",
    "    nn.ReLU(),\n",
    "    nn.Linear(30, 1)\n",
    ")"
   ]
  },
  {
   "cell_type": "code",
   "execution_count": null,
   "metadata": {},
   "outputs": [],
   "source": [
    "learner = Learner(dataloaders, simple_net, opt_func=SGD, loss_func=mnist_loss, metrics=batch_accuracy)\n",
    "learner.fit(40, lr=0.1)"
   ]
  },
  {
   "cell_type": "code",
   "execution_count": null,
   "metadata": {},
   "outputs": [],
   "source": [
    "plt.plot(L(learner.recorder.values).itemgot(2))"
   ]
  },
  {
   "cell_type": "code",
   "execution_count": null,
   "metadata": {},
   "outputs": [],
   "source": [
    "# recorder.values is a list of tuples: (train_loss, validation_loss, batch_accuracy)\n",
    "learner.recorder.values[-1]"
   ]
  },
  {
   "cell_type": "markdown",
   "metadata": {},
   "source": [
    "### Training using FastAI's Library"
   ]
  },
  {
   "cell_type": "code",
   "execution_count": null,
   "metadata": {},
   "outputs": [],
   "source": [
    "dataloaders = ImageDataLoaders.from_folder(path)\n",
    "learner = cnn_learner(dataloaders, resnet18, pretrained=True, loss_func=F.cross_entropy, metrics=accuracy)\n",
    "learner.fine_tune(3, 1e-2)"
   ]
  },
  {
   "cell_type": "code",
   "execution_count": null,
   "metadata": {},
   "outputs": [],
   "source": [
    "learner.recorder.plot_loss()"
   ]
  },
  {
   "cell_type": "code",
   "execution_count": null,
   "metadata": {},
   "outputs": [],
   "source": [
    "# how many training samples and batches do we have?\n",
    "count = 0\n",
    "batches = 0\n",
    "for xb, yb in dataloaders.train:\n",
    "    count += xb.shape[0]\n",
    "    batches += 1\n",
    "print(count, batches)"
   ]
  },
  {
   "cell_type": "code",
   "execution_count": null,
   "metadata": {},
   "outputs": [],
   "source": [
    "xb, yb = dataloaders.train.one_batch()\n",
    "xb.shape, yb.shape\n",
    "xb.device, yb.device"
   ]
  },
  {
   "cell_type": "markdown",
   "metadata": {},
   "source": [
    "### Visualizing the Model's Architecture"
   ]
  },
  {
   "cell_type": "code",
   "execution_count": null,
   "metadata": {},
   "outputs": [],
   "source": [
    "!pip install hiddenlayer"
   ]
  },
  {
   "cell_type": "code",
   "execution_count": null,
   "metadata": {},
   "outputs": [],
   "source": [
    "import hiddenlayer as hl\n",
    "\n",
    "transforms = [\n",
    "    # Fold Conv, BN, RELU layers into one\n",
    "    hl.transforms.Fold(\"Conv > BatchNorm > Relu\", \"ConvBnRelu\"),\n",
    "    # Fold Conv, BN layers together\n",
    "    hl.transforms.Fold(\"Conv > BatchNorm\", \"ConvBn\"),\n",
    "    # Fold bottleneck blocks\n",
    "    hl.transforms.Fold(\"\"\"\n",
    "        ((ConvBnRelu > ConvBnRelu > ConvBn) | ConvBn) > Add > Relu\n",
    "        \"\"\", \"BottleneckBlock\", \"Bottleneck Block\"),\n",
    "    # Fold residual blocks\n",
    "    hl.transforms.Fold(\"\"\"ConvBnRelu > ConvBnRelu > ConvBn > Add > Relu\"\"\",\n",
    "                       \"ResBlock\", \"Residual Block\"),\n",
    "    # Fold repeated blocks\n",
    "    hl.transforms.FoldDuplicates(),\n",
    "]\n",
    "\n",
    "graph = hl.build_graph(learner.model, xb, transforms=transforms)\n",
    "graph"
   ]
  },
  {
   "cell_type": "markdown",
   "metadata": {},
   "source": [
    "# Questions"
   ]
  },
  {
   "cell_type": "markdown",
   "metadata": {},
   "source": [
    "**1. How is a greyscale image represented on a computer? How about a color image?**\n",
    "\n",
    "Grayscale images are represented as matrices of integers (the pixels) in the range 0-255. Color images are similarly represented, but we use 3 such matrices, one for each color (red, green and blue) from whose combinations all other colors are derived."
   ]
  },
  {
   "cell_type": "markdown",
   "metadata": {},
   "source": [
    "**2. How are the files and folders in the MNIST_SAMPLE dataset structured? Why?**\n",
    "\n",
    "They're organized in two subfolders: `train` and `test`. The former contains the training set, and the latter the test or validation set."
   ]
  },
  {
   "cell_type": "markdown",
   "metadata": {},
   "source": [
    "**3. Explain how the \"pixel similarity\" approach to classifying digits works.**\n",
    "\n",
    "It's a baseline model than simply generates a reference image for each digit by averaging the values in all of the corresponding training images. Once we have that average image we can compare on seeing images against it and measure the pixel distance. The distance can be either an L1 or L2 norm or any other distance function we want."
   ]
  },
  {
   "cell_type": "markdown",
   "metadata": {},
   "source": [
    "**4. What is a list comprehension?**\n",
    "\n",
    "It's just special syntactic sugar that Python provides for common loop constructs that involves creating new lists and adding elements conditionally."
   ]
  },
  {
   "cell_type": "markdown",
   "metadata": {},
   "source": [
    "**5. What is a rank-3 tensor?**\n",
    "\n",
    "It's a three dimensional array of numbers."
   ]
  },
  {
   "cell_type": "markdown",
   "metadata": {},
   "source": [
    "**6. What is the difference between tensor rank and shape? How do you get the rank from the shape?**\n",
    "\n",
    "The rank is just a number that tells you how many dimensions of tensor has. The shape of a tensor tells you how many elements there are in each dimension."
   ]
  },
  {
   "cell_type": "markdown",
   "metadata": {},
   "source": [
    "**7. What are RMSE and L1 norm?**\n",
    "\n",
    "RMSE represents a weighted average difference between predicted values and expected values with strong penalties on large deviations.\n",
    "\n",
    "L1 represents the sum of distance between predicted and expected values."
   ]
  },
  {
   "cell_type": "markdown",
   "metadata": {},
   "source": [
    "**8. How can you apply a calculation on thousands of numbers at once, many thousands of times faster than a Python loop?**\n",
    "\n",
    "By using vectorized operations available in `numpy` or `torch`. The latter is able to efficiently execute them in GPUs."
   ]
  },
  {
   "cell_type": "markdown",
   "metadata": {},
   "source": [
    "**9. Create a 3x3 tensor or array containing the numbers from 1 to 9. Double it. Select the bottom right four numbers.**"
   ]
  },
  {
   "cell_type": "code",
   "execution_count": null,
   "metadata": {},
   "outputs": [],
   "source": [
    "t = tensor([[1, 2, 3],\n",
    "            [4, 5, 6],\n",
    "            [7, 8, 9]])\n",
    "t *= 2\n",
    "t[1:,1:]"
   ]
  },
  {
   "cell_type": "markdown",
   "metadata": {},
   "source": [
    "**10. What is broadcasting?**\n",
    "\n",
    "It's a way to perform operations between tensors of different shape which share one or more dimensions. For example, a vector of N elements and a matrix of NxM elements, or  a matrix of NxM elements and a tensor of shape MxNxP). It saves users from having to explicitly create matching tensors, and it does it in an efficient manner by creating just a virtual tensor with virtual copies of the original smaller tensor."
   ]
  },
  {
   "cell_type": "markdown",
   "metadata": {},
   "source": [
    "**11. Are metrics generally calculated using the tree set or the validation set? Why?**\n",
    "\n",
    "Both, although the most useful information comes from the validation or test set since it is a proxy for the expected performance of the model in production. Checking the metrics for the training set can be useful for debugging purposes."
   ]
  },
  {
   "cell_type": "markdown",
   "metadata": {},
   "source": [
    "**12. What is SGD?**\n",
    "\n",
    "Stochastic Gradient Descent. An optimization technique that uses a random subset of the data to find the gradients that inform how to change parameters to minimize the cost function."
   ]
  },
  {
   "cell_type": "markdown",
   "metadata": {},
   "source": [
    "**13. Why does SGD use mini-batches?**\n",
    "\n",
    "For efficiency but also to improve generalization error. The latter is achieved by training to avoid plateauing in local minima that could be the product of noise in any given batch."
   ]
  },
  {
   "cell_type": "markdown",
   "metadata": {},
   "source": [
    "**14. For the seven steps in SGD for machine learning?**\n",
    "\n",
    "   1. Initialize weights\n",
    "   2. Compute predictions\n",
    "   3. Compute loss \n",
    "   4. Compute gradients\n",
    "   5. Test for convergence\n",
    "   6. Update parameters using gradients \n",
    "   7. Repeat starting from step B."
   ]
  },
  {
   "cell_type": "markdown",
   "metadata": {},
   "source": [
    "**15. How do I initialize the weights in a model?**\n",
    "\n",
    "Random initialization is a good idea, although researchers have found other somewhat more sophisticated methods."
   ]
  },
  {
   "cell_type": "markdown",
   "metadata": {},
   "source": [
    "**16. What is loss?**\n",
    "\n",
    "It's a scalar-valued function that represents how good or bad are our model's predictions. It must be differentiable with respect to the weights"
   ]
  },
  {
   "cell_type": "markdown",
   "metadata": {},
   "source": [
    "**17. Why can't we use always a high learning rate?**\n",
    "\n",
    "Because we could overshoot and cause never-ending oscillations. In other cases, SGD may still converge but it will do so much more slowly due to unnecessary back-and-forth in both sides of a convex region."
   ]
  },
  {
   "cell_type": "markdown",
   "metadata": {},
   "source": [
    "**18. What is a gradient?**\n",
    "\n",
    "It's a vector that represents how to move in parameters space in order to decrease most rapidly the value of the loss function."
   ]
  },
  {
   "cell_type": "markdown",
   "metadata": {},
   "source": [
    "**19. Do you need to know how to calculate gradients yourself?**\n",
    "\n",
    "Not really unless you're building neural net completely from scratch. If you're using a framework like PyTorch, gradients are automatically computed for you."
   ]
  },
  {
   "cell_type": "markdown",
   "metadata": {},
   "source": [
    "**20. Why can't use accuracy as a loss function?**\n",
    "\n",
    "Because it's not smooth and differentiable like the loss function. Small changes in paramete space will most likely not make any difference in classification, so the algorithm will get stuck very early on. A loss function usually encodes not just classification accuracy but also confidence on the classification. That allows to move smoothly in parameter space even when the classification accuracy doesn't change from one iteration to another."
   ]
  },
  {
   "cell_type": "markdown",
   "metadata": {},
   "source": [
    "**21. Draw the sigmoid function. What is special about its shape?**\n",
    "\n",
    "It has a linear region in the middle and two nonlinear regions for sufficiently large or small values."
   ]
  },
  {
   "cell_type": "markdown",
   "metadata": {},
   "source": [
    "**22. What is the difference between a loss function and a metric?**\n",
    "\n",
    "A metric is an error measure designed for humans to understand and discuss. A loss is a proxy of the metric function that must be differentiable (so it can be used with the backpropagation algorithm) and capture both the accuracy and confidence that a model has in its predictions.\n"
   ]
  },
  {
   "cell_type": "markdown",
   "metadata": {},
   "source": [
    "**23. What is the function to calculate new weights using a learning rate?**\n",
    "\n",
    "The gradient of the loss function (plugged into the update parameters equation)"
   ]
  },
  {
   "cell_type": "markdown",
   "metadata": {},
   "source": [
    "**24. What does the `DataLoader` class do?**\n",
    "\n",
    "It can load data from a source (e.g., file system), separate it into training and test subsets, and provide it in appropriately sized and shuffled batches."
   ]
  },
  {
   "cell_type": "markdown",
   "metadata": {},
   "source": [
    "**25. Write pseudocode showing the basic steps taken in each epoch for SGD.**\n",
    "\n",
    "```python\n",
    "for _ in epochs:\n",
    "    predictions = compute_predictions(model, inputs)\n",
    "    loss = compute_loss(predictions, targets)\n",
    "    \n",
    "    all_metrics.append(compute_metrics(predictions, targets))\n",
    "    losses.append(loss)\n",
    "\n",
    "    gradient = compute_gradient(loss)\n",
    "    update_parameters(model.parameters, gradient)\n",
    "```"
   ]
  },
  {
   "cell_type": "markdown",
   "metadata": {},
   "source": [
    "**26. Create a function that, if passed two arguments `[1, 2, 3, 4]` and `\"abcd\"`, returns `[(1, 'a'), (2, 'b'), (3, 'c'), (4, 'd')]`. What is special about that output data structure?**\n",
    "\n",
    "```python\n",
    "def bind(inputs, targets):\n",
    "    return list(zip(inputs, targets))\n",
    "```\n",
    "\n",
    "There is nothing special about it, except that PyTorch expects that format for training data."
   ]
  },
  {
   "cell_type": "markdown",
   "metadata": {},
   "source": [
    "**27. What does `view` do in PyTorch?**\n",
    "\n",
    "It reshapes a tensor to some other shape, but only in a virtual way (i.e., it doesn't really change the layout in memory nor does it allocate new memory.)"
   ]
  },
  {
   "cell_type": "markdown",
   "metadata": {},
   "source": [
    "**28. What are the bias parameters in a neural network? Why do we need them?**\n",
    "\n",
    "They provide an additional degree of freedom in each perceptron in the NN, preventing it from being anchored to the origin. Without it, the NN couldn't really approximate a lot of functions."
   ]
  },
  {
   "cell_type": "markdown",
   "metadata": {},
   "source": [
    "**29. What does the operator `@` do in Python?**\n",
    "\n",
    "In the case of matrices, it performs matrix multiplication."
   ]
  },
  {
   "cell_type": "markdown",
   "metadata": {},
   "source": [
    "**30. What does the `backward` method do?**\n",
    "\n",
    "It computes gradients for all variables involved in a computational graph (as long as the variables are marked as requiring gradients)"
   ]
  },
  {
   "cell_type": "markdown",
   "metadata": {},
   "source": [
    "**31. Why do we have to zero the gradients?**\n",
    "\n",
    "Because by default Pytorch keeps accumulating gradients in each variable involved in a computational graph."
   ]
  },
  {
   "cell_type": "markdown",
   "metadata": {},
   "source": [
    "**32. What information do we have to pass to `Learner`?**\n",
    "\n",
    "+ The data loader\n",
    "+ The model's architecture\n",
    "+ The optimizer\n",
    "+ The loss function\n",
    "+ Any metrics to monitor during training and validation"
   ]
  },
  {
   "cell_type": "markdown",
   "metadata": {},
   "source": [
    "**33. Show Python or pseudocode for the basic steps of a training loop**\n",
    "\n",
    "```python\n",
    "def train(model, epochs, data_loaders, loss_fn, optimizer=SGD, metrics=accuracy):\n",
    "    for epoch in range(epochs):\n",
    "        train_epoch(model, data_loaders.training, loss_fn, optimizer)\n",
    "        report_metrics(model, data_loaders.validation, loss_fn, metrics)\n",
    "\n",
    "def train_epoch(model, training_set, loss_fn, optimizer):\n",
    "    for inputs, targets in training_set:\n",
    "        predictions = model(inputs)\n",
    "        loss = loss_fn(predictions, targets)\n",
    "        optimizer.step(compute_gradients(loss))\n",
    "        \n",
    "def report_metrics(model, validation_set, loss_fn, metrics):\n",
    "    for inputs, targets in validation_set:\n",
    "        predictions = model(inputs)\n",
    "        loss = loss_fn(predictions, targets)\n",
    "        metrics_results = [metric(predictions, targets) for metric in metrics]\n",
    "        report_results(loss, metrics_results)\n",
    "```"
   ]
  },
  {
   "cell_type": "markdown",
   "metadata": {},
   "source": [
    "**34. What is ReLU?**\n",
    "\n",
    "It stands for Rectified Linear Unit, a fancy name for the expression `max(x, 0)`"
   ]
  },
  {
   "cell_type": "markdown",
   "metadata": {},
   "source": [
    "**35. What is an activation function?**\n",
    "\n",
    "A nonlinear function that is applied pointwise to tensors (typically after one or more linear transformations)"
   ]
  },
  {
   "cell_type": "markdown",
   "metadata": {},
   "source": [
    "**36. What is the difference between `F.relu` and `nn.ReLU`?**\n",
    "\n",
    "They're conceptually the same. The latter is needed when building models using `torch.nn.Sequential`, since it expects class instances."
   ]
  },
  {
   "cell_type": "markdown",
   "metadata": {},
   "source": [
    "**37. The universal approximation theorem shows that any function can be approximated as closely as needed using just one nonlinearity. So why do we normally use more?**\n",
    "\n",
    "For efficiency. Models with more layers can use less units per layer and end up with the same accuracy as a model with a single very wide layer (one with an exponential number of units)"
   ]
  }
 ],
 "metadata": {
  "kernelspec": {
   "display_name": "Python 3",
   "language": "python",
   "name": "python3"
  },
  "language_info": {
   "codemirror_mode": {
    "name": "ipython",
    "version": 3
   },
   "file_extension": ".py",
   "mimetype": "text/x-python",
   "name": "python",
   "nbconvert_exporter": "python",
   "pygments_lexer": "ipython3",
   "version": "3.8.6"
  }
 },
 "nbformat": 4,
 "nbformat_minor": 4
}
