{
 "cells": [
  {
   "cell_type": "code",
   "execution_count": 1,
   "metadata": {},
   "outputs": [
    {
     "data": {
      "text/html": [
       "<style type='text/css'>\n",
       "  .rendered_html {\n",
       "      font-family: Courier New;\n",
       "      font-size:110%;\n",
       "      line-height:115%;\n",
       "  }\n",
       "  .rendered_html code {\n",
       "      font-size: 90%;\n",
       "  }\n",
       "</style>\n"
      ],
      "text/plain": [
       "<IPython.core.display.HTML object>"
      ]
     },
     "metadata": {},
     "output_type": "display_data"
    }
   ],
   "source": [
    "%%html\n",
    "<style type='text/css'>\n",
    "  .rendered_html {\n",
    "      font-family: Courier New;\n",
    "      font-size:110%;\n",
    "      line-height:115%;\n",
    "  }\n",
    "  .rendered_html code {\n",
    "      font-size: 90%;\n",
    "  }\n",
    "</style>"
   ]
  },
  {
   "cell_type": "markdown",
   "metadata": {},
   "source": [
    "# Chapter 4 -- Recognizing Handwritten Digits\n",
    "\n",
    "In this chapter we'll take a look under the hood to understand in detail what was going on during the training of the classifiers in previous chapters. \n",
    "\n",
    "We'll work through a simplified version of the handwritten digits recognition problem, starting with a very simple baseline model, and then use all of the machinery that deep learning models use to solve this and more sophisticated problems.\n",
    "\n",
    "The most important concepts we'll see are:\n",
    "\n",
    "+ Loss Functions\n",
    "+ Function Optimization\n",
    "+ Stochastic Gradient Descent\n",
    "+ Gradient Computation\n",
    "+ Tensor Broadcasting\n",
    "+ Training Loops\n",
    "+ Computational Graphs"
   ]
  },
  {
   "cell_type": "markdown",
   "metadata": {},
   "source": [
    "## 4.1 Exploring Input Data"
   ]
  },
  {
   "cell_type": "code",
   "execution_count": 2,
   "metadata": {},
   "outputs": [],
   "source": [
    "from fastai.vision.all import *"
   ]
  },
  {
   "cell_type": "code",
   "execution_count": 3,
   "metadata": {},
   "outputs": [],
   "source": [
    "path = untar_data(URLs.MNIST_SAMPLE)"
   ]
  },
  {
   "cell_type": "code",
   "execution_count": 4,
   "metadata": {},
   "outputs": [
    {
     "data": {
      "text/plain": [
       "(#3) [Path('/root/.fastai/data/mnist_sample/train'),Path('/root/.fastai/data/mnist_sample/labels.csv'),Path('/root/.fastai/data/mnist_sample/valid')]"
      ]
     },
     "execution_count": 4,
     "metadata": {},
     "output_type": "execute_result"
    }
   ],
   "source": [
    "path.ls()"
   ]
  },
  {
   "cell_type": "code",
   "execution_count": 5,
   "metadata": {},
   "outputs": [
    {
     "name": "stdout",
     "output_type": "stream",
     "text": [
      "name,label\r\n",
      "train/3/7463.png,0\r\n",
      "train/3/21102.png,0\r\n",
      "train/3/31559.png,0\r\n",
      "train/3/46882.png,0\r\n",
      "train/3/26209.png,0\r\n",
      "train/3/41391.png,0\r\n",
      "train/3/11910.png,0\r\n",
      "train/3/52435.png,0\r\n",
      "train/3/21660.png,0\r\n"
     ]
    }
   ],
   "source": [
    "!head /root/.fastai/data/mnist_sample/labels.csv"
   ]
  },
  {
   "cell_type": "code",
   "execution_count": 6,
   "metadata": {},
   "outputs": [
    {
     "data": {
      "text/plain": [
       "(#2) [Path('/root/.fastai/data/mnist_sample/train/7'),Path('/root/.fastai/data/mnist_sample/train/3')]"
      ]
     },
     "execution_count": 6,
     "metadata": {},
     "output_type": "execute_result"
    }
   ],
   "source": [
    "(path/'train').ls()"
   ]
  },
  {
   "cell_type": "code",
   "execution_count": 7,
   "metadata": {},
   "outputs": [
    {
     "data": {
      "text/plain": [
       "(#6131) [Path('/root/.fastai/data/mnist_sample/train/3/10.png'),Path('/root/.fastai/data/mnist_sample/train/3/10000.png'),Path('/root/.fastai/data/mnist_sample/train/3/10011.png'),Path('/root/.fastai/data/mnist_sample/train/3/10031.png'),Path('/root/.fastai/data/mnist_sample/train/3/10034.png'),Path('/root/.fastai/data/mnist_sample/train/3/10042.png'),Path('/root/.fastai/data/mnist_sample/train/3/10052.png'),Path('/root/.fastai/data/mnist_sample/train/3/1007.png'),Path('/root/.fastai/data/mnist_sample/train/3/10074.png'),Path('/root/.fastai/data/mnist_sample/train/3/10091.png')...]"
      ]
     },
     "execution_count": 7,
     "metadata": {},
     "output_type": "execute_result"
    }
   ],
   "source": [
    "threes = (path/'train'/'3').ls().sorted()\n",
    "sevens = (path/'train'/'7').ls().sorted()\n",
    "threes"
   ]
  },
  {
   "cell_type": "code",
   "execution_count": 8,
   "metadata": {},
   "outputs": [
    {
     "data": {
      "image/png": "[encoded data removed]",
      "text/plain": [
       "<PIL.PngImagePlugin.PngImageFile image mode=L size=28x28 at 0x7FA9B2D34310>"
      ]
     },
     "execution_count": 8,
     "metadata": {},
     "output_type": "execute_result"
    }
   ],
   "source": [
    "img3_path = threes[1]\n",
    "img3 = Image.open(img3_path); img3"
   ]
  },
  {
   "cell_type": "code",
   "execution_count": 9,
   "metadata": {},
   "outputs": [
    {
     "data": {
      "text/plain": [
       "array([[  0,   0,   0,   0,   0,   0],\n",
       "       [  0,   0,   0,   0,   0,  29],\n",
       "       [  0,   0,   0,  48, 166, 224],\n",
       "       [  0,  93, 244, 249, 253, 187],\n",
       "       [  0, 107, 253, 253, 230,  48],\n",
       "       [  0,   3,  20,  20,  15,   0]], dtype=uint8)"
      ]
     },
     "execution_count": 9,
     "metadata": {},
     "output_type": "execute_result"
    }
   ],
   "source": [
    "array(img3)[4:10, 4:10]"
   ]
  },
  {
   "cell_type": "code",
   "execution_count": 10,
   "metadata": {},
   "outputs": [
    {
     "data": {
      "text/plain": [
       "tensor([[  0,   0,   0,   0,   0,   0],\n",
       "        [  0,   0,   0,   0,   0,  29],\n",
       "        [  0,   0,   0,  48, 166, 224],\n",
       "        [  0,  93, 244, 249, 253, 187],\n",
       "        [  0, 107, 253, 253, 230,  48],\n",
       "        [  0,   3,  20,  20,  15,   0]], dtype=torch.uint8)"
      ]
     },
     "execution_count": 10,
     "metadata": {},
     "output_type": "execute_result"
    }
   ],
   "source": [
    "tensor(img3)[4:10, 4:10]"
   ]
  },
  {
   "cell_type": "code",
   "execution_count": 11,
   "metadata": {},
   "outputs": [
    {
     "data": {
      "text/html": [
       "<style  type=\"text/css\" >\n",
       "#T_8e2dbdfc_0464_11ed_83cb_8e7759c05863row0_col0,#T_8e2dbdfc_0464_11ed_83cb_8e7759c05863row0_col1,#T_8e2dbdfc_0464_11ed_83cb_8e7759c05863row0_col2,#T_8e2dbdfc_0464_11ed_83cb_8e7759c05863row0_col3,#T_8e2dbdfc_0464_11ed_83cb_8e7759c05863row0_col4,#T_8e2dbdfc_0464_11ed_83cb_8e7759c05863row0_col5,#T_8e2dbdfc_0464_11ed_83cb_8e7759c05863row0_col6,#T_8e2dbdfc_0464_11ed_83cb_8e7759c05863row0_col7,#T_8e2dbdfc_0464_11ed_83cb_8e7759c05863row0_col8,#T_8e2dbdfc_0464_11ed_83cb_8e7759c05863row0_col9,#T_8e2dbdfc_0464_11ed_83cb_8e7759c05863row0_col10,#T_8e2dbdfc_0464_11ed_83cb_8e7759c05863row0_col11,#T_8e2dbdfc_0464_11ed_83cb_8e7759c05863row0_col12,#T_8e2dbdfc_0464_11ed_83cb_8e7759c05863row0_col13,#T_8e2dbdfc_0464_11ed_83cb_8e7759c05863row0_col14,#T_8e2dbdfc_0464_11ed_83cb_8e7759c05863row0_col15,#T_8e2dbdfc_0464_11ed_83cb_8e7759c05863row0_col16,#T_8e2dbdfc_0464_11ed_83cb_8e7759c05863row0_col17,#T_8e2dbdfc_0464_11ed_83cb_8e7759c05863row1_col0,#T_8e2dbdfc_0464_11ed_83cb_8e7759c05863row1_col1,#T_8e2dbdfc_0464_11ed_83cb_8e7759c05863row1_col2,#T_8e2dbdfc_0464_11ed_83cb_8e7759c05863row1_col3,#T_8e2dbdfc_0464_11ed_83cb_8e7759c05863row1_col4,#T_8e2dbdfc_0464_11ed_83cb_8e7759c05863row1_col15,#T_8e2dbdfc_0464_11ed_83cb_8e7759c05863row1_col16,#T_8e2dbdfc_0464_11ed_83cb_8e7759c05863row1_col17,#T_8e2dbdfc_0464_11ed_83cb_8e7759c05863row2_col0,#T_8e2dbdfc_0464_11ed_83cb_8e7759c05863row2_col1,#T_8e2dbdfc_0464_11ed_83cb_8e7759c05863row2_col2,#T_8e2dbdfc_0464_11ed_83cb_8e7759c05863row2_col15,#T_8e2dbdfc_0464_11ed_83cb_8e7759c05863row2_col16,#T_8e2dbdfc_0464_11ed_83cb_8e7759c05863row2_col17,#T_8e2dbdfc_0464_11ed_83cb_8e7759c05863row3_col0,#T_8e2dbdfc_0464_11ed_83cb_8e7759c05863row3_col15,#T_8e2dbdfc_0464_11ed_83cb_8e7759c05863row3_col16,#T_8e2dbdfc_0464_11ed_83cb_8e7759c05863row3_col17,#T_8e2dbdfc_0464_11ed_83cb_8e7759c05863row4_col0,#T_8e2dbdfc_0464_11ed_83cb_8e7759c05863row4_col6,#T_8e2dbdfc_0464_11ed_83cb_8e7759c05863row4_col7,#T_8e2dbdfc_0464_11ed_83cb_8e7759c05863row4_col8,#T_8e2dbdfc_0464_11ed_83cb_8e7759c05863row4_col9,#T_8e2dbdfc_0464_11ed_83cb_8e7759c05863row4_col10,#T_8e2dbdfc_0464_11ed_83cb_8e7759c05863row4_col15,#T_8e2dbdfc_0464_11ed_83cb_8e7759c05863row4_col16,#T_8e2dbdfc_0464_11ed_83cb_8e7759c05863row4_col17,#T_8e2dbdfc_0464_11ed_83cb_8e7759c05863row5_col0,#T_8e2dbdfc_0464_11ed_83cb_8e7759c05863row5_col5,#T_8e2dbdfc_0464_11ed_83cb_8e7759c05863row5_col6,#T_8e2dbdfc_0464_11ed_83cb_8e7759c05863row5_col7,#T_8e2dbdfc_0464_11ed_83cb_8e7759c05863row5_col8,#T_8e2dbdfc_0464_11ed_83cb_8e7759c05863row5_col9,#T_8e2dbdfc_0464_11ed_83cb_8e7759c05863row5_col15,#T_8e2dbdfc_0464_11ed_83cb_8e7759c05863row5_col16,#T_8e2dbdfc_0464_11ed_83cb_8e7759c05863row5_col17,#T_8e2dbdfc_0464_11ed_83cb_8e7759c05863row6_col0,#T_8e2dbdfc_0464_11ed_83cb_8e7759c05863row6_col1,#T_8e2dbdfc_0464_11ed_83cb_8e7759c05863row6_col2,#T_8e2dbdfc_0464_11ed_83cb_8e7759c05863row6_col3,#T_8e2dbdfc_0464_11ed_83cb_8e7759c05863row6_col4,#T_8e2dbdfc_0464_11ed_83cb_8e7759c05863row6_col5,#T_8e2dbdfc_0464_11ed_83cb_8e7759c05863row6_col6,#T_8e2dbdfc_0464_11ed_83cb_8e7759c05863row6_col7,#T_8e2dbdfc_0464_11ed_83cb_8e7759c05863row6_col8,#T_8e2dbdfc_0464_11ed_83cb_8e7759c05863row6_col9,#T_8e2dbdfc_0464_11ed_83cb_8e7759c05863row6_col14,#T_8e2dbdfc_0464_11ed_83cb_8e7759c05863row6_col15,#T_8e2dbdfc_0464_11ed_83cb_8e7759c05863row6_col16,#T_8e2dbdfc_0464_11ed_83cb_8e7759c05863row6_col17,#T_8e2dbdfc_0464_11ed_83cb_8e7759c05863row7_col0,#T_8e2dbdfc_0464_11ed_83cb_8e7759c05863row7_col1,#T_8e2dbdfc_0464_11ed_83cb_8e7759c05863row7_col2,#T_8e2dbdfc_0464_11ed_83cb_8e7759c05863row7_col3,#T_8e2dbdfc_0464_11ed_83cb_8e7759c05863row7_col4,#T_8e2dbdfc_0464_11ed_83cb_8e7759c05863row7_col5,#T_8e2dbdfc_0464_11ed_83cb_8e7759c05863row7_col6,#T_8e2dbdfc_0464_11ed_83cb_8e7759c05863row7_col13,#T_8e2dbdfc_0464_11ed_83cb_8e7759c05863row7_col14,#T_8e2dbdfc_0464_11ed_83cb_8e7759c05863row7_col15,#T_8e2dbdfc_0464_11ed_83cb_8e7759c05863row7_col16,#T_8e2dbdfc_0464_11ed_83cb_8e7759c05863row7_col17,#T_8e2dbdfc_0464_11ed_83cb_8e7759c05863row8_col0,#T_8e2dbdfc_0464_11ed_83cb_8e7759c05863row8_col1,#T_8e2dbdfc_0464_11ed_83cb_8e7759c05863row8_col2,#T_8e2dbdfc_0464_11ed_83cb_8e7759c05863row8_col3,#T_8e2dbdfc_0464_11ed_83cb_8e7759c05863row8_col4,#T_8e2dbdfc_0464_11ed_83cb_8e7759c05863row8_col13,#T_8e2dbdfc_0464_11ed_83cb_8e7759c05863row8_col14,#T_8e2dbdfc_0464_11ed_83cb_8e7759c05863row8_col15,#T_8e2dbdfc_0464_11ed_83cb_8e7759c05863row8_col16,#T_8e2dbdfc_0464_11ed_83cb_8e7759c05863row8_col17,#T_8e2dbdfc_0464_11ed_83cb_8e7759c05863row9_col0,#T_8e2dbdfc_0464_11ed_83cb_8e7759c05863row9_col1,#T_8e2dbdfc_0464_11ed_83cb_8e7759c05863row9_col2,#T_8e2dbdfc_0464_11ed_83cb_8e7759c05863row9_col3,#T_8e2dbdfc_0464_11ed_83cb_8e7759c05863row9_col4,#T_8e2dbdfc_0464_11ed_83cb_8e7759c05863row9_col16,#T_8e2dbdfc_0464_11ed_83cb_8e7759c05863row9_col17,#T_8e2dbdfc_0464_11ed_83cb_8e7759c05863row10_col0,#T_8e2dbdfc_0464_11ed_83cb_8e7759c05863row10_col1,#T_8e2dbdfc_0464_11ed_83cb_8e7759c05863row10_col2,#T_8e2dbdfc_0464_11ed_83cb_8e7759c05863row10_col3,#T_8e2dbdfc_0464_11ed_83cb_8e7759c05863row10_col4,#T_8e2dbdfc_0464_11ed_83cb_8e7759c05863row10_col5,#T_8e2dbdfc_0464_11ed_83cb_8e7759c05863row10_col6,#T_8e2dbdfc_0464_11ed_83cb_8e7759c05863row10_col17{\n",
       "            font-size:  6pt;\n",
       "            background-color:  #ffffff;\n",
       "            color:  #000000;\n",
       "        }#T_8e2dbdfc_0464_11ed_83cb_8e7759c05863row1_col5{\n",
       "            font-size:  6pt;\n",
       "            background-color:  #efefef;\n",
       "            color:  #000000;\n",
       "        }#T_8e2dbdfc_0464_11ed_83cb_8e7759c05863row1_col6,#T_8e2dbdfc_0464_11ed_83cb_8e7759c05863row1_col13{\n",
       "            font-size:  6pt;\n",
       "            background-color:  #7c7c7c;\n",
       "            color:  #000000;\n",
       "        }#T_8e2dbdfc_0464_11ed_83cb_8e7759c05863row1_col7{\n",
       "            font-size:  6pt;\n",
       "            background-color:  #4a4a4a;\n",
       "            color:  #f1f1f1;\n",
       "        }#T_8e2dbdfc_0464_11ed_83cb_8e7759c05863row1_col8,#T_8e2dbdfc_0464_11ed_83cb_8e7759c05863row1_col9,#T_8e2dbdfc_0464_11ed_83cb_8e7759c05863row1_col10,#T_8e2dbdfc_0464_11ed_83cb_8e7759c05863row2_col5,#T_8e2dbdfc_0464_11ed_83cb_8e7759c05863row2_col6,#T_8e2dbdfc_0464_11ed_83cb_8e7759c05863row2_col7,#T_8e2dbdfc_0464_11ed_83cb_8e7759c05863row2_col11,#T_8e2dbdfc_0464_11ed_83cb_8e7759c05863row2_col12,#T_8e2dbdfc_0464_11ed_83cb_8e7759c05863row2_col13,#T_8e2dbdfc_0464_11ed_83cb_8e7759c05863row3_col4,#T_8e2dbdfc_0464_11ed_83cb_8e7759c05863row3_col12,#T_8e2dbdfc_0464_11ed_83cb_8e7759c05863row3_col13,#T_8e2dbdfc_0464_11ed_83cb_8e7759c05863row4_col1,#T_8e2dbdfc_0464_11ed_83cb_8e7759c05863row4_col2,#T_8e2dbdfc_0464_11ed_83cb_8e7759c05863row4_col3,#T_8e2dbdfc_0464_11ed_83cb_8e7759c05863row4_col12,#T_8e2dbdfc_0464_11ed_83cb_8e7759c05863row4_col13,#T_8e2dbdfc_0464_11ed_83cb_8e7759c05863row5_col12,#T_8e2dbdfc_0464_11ed_83cb_8e7759c05863row6_col11,#T_8e2dbdfc_0464_11ed_83cb_8e7759c05863row9_col11,#T_8e2dbdfc_0464_11ed_83cb_8e7759c05863row10_col11,#T_8e2dbdfc_0464_11ed_83cb_8e7759c05863row10_col12,#T_8e2dbdfc_0464_11ed_83cb_8e7759c05863row10_col13,#T_8e2dbdfc_0464_11ed_83cb_8e7759c05863row10_col14,#T_8e2dbdfc_0464_11ed_83cb_8e7759c05863row10_col15,#T_8e2dbdfc_0464_11ed_83cb_8e7759c05863row10_col16{\n",
       "            font-size:  6pt;\n",
       "            background-color:  #000000;\n",
       "            color:  #f1f1f1;\n",
       "        }#T_8e2dbdfc_0464_11ed_83cb_8e7759c05863row1_col11{\n",
       "            font-size:  6pt;\n",
       "            background-color:  #606060;\n",
       "            color:  #f1f1f1;\n",
       "        }#T_8e2dbdfc_0464_11ed_83cb_8e7759c05863row1_col12{\n",
       "            font-size:  6pt;\n",
       "            background-color:  #4d4d4d;\n",
       "            color:  #f1f1f1;\n",
       "        }#T_8e2dbdfc_0464_11ed_83cb_8e7759c05863row1_col14{\n",
       "            font-size:  6pt;\n",
       "            background-color:  #bbbbbb;\n",
       "            color:  #000000;\n",
       "        }#T_8e2dbdfc_0464_11ed_83cb_8e7759c05863row2_col3{\n",
       "            font-size:  6pt;\n",
       "            background-color:  #e4e4e4;\n",
       "            color:  #000000;\n",
       "        }#T_8e2dbdfc_0464_11ed_83cb_8e7759c05863row2_col4,#T_8e2dbdfc_0464_11ed_83cb_8e7759c05863row8_col6{\n",
       "            font-size:  6pt;\n",
       "            background-color:  #6b6b6b;\n",
       "            color:  #000000;\n",
       "        }#T_8e2dbdfc_0464_11ed_83cb_8e7759c05863row2_col8,#T_8e2dbdfc_0464_11ed_83cb_8e7759c05863row2_col14,#T_8e2dbdfc_0464_11ed_83cb_8e7759c05863row3_col14{\n",
       "            font-size:  6pt;\n",
       "            background-color:  #171717;\n",
       "            color:  #f1f1f1;\n",
       "        }#T_8e2dbdfc_0464_11ed_83cb_8e7759c05863row2_col9,#T_8e2dbdfc_0464_11ed_83cb_8e7759c05863row3_col11{\n",
       "            font-size:  6pt;\n",
       "            background-color:  #4b4b4b;\n",
       "            color:  #f1f1f1;\n",
       "        }#T_8e2dbdfc_0464_11ed_83cb_8e7759c05863row2_col10,#T_8e2dbdfc_0464_11ed_83cb_8e7759c05863row7_col10,#T_8e2dbdfc_0464_11ed_83cb_8e7759c05863row8_col8,#T_8e2dbdfc_0464_11ed_83cb_8e7759c05863row8_col10,#T_8e2dbdfc_0464_11ed_83cb_8e7759c05863row9_col8,#T_8e2dbdfc_0464_11ed_83cb_8e7759c05863row9_col10{\n",
       "            font-size:  6pt;\n",
       "            background-color:  #010101;\n",
       "            color:  #f1f1f1;\n",
       "        }#T_8e2dbdfc_0464_11ed_83cb_8e7759c05863row3_col1{\n",
       "            font-size:  6pt;\n",
       "            background-color:  #272727;\n",
       "            color:  #f1f1f1;\n",
       "        }#T_8e2dbdfc_0464_11ed_83cb_8e7759c05863row3_col2{\n",
       "            font-size:  6pt;\n",
       "            background-color:  #0a0a0a;\n",
       "            color:  #f1f1f1;\n",
       "        }#T_8e2dbdfc_0464_11ed_83cb_8e7759c05863row3_col3{\n",
       "            font-size:  6pt;\n",
       "            background-color:  #050505;\n",
       "            color:  #f1f1f1;\n",
       "        }#T_8e2dbdfc_0464_11ed_83cb_8e7759c05863row3_col5{\n",
       "            font-size:  6pt;\n",
       "            background-color:  #333333;\n",
       "            color:  #f1f1f1;\n",
       "        }#T_8e2dbdfc_0464_11ed_83cb_8e7759c05863row3_col6{\n",
       "            font-size:  6pt;\n",
       "            background-color:  #e6e6e6;\n",
       "            color:  #000000;\n",
       "        }#T_8e2dbdfc_0464_11ed_83cb_8e7759c05863row3_col7,#T_8e2dbdfc_0464_11ed_83cb_8e7759c05863row3_col10{\n",
       "            font-size:  6pt;\n",
       "            background-color:  #fafafa;\n",
       "            color:  #000000;\n",
       "        }#T_8e2dbdfc_0464_11ed_83cb_8e7759c05863row3_col8{\n",
       "            font-size:  6pt;\n",
       "            background-color:  #fbfbfb;\n",
       "            color:  #000000;\n",
       "        }#T_8e2dbdfc_0464_11ed_83cb_8e7759c05863row3_col9{\n",
       "            font-size:  6pt;\n",
       "            background-color:  #fdfdfd;\n",
       "            color:  #000000;\n",
       "        }#T_8e2dbdfc_0464_11ed_83cb_8e7759c05863row4_col4{\n",
       "            font-size:  6pt;\n",
       "            background-color:  #1b1b1b;\n",
       "            color:  #f1f1f1;\n",
       "        }#T_8e2dbdfc_0464_11ed_83cb_8e7759c05863row4_col5{\n",
       "            font-size:  6pt;\n",
       "            background-color:  #e0e0e0;\n",
       "            color:  #000000;\n",
       "        }#T_8e2dbdfc_0464_11ed_83cb_8e7759c05863row4_col11{\n",
       "            font-size:  6pt;\n",
       "            background-color:  #4e4e4e;\n",
       "            color:  #f1f1f1;\n",
       "        }#T_8e2dbdfc_0464_11ed_83cb_8e7759c05863row4_col14{\n",
       "            font-size:  6pt;\n",
       "            background-color:  #767676;\n",
       "            color:  #000000;\n",
       "        }#T_8e2dbdfc_0464_11ed_83cb_8e7759c05863row5_col1{\n",
       "            font-size:  6pt;\n",
       "            background-color:  #fcfcfc;\n",
       "            color:  #000000;\n",
       "        }#T_8e2dbdfc_0464_11ed_83cb_8e7759c05863row5_col2,#T_8e2dbdfc_0464_11ed_83cb_8e7759c05863row5_col3{\n",
       "            font-size:  6pt;\n",
       "            background-color:  #f6f6f6;\n",
       "            color:  #000000;\n",
       "        }#T_8e2dbdfc_0464_11ed_83cb_8e7759c05863row5_col4,#T_8e2dbdfc_0464_11ed_83cb_8e7759c05863row7_col7{\n",
       "            font-size:  6pt;\n",
       "            background-color:  #f8f8f8;\n",
       "            color:  #000000;\n",
       "        }#T_8e2dbdfc_0464_11ed_83cb_8e7759c05863row5_col10,#T_8e2dbdfc_0464_11ed_83cb_8e7759c05863row10_col7{\n",
       "            font-size:  6pt;\n",
       "            background-color:  #e8e8e8;\n",
       "            color:  #000000;\n",
       "        }#T_8e2dbdfc_0464_11ed_83cb_8e7759c05863row5_col11{\n",
       "            font-size:  6pt;\n",
       "            background-color:  #222222;\n",
       "            color:  #f1f1f1;\n",
       "        }#T_8e2dbdfc_0464_11ed_83cb_8e7759c05863row5_col13,#T_8e2dbdfc_0464_11ed_83cb_8e7759c05863row6_col12{\n",
       "            font-size:  6pt;\n",
       "            background-color:  #090909;\n",
       "            color:  #f1f1f1;\n",
       "        }#T_8e2dbdfc_0464_11ed_83cb_8e7759c05863row5_col14{\n",
       "            font-size:  6pt;\n",
       "            background-color:  #d0d0d0;\n",
       "            color:  #000000;\n",
       "        }#T_8e2dbdfc_0464_11ed_83cb_8e7759c05863row6_col10,#T_8e2dbdfc_0464_11ed_83cb_8e7759c05863row7_col11,#T_8e2dbdfc_0464_11ed_83cb_8e7759c05863row9_col6{\n",
       "            font-size:  6pt;\n",
       "            background-color:  #060606;\n",
       "            color:  #f1f1f1;\n",
       "        }#T_8e2dbdfc_0464_11ed_83cb_8e7759c05863row6_col13{\n",
       "            font-size:  6pt;\n",
       "            background-color:  #979797;\n",
       "            color:  #000000;\n",
       "        }#T_8e2dbdfc_0464_11ed_83cb_8e7759c05863row7_col8{\n",
       "            font-size:  6pt;\n",
       "            background-color:  #b6b6b6;\n",
       "            color:  #000000;\n",
       "        }#T_8e2dbdfc_0464_11ed_83cb_8e7759c05863row7_col9{\n",
       "            font-size:  6pt;\n",
       "            background-color:  #252525;\n",
       "            color:  #f1f1f1;\n",
       "        }#T_8e2dbdfc_0464_11ed_83cb_8e7759c05863row7_col12{\n",
       "            font-size:  6pt;\n",
       "            background-color:  #999999;\n",
       "            color:  #000000;\n",
       "        }#T_8e2dbdfc_0464_11ed_83cb_8e7759c05863row8_col5{\n",
       "            font-size:  6pt;\n",
       "            background-color:  #f9f9f9;\n",
       "            color:  #000000;\n",
       "        }#T_8e2dbdfc_0464_11ed_83cb_8e7759c05863row8_col7{\n",
       "            font-size:  6pt;\n",
       "            background-color:  #101010;\n",
       "            color:  #f1f1f1;\n",
       "        }#T_8e2dbdfc_0464_11ed_83cb_8e7759c05863row8_col9,#T_8e2dbdfc_0464_11ed_83cb_8e7759c05863row9_col9{\n",
       "            font-size:  6pt;\n",
       "            background-color:  #020202;\n",
       "            color:  #f1f1f1;\n",
       "        }#T_8e2dbdfc_0464_11ed_83cb_8e7759c05863row8_col11{\n",
       "            font-size:  6pt;\n",
       "            background-color:  #545454;\n",
       "            color:  #f1f1f1;\n",
       "        }#T_8e2dbdfc_0464_11ed_83cb_8e7759c05863row8_col12{\n",
       "            font-size:  6pt;\n",
       "            background-color:  #f1f1f1;\n",
       "            color:  #000000;\n",
       "        }#T_8e2dbdfc_0464_11ed_83cb_8e7759c05863row9_col5{\n",
       "            font-size:  6pt;\n",
       "            background-color:  #f7f7f7;\n",
       "            color:  #000000;\n",
       "        }#T_8e2dbdfc_0464_11ed_83cb_8e7759c05863row9_col7{\n",
       "            font-size:  6pt;\n",
       "            background-color:  #030303;\n",
       "            color:  #f1f1f1;\n",
       "        }#T_8e2dbdfc_0464_11ed_83cb_8e7759c05863row9_col12{\n",
       "            font-size:  6pt;\n",
       "            background-color:  #181818;\n",
       "            color:  #f1f1f1;\n",
       "        }#T_8e2dbdfc_0464_11ed_83cb_8e7759c05863row9_col13{\n",
       "            font-size:  6pt;\n",
       "            background-color:  #303030;\n",
       "            color:  #f1f1f1;\n",
       "        }#T_8e2dbdfc_0464_11ed_83cb_8e7759c05863row9_col14{\n",
       "            font-size:  6pt;\n",
       "            background-color:  #a9a9a9;\n",
       "            color:  #000000;\n",
       "        }#T_8e2dbdfc_0464_11ed_83cb_8e7759c05863row9_col15{\n",
       "            font-size:  6pt;\n",
       "            background-color:  #fefefe;\n",
       "            color:  #000000;\n",
       "        }#T_8e2dbdfc_0464_11ed_83cb_8e7759c05863row10_col8,#T_8e2dbdfc_0464_11ed_83cb_8e7759c05863row10_col9{\n",
       "            font-size:  6pt;\n",
       "            background-color:  #bababa;\n",
       "            color:  #000000;\n",
       "        }#T_8e2dbdfc_0464_11ed_83cb_8e7759c05863row10_col10{\n",
       "            font-size:  6pt;\n",
       "            background-color:  #393939;\n",
       "            color:  #f1f1f1;\n",
       "        }</style><table id=\"T_8e2dbdfc_0464_11ed_83cb_8e7759c05863\" ><thead>    <tr>        <th class=\"blank level0\" ></th>        <th class=\"col_heading level0 col0\" >0</th>        <th class=\"col_heading level0 col1\" >1</th>        <th class=\"col_heading level0 col2\" >2</th>        <th class=\"col_heading level0 col3\" >3</th>        <th class=\"col_heading level0 col4\" >4</th>        <th class=\"col_heading level0 col5\" >5</th>        <th class=\"col_heading level0 col6\" >6</th>        <th class=\"col_heading level0 col7\" >7</th>        <th class=\"col_heading level0 col8\" >8</th>        <th class=\"col_heading level0 col9\" >9</th>        <th class=\"col_heading level0 col10\" >10</th>        <th class=\"col_heading level0 col11\" >11</th>        <th class=\"col_heading level0 col12\" >12</th>        <th class=\"col_heading level0 col13\" >13</th>        <th class=\"col_heading level0 col14\" >14</th>        <th class=\"col_heading level0 col15\" >15</th>        <th class=\"col_heading level0 col16\" >16</th>        <th class=\"col_heading level0 col17\" >17</th>    </tr></thead><tbody>\n",
       "                <tr>\n",
       "                        <th id=\"T_8e2dbdfc_0464_11ed_83cb_8e7759c05863level0_row0\" class=\"row_heading level0 row0\" >0</th>\n",
       "                        <td id=\"T_8e2dbdfc_0464_11ed_83cb_8e7759c05863row0_col0\" class=\"data row0 col0\" >0</td>\n",
       "                        <td id=\"T_8e2dbdfc_0464_11ed_83cb_8e7759c05863row0_col1\" class=\"data row0 col1\" >0</td>\n",
       "                        <td id=\"T_8e2dbdfc_0464_11ed_83cb_8e7759c05863row0_col2\" class=\"data row0 col2\" >0</td>\n",
       "                        <td id=\"T_8e2dbdfc_0464_11ed_83cb_8e7759c05863row0_col3\" class=\"data row0 col3\" >0</td>\n",
       "                        <td id=\"T_8e2dbdfc_0464_11ed_83cb_8e7759c05863row0_col4\" class=\"data row0 col4\" >0</td>\n",
       "                        <td id=\"T_8e2dbdfc_0464_11ed_83cb_8e7759c05863row0_col5\" class=\"data row0 col5\" >0</td>\n",
       "                        <td id=\"T_8e2dbdfc_0464_11ed_83cb_8e7759c05863row0_col6\" class=\"data row0 col6\" >0</td>\n",
       "                        <td id=\"T_8e2dbdfc_0464_11ed_83cb_8e7759c05863row0_col7\" class=\"data row0 col7\" >0</td>\n",
       "                        <td id=\"T_8e2dbdfc_0464_11ed_83cb_8e7759c05863row0_col8\" class=\"data row0 col8\" >0</td>\n",
       "                        <td id=\"T_8e2dbdfc_0464_11ed_83cb_8e7759c05863row0_col9\" class=\"data row0 col9\" >0</td>\n",
       "                        <td id=\"T_8e2dbdfc_0464_11ed_83cb_8e7759c05863row0_col10\" class=\"data row0 col10\" >0</td>\n",
       "                        <td id=\"T_8e2dbdfc_0464_11ed_83cb_8e7759c05863row0_col11\" class=\"data row0 col11\" >0</td>\n",
       "                        <td id=\"T_8e2dbdfc_0464_11ed_83cb_8e7759c05863row0_col12\" class=\"data row0 col12\" >0</td>\n",
       "                        <td id=\"T_8e2dbdfc_0464_11ed_83cb_8e7759c05863row0_col13\" class=\"data row0 col13\" >0</td>\n",
       "                        <td id=\"T_8e2dbdfc_0464_11ed_83cb_8e7759c05863row0_col14\" class=\"data row0 col14\" >0</td>\n",
       "                        <td id=\"T_8e2dbdfc_0464_11ed_83cb_8e7759c05863row0_col15\" class=\"data row0 col15\" >0</td>\n",
       "                        <td id=\"T_8e2dbdfc_0464_11ed_83cb_8e7759c05863row0_col16\" class=\"data row0 col16\" >0</td>\n",
       "                        <td id=\"T_8e2dbdfc_0464_11ed_83cb_8e7759c05863row0_col17\" class=\"data row0 col17\" >0</td>\n",
       "            </tr>\n",
       "            <tr>\n",
       "                        <th id=\"T_8e2dbdfc_0464_11ed_83cb_8e7759c05863level0_row1\" class=\"row_heading level0 row1\" >1</th>\n",
       "                        <td id=\"T_8e2dbdfc_0464_11ed_83cb_8e7759c05863row1_col0\" class=\"data row1 col0\" >0</td>\n",
       "                        <td id=\"T_8e2dbdfc_0464_11ed_83cb_8e7759c05863row1_col1\" class=\"data row1 col1\" >0</td>\n",
       "                        <td id=\"T_8e2dbdfc_0464_11ed_83cb_8e7759c05863row1_col2\" class=\"data row1 col2\" >0</td>\n",
       "                        <td id=\"T_8e2dbdfc_0464_11ed_83cb_8e7759c05863row1_col3\" class=\"data row1 col3\" >0</td>\n",
       "                        <td id=\"T_8e2dbdfc_0464_11ed_83cb_8e7759c05863row1_col4\" class=\"data row1 col4\" >0</td>\n",
       "                        <td id=\"T_8e2dbdfc_0464_11ed_83cb_8e7759c05863row1_col5\" class=\"data row1 col5\" >29</td>\n",
       "                        <td id=\"T_8e2dbdfc_0464_11ed_83cb_8e7759c05863row1_col6\" class=\"data row1 col6\" >150</td>\n",
       "                        <td id=\"T_8e2dbdfc_0464_11ed_83cb_8e7759c05863row1_col7\" class=\"data row1 col7\" >195</td>\n",
       "                        <td id=\"T_8e2dbdfc_0464_11ed_83cb_8e7759c05863row1_col8\" class=\"data row1 col8\" >254</td>\n",
       "                        <td id=\"T_8e2dbdfc_0464_11ed_83cb_8e7759c05863row1_col9\" class=\"data row1 col9\" >255</td>\n",
       "                        <td id=\"T_8e2dbdfc_0464_11ed_83cb_8e7759c05863row1_col10\" class=\"data row1 col10\" >254</td>\n",
       "                        <td id=\"T_8e2dbdfc_0464_11ed_83cb_8e7759c05863row1_col11\" class=\"data row1 col11\" >176</td>\n",
       "                        <td id=\"T_8e2dbdfc_0464_11ed_83cb_8e7759c05863row1_col12\" class=\"data row1 col12\" >193</td>\n",
       "                        <td id=\"T_8e2dbdfc_0464_11ed_83cb_8e7759c05863row1_col13\" class=\"data row1 col13\" >150</td>\n",
       "                        <td id=\"T_8e2dbdfc_0464_11ed_83cb_8e7759c05863row1_col14\" class=\"data row1 col14\" >96</td>\n",
       "                        <td id=\"T_8e2dbdfc_0464_11ed_83cb_8e7759c05863row1_col15\" class=\"data row1 col15\" >0</td>\n",
       "                        <td id=\"T_8e2dbdfc_0464_11ed_83cb_8e7759c05863row1_col16\" class=\"data row1 col16\" >0</td>\n",
       "                        <td id=\"T_8e2dbdfc_0464_11ed_83cb_8e7759c05863row1_col17\" class=\"data row1 col17\" >0</td>\n",
       "            </tr>\n",
       "            <tr>\n",
       "                        <th id=\"T_8e2dbdfc_0464_11ed_83cb_8e7759c05863level0_row2\" class=\"row_heading level0 row2\" >2</th>\n",
       "                        <td id=\"T_8e2dbdfc_0464_11ed_83cb_8e7759c05863row2_col0\" class=\"data row2 col0\" >0</td>\n",
       "                        <td id=\"T_8e2dbdfc_0464_11ed_83cb_8e7759c05863row2_col1\" class=\"data row2 col1\" >0</td>\n",
       "                        <td id=\"T_8e2dbdfc_0464_11ed_83cb_8e7759c05863row2_col2\" class=\"data row2 col2\" >0</td>\n",
       "                        <td id=\"T_8e2dbdfc_0464_11ed_83cb_8e7759c05863row2_col3\" class=\"data row2 col3\" >48</td>\n",
       "                        <td id=\"T_8e2dbdfc_0464_11ed_83cb_8e7759c05863row2_col4\" class=\"data row2 col4\" >166</td>\n",
       "                        <td id=\"T_8e2dbdfc_0464_11ed_83cb_8e7759c05863row2_col5\" class=\"data row2 col5\" >224</td>\n",
       "                        <td id=\"T_8e2dbdfc_0464_11ed_83cb_8e7759c05863row2_col6\" class=\"data row2 col6\" >253</td>\n",
       "                        <td id=\"T_8e2dbdfc_0464_11ed_83cb_8e7759c05863row2_col7\" class=\"data row2 col7\" >253</td>\n",
       "                        <td id=\"T_8e2dbdfc_0464_11ed_83cb_8e7759c05863row2_col8\" class=\"data row2 col8\" >234</td>\n",
       "                        <td id=\"T_8e2dbdfc_0464_11ed_83cb_8e7759c05863row2_col9\" class=\"data row2 col9\" >196</td>\n",
       "                        <td id=\"T_8e2dbdfc_0464_11ed_83cb_8e7759c05863row2_col10\" class=\"data row2 col10\" >253</td>\n",
       "                        <td id=\"T_8e2dbdfc_0464_11ed_83cb_8e7759c05863row2_col11\" class=\"data row2 col11\" >253</td>\n",
       "                        <td id=\"T_8e2dbdfc_0464_11ed_83cb_8e7759c05863row2_col12\" class=\"data row2 col12\" >253</td>\n",
       "                        <td id=\"T_8e2dbdfc_0464_11ed_83cb_8e7759c05863row2_col13\" class=\"data row2 col13\" >253</td>\n",
       "                        <td id=\"T_8e2dbdfc_0464_11ed_83cb_8e7759c05863row2_col14\" class=\"data row2 col14\" >233</td>\n",
       "                        <td id=\"T_8e2dbdfc_0464_11ed_83cb_8e7759c05863row2_col15\" class=\"data row2 col15\" >0</td>\n",
       "                        <td id=\"T_8e2dbdfc_0464_11ed_83cb_8e7759c05863row2_col16\" class=\"data row2 col16\" >0</td>\n",
       "                        <td id=\"T_8e2dbdfc_0464_11ed_83cb_8e7759c05863row2_col17\" class=\"data row2 col17\" >0</td>\n",
       "            </tr>\n",
       "            <tr>\n",
       "                        <th id=\"T_8e2dbdfc_0464_11ed_83cb_8e7759c05863level0_row3\" class=\"row_heading level0 row3\" >3</th>\n",
       "                        <td id=\"T_8e2dbdfc_0464_11ed_83cb_8e7759c05863row3_col0\" class=\"data row3 col0\" >0</td>\n",
       "                        <td id=\"T_8e2dbdfc_0464_11ed_83cb_8e7759c05863row3_col1\" class=\"data row3 col1\" >93</td>\n",
       "                        <td id=\"T_8e2dbdfc_0464_11ed_83cb_8e7759c05863row3_col2\" class=\"data row3 col2\" >244</td>\n",
       "                        <td id=\"T_8e2dbdfc_0464_11ed_83cb_8e7759c05863row3_col3\" class=\"data row3 col3\" >249</td>\n",
       "                        <td id=\"T_8e2dbdfc_0464_11ed_83cb_8e7759c05863row3_col4\" class=\"data row3 col4\" >253</td>\n",
       "                        <td id=\"T_8e2dbdfc_0464_11ed_83cb_8e7759c05863row3_col5\" class=\"data row3 col5\" >187</td>\n",
       "                        <td id=\"T_8e2dbdfc_0464_11ed_83cb_8e7759c05863row3_col6\" class=\"data row3 col6\" >46</td>\n",
       "                        <td id=\"T_8e2dbdfc_0464_11ed_83cb_8e7759c05863row3_col7\" class=\"data row3 col7\" >10</td>\n",
       "                        <td id=\"T_8e2dbdfc_0464_11ed_83cb_8e7759c05863row3_col8\" class=\"data row3 col8\" >8</td>\n",
       "                        <td id=\"T_8e2dbdfc_0464_11ed_83cb_8e7759c05863row3_col9\" class=\"data row3 col9\" >4</td>\n",
       "                        <td id=\"T_8e2dbdfc_0464_11ed_83cb_8e7759c05863row3_col10\" class=\"data row3 col10\" >10</td>\n",
       "                        <td id=\"T_8e2dbdfc_0464_11ed_83cb_8e7759c05863row3_col11\" class=\"data row3 col11\" >194</td>\n",
       "                        <td id=\"T_8e2dbdfc_0464_11ed_83cb_8e7759c05863row3_col12\" class=\"data row3 col12\" >253</td>\n",
       "                        <td id=\"T_8e2dbdfc_0464_11ed_83cb_8e7759c05863row3_col13\" class=\"data row3 col13\" >253</td>\n",
       "                        <td id=\"T_8e2dbdfc_0464_11ed_83cb_8e7759c05863row3_col14\" class=\"data row3 col14\" >233</td>\n",
       "                        <td id=\"T_8e2dbdfc_0464_11ed_83cb_8e7759c05863row3_col15\" class=\"data row3 col15\" >0</td>\n",
       "                        <td id=\"T_8e2dbdfc_0464_11ed_83cb_8e7759c05863row3_col16\" class=\"data row3 col16\" >0</td>\n",
       "                        <td id=\"T_8e2dbdfc_0464_11ed_83cb_8e7759c05863row3_col17\" class=\"data row3 col17\" >0</td>\n",
       "            </tr>\n",
       "            <tr>\n",
       "                        <th id=\"T_8e2dbdfc_0464_11ed_83cb_8e7759c05863level0_row4\" class=\"row_heading level0 row4\" >4</th>\n",
       "                        <td id=\"T_8e2dbdfc_0464_11ed_83cb_8e7759c05863row4_col0\" class=\"data row4 col0\" >0</td>\n",
       "                        <td id=\"T_8e2dbdfc_0464_11ed_83cb_8e7759c05863row4_col1\" class=\"data row4 col1\" >107</td>\n",
       "                        <td id=\"T_8e2dbdfc_0464_11ed_83cb_8e7759c05863row4_col2\" class=\"data row4 col2\" >253</td>\n",
       "                        <td id=\"T_8e2dbdfc_0464_11ed_83cb_8e7759c05863row4_col3\" class=\"data row4 col3\" >253</td>\n",
       "                        <td id=\"T_8e2dbdfc_0464_11ed_83cb_8e7759c05863row4_col4\" class=\"data row4 col4\" >230</td>\n",
       "                        <td id=\"T_8e2dbdfc_0464_11ed_83cb_8e7759c05863row4_col5\" class=\"data row4 col5\" >48</td>\n",
       "                        <td id=\"T_8e2dbdfc_0464_11ed_83cb_8e7759c05863row4_col6\" class=\"data row4 col6\" >0</td>\n",
       "                        <td id=\"T_8e2dbdfc_0464_11ed_83cb_8e7759c05863row4_col7\" class=\"data row4 col7\" >0</td>\n",
       "                        <td id=\"T_8e2dbdfc_0464_11ed_83cb_8e7759c05863row4_col8\" class=\"data row4 col8\" >0</td>\n",
       "                        <td id=\"T_8e2dbdfc_0464_11ed_83cb_8e7759c05863row4_col9\" class=\"data row4 col9\" >0</td>\n",
       "                        <td id=\"T_8e2dbdfc_0464_11ed_83cb_8e7759c05863row4_col10\" class=\"data row4 col10\" >0</td>\n",
       "                        <td id=\"T_8e2dbdfc_0464_11ed_83cb_8e7759c05863row4_col11\" class=\"data row4 col11\" >192</td>\n",
       "                        <td id=\"T_8e2dbdfc_0464_11ed_83cb_8e7759c05863row4_col12\" class=\"data row4 col12\" >253</td>\n",
       "                        <td id=\"T_8e2dbdfc_0464_11ed_83cb_8e7759c05863row4_col13\" class=\"data row4 col13\" >253</td>\n",
       "                        <td id=\"T_8e2dbdfc_0464_11ed_83cb_8e7759c05863row4_col14\" class=\"data row4 col14\" >156</td>\n",
       "                        <td id=\"T_8e2dbdfc_0464_11ed_83cb_8e7759c05863row4_col15\" class=\"data row4 col15\" >0</td>\n",
       "                        <td id=\"T_8e2dbdfc_0464_11ed_83cb_8e7759c05863row4_col16\" class=\"data row4 col16\" >0</td>\n",
       "                        <td id=\"T_8e2dbdfc_0464_11ed_83cb_8e7759c05863row4_col17\" class=\"data row4 col17\" >0</td>\n",
       "            </tr>\n",
       "            <tr>\n",
       "                        <th id=\"T_8e2dbdfc_0464_11ed_83cb_8e7759c05863level0_row5\" class=\"row_heading level0 row5\" >5</th>\n",
       "                        <td id=\"T_8e2dbdfc_0464_11ed_83cb_8e7759c05863row5_col0\" class=\"data row5 col0\" >0</td>\n",
       "                        <td id=\"T_8e2dbdfc_0464_11ed_83cb_8e7759c05863row5_col1\" class=\"data row5 col1\" >3</td>\n",
       "                        <td id=\"T_8e2dbdfc_0464_11ed_83cb_8e7759c05863row5_col2\" class=\"data row5 col2\" >20</td>\n",
       "                        <td id=\"T_8e2dbdfc_0464_11ed_83cb_8e7759c05863row5_col3\" class=\"data row5 col3\" >20</td>\n",
       "                        <td id=\"T_8e2dbdfc_0464_11ed_83cb_8e7759c05863row5_col4\" class=\"data row5 col4\" >15</td>\n",
       "                        <td id=\"T_8e2dbdfc_0464_11ed_83cb_8e7759c05863row5_col5\" class=\"data row5 col5\" >0</td>\n",
       "                        <td id=\"T_8e2dbdfc_0464_11ed_83cb_8e7759c05863row5_col6\" class=\"data row5 col6\" >0</td>\n",
       "                        <td id=\"T_8e2dbdfc_0464_11ed_83cb_8e7759c05863row5_col7\" class=\"data row5 col7\" >0</td>\n",
       "                        <td id=\"T_8e2dbdfc_0464_11ed_83cb_8e7759c05863row5_col8\" class=\"data row5 col8\" >0</td>\n",
       "                        <td id=\"T_8e2dbdfc_0464_11ed_83cb_8e7759c05863row5_col9\" class=\"data row5 col9\" >0</td>\n",
       "                        <td id=\"T_8e2dbdfc_0464_11ed_83cb_8e7759c05863row5_col10\" class=\"data row5 col10\" >43</td>\n",
       "                        <td id=\"T_8e2dbdfc_0464_11ed_83cb_8e7759c05863row5_col11\" class=\"data row5 col11\" >224</td>\n",
       "                        <td id=\"T_8e2dbdfc_0464_11ed_83cb_8e7759c05863row5_col12\" class=\"data row5 col12\" >253</td>\n",
       "                        <td id=\"T_8e2dbdfc_0464_11ed_83cb_8e7759c05863row5_col13\" class=\"data row5 col13\" >245</td>\n",
       "                        <td id=\"T_8e2dbdfc_0464_11ed_83cb_8e7759c05863row5_col14\" class=\"data row5 col14\" >74</td>\n",
       "                        <td id=\"T_8e2dbdfc_0464_11ed_83cb_8e7759c05863row5_col15\" class=\"data row5 col15\" >0</td>\n",
       "                        <td id=\"T_8e2dbdfc_0464_11ed_83cb_8e7759c05863row5_col16\" class=\"data row5 col16\" >0</td>\n",
       "                        <td id=\"T_8e2dbdfc_0464_11ed_83cb_8e7759c05863row5_col17\" class=\"data row5 col17\" >0</td>\n",
       "            </tr>\n",
       "            <tr>\n",
       "                        <th id=\"T_8e2dbdfc_0464_11ed_83cb_8e7759c05863level0_row6\" class=\"row_heading level0 row6\" >6</th>\n",
       "                        <td id=\"T_8e2dbdfc_0464_11ed_83cb_8e7759c05863row6_col0\" class=\"data row6 col0\" >0</td>\n",
       "                        <td id=\"T_8e2dbdfc_0464_11ed_83cb_8e7759c05863row6_col1\" class=\"data row6 col1\" >0</td>\n",
       "                        <td id=\"T_8e2dbdfc_0464_11ed_83cb_8e7759c05863row6_col2\" class=\"data row6 col2\" >0</td>\n",
       "                        <td id=\"T_8e2dbdfc_0464_11ed_83cb_8e7759c05863row6_col3\" class=\"data row6 col3\" >0</td>\n",
       "                        <td id=\"T_8e2dbdfc_0464_11ed_83cb_8e7759c05863row6_col4\" class=\"data row6 col4\" >0</td>\n",
       "                        <td id=\"T_8e2dbdfc_0464_11ed_83cb_8e7759c05863row6_col5\" class=\"data row6 col5\" >0</td>\n",
       "                        <td id=\"T_8e2dbdfc_0464_11ed_83cb_8e7759c05863row6_col6\" class=\"data row6 col6\" >0</td>\n",
       "                        <td id=\"T_8e2dbdfc_0464_11ed_83cb_8e7759c05863row6_col7\" class=\"data row6 col7\" >0</td>\n",
       "                        <td id=\"T_8e2dbdfc_0464_11ed_83cb_8e7759c05863row6_col8\" class=\"data row6 col8\" >0</td>\n",
       "                        <td id=\"T_8e2dbdfc_0464_11ed_83cb_8e7759c05863row6_col9\" class=\"data row6 col9\" >0</td>\n",
       "                        <td id=\"T_8e2dbdfc_0464_11ed_83cb_8e7759c05863row6_col10\" class=\"data row6 col10\" >249</td>\n",
       "                        <td id=\"T_8e2dbdfc_0464_11ed_83cb_8e7759c05863row6_col11\" class=\"data row6 col11\" >253</td>\n",
       "                        <td id=\"T_8e2dbdfc_0464_11ed_83cb_8e7759c05863row6_col12\" class=\"data row6 col12\" >245</td>\n",
       "                        <td id=\"T_8e2dbdfc_0464_11ed_83cb_8e7759c05863row6_col13\" class=\"data row6 col13\" >126</td>\n",
       "                        <td id=\"T_8e2dbdfc_0464_11ed_83cb_8e7759c05863row6_col14\" class=\"data row6 col14\" >0</td>\n",
       "                        <td id=\"T_8e2dbdfc_0464_11ed_83cb_8e7759c05863row6_col15\" class=\"data row6 col15\" >0</td>\n",
       "                        <td id=\"T_8e2dbdfc_0464_11ed_83cb_8e7759c05863row6_col16\" class=\"data row6 col16\" >0</td>\n",
       "                        <td id=\"T_8e2dbdfc_0464_11ed_83cb_8e7759c05863row6_col17\" class=\"data row6 col17\" >0</td>\n",
       "            </tr>\n",
       "            <tr>\n",
       "                        <th id=\"T_8e2dbdfc_0464_11ed_83cb_8e7759c05863level0_row7\" class=\"row_heading level0 row7\" >7</th>\n",
       "                        <td id=\"T_8e2dbdfc_0464_11ed_83cb_8e7759c05863row7_col0\" class=\"data row7 col0\" >0</td>\n",
       "                        <td id=\"T_8e2dbdfc_0464_11ed_83cb_8e7759c05863row7_col1\" class=\"data row7 col1\" >0</td>\n",
       "                        <td id=\"T_8e2dbdfc_0464_11ed_83cb_8e7759c05863row7_col2\" class=\"data row7 col2\" >0</td>\n",
       "                        <td id=\"T_8e2dbdfc_0464_11ed_83cb_8e7759c05863row7_col3\" class=\"data row7 col3\" >0</td>\n",
       "                        <td id=\"T_8e2dbdfc_0464_11ed_83cb_8e7759c05863row7_col4\" class=\"data row7 col4\" >0</td>\n",
       "                        <td id=\"T_8e2dbdfc_0464_11ed_83cb_8e7759c05863row7_col5\" class=\"data row7 col5\" >0</td>\n",
       "                        <td id=\"T_8e2dbdfc_0464_11ed_83cb_8e7759c05863row7_col6\" class=\"data row7 col6\" >0</td>\n",
       "                        <td id=\"T_8e2dbdfc_0464_11ed_83cb_8e7759c05863row7_col7\" class=\"data row7 col7\" >14</td>\n",
       "                        <td id=\"T_8e2dbdfc_0464_11ed_83cb_8e7759c05863row7_col8\" class=\"data row7 col8\" >101</td>\n",
       "                        <td id=\"T_8e2dbdfc_0464_11ed_83cb_8e7759c05863row7_col9\" class=\"data row7 col9\" >223</td>\n",
       "                        <td id=\"T_8e2dbdfc_0464_11ed_83cb_8e7759c05863row7_col10\" class=\"data row7 col10\" >253</td>\n",
       "                        <td id=\"T_8e2dbdfc_0464_11ed_83cb_8e7759c05863row7_col11\" class=\"data row7 col11\" >248</td>\n",
       "                        <td id=\"T_8e2dbdfc_0464_11ed_83cb_8e7759c05863row7_col12\" class=\"data row7 col12\" >124</td>\n",
       "                        <td id=\"T_8e2dbdfc_0464_11ed_83cb_8e7759c05863row7_col13\" class=\"data row7 col13\" >0</td>\n",
       "                        <td id=\"T_8e2dbdfc_0464_11ed_83cb_8e7759c05863row7_col14\" class=\"data row7 col14\" >0</td>\n",
       "                        <td id=\"T_8e2dbdfc_0464_11ed_83cb_8e7759c05863row7_col15\" class=\"data row7 col15\" >0</td>\n",
       "                        <td id=\"T_8e2dbdfc_0464_11ed_83cb_8e7759c05863row7_col16\" class=\"data row7 col16\" >0</td>\n",
       "                        <td id=\"T_8e2dbdfc_0464_11ed_83cb_8e7759c05863row7_col17\" class=\"data row7 col17\" >0</td>\n",
       "            </tr>\n",
       "            <tr>\n",
       "                        <th id=\"T_8e2dbdfc_0464_11ed_83cb_8e7759c05863level0_row8\" class=\"row_heading level0 row8\" >8</th>\n",
       "                        <td id=\"T_8e2dbdfc_0464_11ed_83cb_8e7759c05863row8_col0\" class=\"data row8 col0\" >0</td>\n",
       "                        <td id=\"T_8e2dbdfc_0464_11ed_83cb_8e7759c05863row8_col1\" class=\"data row8 col1\" >0</td>\n",
       "                        <td id=\"T_8e2dbdfc_0464_11ed_83cb_8e7759c05863row8_col2\" class=\"data row8 col2\" >0</td>\n",
       "                        <td id=\"T_8e2dbdfc_0464_11ed_83cb_8e7759c05863row8_col3\" class=\"data row8 col3\" >0</td>\n",
       "                        <td id=\"T_8e2dbdfc_0464_11ed_83cb_8e7759c05863row8_col4\" class=\"data row8 col4\" >0</td>\n",
       "                        <td id=\"T_8e2dbdfc_0464_11ed_83cb_8e7759c05863row8_col5\" class=\"data row8 col5\" >11</td>\n",
       "                        <td id=\"T_8e2dbdfc_0464_11ed_83cb_8e7759c05863row8_col6\" class=\"data row8 col6\" >166</td>\n",
       "                        <td id=\"T_8e2dbdfc_0464_11ed_83cb_8e7759c05863row8_col7\" class=\"data row8 col7\" >239</td>\n",
       "                        <td id=\"T_8e2dbdfc_0464_11ed_83cb_8e7759c05863row8_col8\" class=\"data row8 col8\" >253</td>\n",
       "                        <td id=\"T_8e2dbdfc_0464_11ed_83cb_8e7759c05863row8_col9\" class=\"data row8 col9\" >253</td>\n",
       "                        <td id=\"T_8e2dbdfc_0464_11ed_83cb_8e7759c05863row8_col10\" class=\"data row8 col10\" >253</td>\n",
       "                        <td id=\"T_8e2dbdfc_0464_11ed_83cb_8e7759c05863row8_col11\" class=\"data row8 col11\" >187</td>\n",
       "                        <td id=\"T_8e2dbdfc_0464_11ed_83cb_8e7759c05863row8_col12\" class=\"data row8 col12\" >30</td>\n",
       "                        <td id=\"T_8e2dbdfc_0464_11ed_83cb_8e7759c05863row8_col13\" class=\"data row8 col13\" >0</td>\n",
       "                        <td id=\"T_8e2dbdfc_0464_11ed_83cb_8e7759c05863row8_col14\" class=\"data row8 col14\" >0</td>\n",
       "                        <td id=\"T_8e2dbdfc_0464_11ed_83cb_8e7759c05863row8_col15\" class=\"data row8 col15\" >0</td>\n",
       "                        <td id=\"T_8e2dbdfc_0464_11ed_83cb_8e7759c05863row8_col16\" class=\"data row8 col16\" >0</td>\n",
       "                        <td id=\"T_8e2dbdfc_0464_11ed_83cb_8e7759c05863row8_col17\" class=\"data row8 col17\" >0</td>\n",
       "            </tr>\n",
       "            <tr>\n",
       "                        <th id=\"T_8e2dbdfc_0464_11ed_83cb_8e7759c05863level0_row9\" class=\"row_heading level0 row9\" >9</th>\n",
       "                        <td id=\"T_8e2dbdfc_0464_11ed_83cb_8e7759c05863row9_col0\" class=\"data row9 col0\" >0</td>\n",
       "                        <td id=\"T_8e2dbdfc_0464_11ed_83cb_8e7759c05863row9_col1\" class=\"data row9 col1\" >0</td>\n",
       "                        <td id=\"T_8e2dbdfc_0464_11ed_83cb_8e7759c05863row9_col2\" class=\"data row9 col2\" >0</td>\n",
       "                        <td id=\"T_8e2dbdfc_0464_11ed_83cb_8e7759c05863row9_col3\" class=\"data row9 col3\" >0</td>\n",
       "                        <td id=\"T_8e2dbdfc_0464_11ed_83cb_8e7759c05863row9_col4\" class=\"data row9 col4\" >0</td>\n",
       "                        <td id=\"T_8e2dbdfc_0464_11ed_83cb_8e7759c05863row9_col5\" class=\"data row9 col5\" >16</td>\n",
       "                        <td id=\"T_8e2dbdfc_0464_11ed_83cb_8e7759c05863row9_col6\" class=\"data row9 col6\" >248</td>\n",
       "                        <td id=\"T_8e2dbdfc_0464_11ed_83cb_8e7759c05863row9_col7\" class=\"data row9 col7\" >250</td>\n",
       "                        <td id=\"T_8e2dbdfc_0464_11ed_83cb_8e7759c05863row9_col8\" class=\"data row9 col8\" >253</td>\n",
       "                        <td id=\"T_8e2dbdfc_0464_11ed_83cb_8e7759c05863row9_col9\" class=\"data row9 col9\" >253</td>\n",
       "                        <td id=\"T_8e2dbdfc_0464_11ed_83cb_8e7759c05863row9_col10\" class=\"data row9 col10\" >253</td>\n",
       "                        <td id=\"T_8e2dbdfc_0464_11ed_83cb_8e7759c05863row9_col11\" class=\"data row9 col11\" >253</td>\n",
       "                        <td id=\"T_8e2dbdfc_0464_11ed_83cb_8e7759c05863row9_col12\" class=\"data row9 col12\" >232</td>\n",
       "                        <td id=\"T_8e2dbdfc_0464_11ed_83cb_8e7759c05863row9_col13\" class=\"data row9 col13\" >213</td>\n",
       "                        <td id=\"T_8e2dbdfc_0464_11ed_83cb_8e7759c05863row9_col14\" class=\"data row9 col14\" >111</td>\n",
       "                        <td id=\"T_8e2dbdfc_0464_11ed_83cb_8e7759c05863row9_col15\" class=\"data row9 col15\" >2</td>\n",
       "                        <td id=\"T_8e2dbdfc_0464_11ed_83cb_8e7759c05863row9_col16\" class=\"data row9 col16\" >0</td>\n",
       "                        <td id=\"T_8e2dbdfc_0464_11ed_83cb_8e7759c05863row9_col17\" class=\"data row9 col17\" >0</td>\n",
       "            </tr>\n",
       "            <tr>\n",
       "                        <th id=\"T_8e2dbdfc_0464_11ed_83cb_8e7759c05863level0_row10\" class=\"row_heading level0 row10\" >10</th>\n",
       "                        <td id=\"T_8e2dbdfc_0464_11ed_83cb_8e7759c05863row10_col0\" class=\"data row10 col0\" >0</td>\n",
       "                        <td id=\"T_8e2dbdfc_0464_11ed_83cb_8e7759c05863row10_col1\" class=\"data row10 col1\" >0</td>\n",
       "                        <td id=\"T_8e2dbdfc_0464_11ed_83cb_8e7759c05863row10_col2\" class=\"data row10 col2\" >0</td>\n",
       "                        <td id=\"T_8e2dbdfc_0464_11ed_83cb_8e7759c05863row10_col3\" class=\"data row10 col3\" >0</td>\n",
       "                        <td id=\"T_8e2dbdfc_0464_11ed_83cb_8e7759c05863row10_col4\" class=\"data row10 col4\" >0</td>\n",
       "                        <td id=\"T_8e2dbdfc_0464_11ed_83cb_8e7759c05863row10_col5\" class=\"data row10 col5\" >0</td>\n",
       "                        <td id=\"T_8e2dbdfc_0464_11ed_83cb_8e7759c05863row10_col6\" class=\"data row10 col6\" >0</td>\n",
       "                        <td id=\"T_8e2dbdfc_0464_11ed_83cb_8e7759c05863row10_col7\" class=\"data row10 col7\" >43</td>\n",
       "                        <td id=\"T_8e2dbdfc_0464_11ed_83cb_8e7759c05863row10_col8\" class=\"data row10 col8\" >98</td>\n",
       "                        <td id=\"T_8e2dbdfc_0464_11ed_83cb_8e7759c05863row10_col9\" class=\"data row10 col9\" >98</td>\n",
       "                        <td id=\"T_8e2dbdfc_0464_11ed_83cb_8e7759c05863row10_col10\" class=\"data row10 col10\" >208</td>\n",
       "                        <td id=\"T_8e2dbdfc_0464_11ed_83cb_8e7759c05863row10_col11\" class=\"data row10 col11\" >253</td>\n",
       "                        <td id=\"T_8e2dbdfc_0464_11ed_83cb_8e7759c05863row10_col12\" class=\"data row10 col12\" >253</td>\n",
       "                        <td id=\"T_8e2dbdfc_0464_11ed_83cb_8e7759c05863row10_col13\" class=\"data row10 col13\" >253</td>\n",
       "                        <td id=\"T_8e2dbdfc_0464_11ed_83cb_8e7759c05863row10_col14\" class=\"data row10 col14\" >253</td>\n",
       "                        <td id=\"T_8e2dbdfc_0464_11ed_83cb_8e7759c05863row10_col15\" class=\"data row10 col15\" >187</td>\n",
       "                        <td id=\"T_8e2dbdfc_0464_11ed_83cb_8e7759c05863row10_col16\" class=\"data row10 col16\" >22</td>\n",
       "                        <td id=\"T_8e2dbdfc_0464_11ed_83cb_8e7759c05863row10_col17\" class=\"data row10 col17\" >0</td>\n",
       "            </tr>\n",
       "    </tbody></table>"
      ],
      "text/plain": [
       "<pandas.io.formats.style.Styler at 0x7fa9b2283520>"
      ]
     },
     "execution_count": 11,
     "metadata": {},
     "output_type": "execute_result"
    }
   ],
   "source": [
    "img3_tensor = tensor(img3)\n",
    "df = pd.DataFrame(img3_tensor[4:15, 4:22])\n",
    "df.style.set_properties(**{'font-size': '6pt'}).background_gradient('Greys')"
   ]
  },
  {
   "cell_type": "markdown",
   "metadata": {},
   "source": [
    "## 4.2 Designing a Solution: 🤔 Stop and Think\n",
    "\n",
    "Before we see some approaches to solve this problem, spend some time thinking how *you* would solve the problem if this was a novel problem (i.e., if no one had attempted to solve it before, so Googling for an answer wouldn't help)"
   ]
  },
  {
   "cell_type": "markdown",
   "metadata": {},
   "source": [
    "**An Algorithmic Approach: Image as a Graph**\n",
    "\n",
    "One possibility is to segment each image into two atomic kinds of shapes: straight lines (vertical, horizontal or slanted) and curved lines. After having identified all such parts, we can build a graph where vertices represent the parts and edges the junctions between them.\n",
    "\n",
    "With such a representation, we can then use a \"soft\" graph isomorphism algorithm to find a similarity score between two graphs. This score would then serve to make a classification.\n",
    "\n",
    "Some challenges with this scheme are:\n",
    "\n",
    "+ **Nodes Relevance** If all nodes have the same relevance, strong noise in the image will end up affecting recognition performance. Therefore we need to weight vertices so as to give more importance to strokes that are more likely to be relevant for the identity of an object. Clearly, there is some learning involved in this, as it's very hard to code a priori which strokes matter most.\n",
    "\n",
    "\n",
    "+ **Shape Recognition** How do we recognize lines and arcs? Hard-coding shape detectors is one possibility, but we need to be careful about their definition to make them flexible enough. This means being able to detect lines in all possible orientations. Special casing is likely to lead to a brittle program, though. Another concern is how to deal with lines of various widths. Lines of a single pixel may be easy enough, but what about lines several pixels wide?\n",
    "\n",
    "\n",
    "+ **Graph Isomorphism** Even though graph isomorphism is a well-studied problem in mathematics (but a rather hard problem with no known general and efficient solution), in this instance we need something even more flexible that does pattern matching. This calls for additional research.\n",
    "\n",
    "One possibility to deal with the issue of thick lines might be to have a base algorithm (one that works on one-pixel lines) on eroded versions of the image (so as to thin thick lines), and then superpose the results into a single image to be fed into the algorithm that builds the graph.\n",
    "\n",
    "Something nice about this graph-based framework is that it can be used for more than the simple problem of handwritten digits recognition. For any problem where we can detect individual features, and those features have relationships among each other, this general algorithm can prove useful."
   ]
  },
  {
   "cell_type": "markdown",
   "metadata": {},
   "source": [
    "## 4.3 First Approach: Pixelwise Similarity\n",
    "One approach to solve this problem is to build an \"ideal\" number for each category (an ideal 3 and an ideal 7) from the training data, and then during inference compute the \"distance\" to that ideal number.\n",
    "\n",
    "The distance can be defined as the mean of the differences between individual pixels, and the ideal number for each category could be simply the average of the corresponding training samples."
   ]
  },
  {
   "cell_type": "code",
   "execution_count": 12,
   "metadata": {},
   "outputs": [
    {
     "data": {
      "text/plain": [
       "(6131, 6265)"
      ]
     },
     "execution_count": 12,
     "metadata": {},
     "output_type": "execute_result"
    }
   ],
   "source": [
    "seven_tensors = [tensor(Image.open(path)) for path in sevens]\n",
    "three_tensors = [tensor(Image.open(path)) for path in threes]\n",
    "len(three_tensors), len(seven_tensors)"
   ]
  },
  {
   "cell_type": "code",
   "execution_count": 13,
   "metadata": {},
   "outputs": [
    {
     "data": {
      "text/plain": [
       "torch.Size([28, 28])"
      ]
     },
     "execution_count": 13,
     "metadata": {},
     "output_type": "execute_result"
    },
    {
     "data": {
      "image/png": "[encoded data removed]",
      "text/plain": [
       "<Figure size 72x72 with 1 Axes>"
      ]
     },
     "metadata": {
      "needs_background": "light"
     },
     "output_type": "display_data"
    }
   ],
   "source": [
    "show_image(three_tensors[1])\n",
    "seven_tensors[0].shape"
   ]
  },
  {
   "cell_type": "code",
   "execution_count": 14,
   "metadata": {},
   "outputs": [
    {
     "data": {
      "text/plain": [
       "(torch.Size([6131, 28, 28]), torch.Size([6265, 28, 28]))"
      ]
     },
     "execution_count": 14,
     "metadata": {},
     "output_type": "execute_result"
    }
   ],
   "source": [
    "# We divide by 255 to normalize (remember that pixels\n",
    "# are in the range 0-255). Even though this is not\n",
    "# absolutely necessary, it is a useful trick to help\n",
    "# deep learning models learn faster.\n",
    "stacked_7s = torch.stack(seven_tensors).float() / 255\n",
    "\n",
    "# We also stack the images into a single tensor because\n",
    "# models in PyTorch only take tensors as inputs.\n",
    "stacked_3s = torch.stack(three_tensors).float() / 255\n",
    "stacked_3s.shape, stacked_7s.shape"
   ]
  },
  {
   "cell_type": "markdown",
   "metadata": {},
   "source": [
    "### \"Ideal\" 3 and 7"
   ]
  },
  {
   "cell_type": "code",
   "execution_count": 15,
   "metadata": {},
   "outputs": [
    {
     "data": {
      "text/plain": [
       "torch.Size([28, 28])"
      ]
     },
     "execution_count": 15,
     "metadata": {},
     "output_type": "execute_result"
    },
    {
     "data": {
      "image/png": "[encoded data removed]",
      "text/plain": [
       "<Figure size 72x72 with 1 Axes>"
      ]
     },
     "metadata": {
      "needs_background": "light"
     },
     "output_type": "display_data"
    },
    {
     "data": {
      "image/png": "[encoded data removed]",
      "text/plain": [
       "<Figure size 72x72 with 1 Axes>"
      ]
     },
     "metadata": {
      "needs_background": "light"
     },
     "output_type": "display_data"
    },
    {
     "data": {
      "image/png": "[encoded data removed]",
      "text/plain": [
       "<Figure size 72x72 with 1 Axes>"
      ]
     },
     "metadata": {
      "needs_background": "light"
     },
     "output_type": "display_data"
    }
   ],
   "source": [
    "# Taking the mean on axis=0 means that:\n",
    "#\n",
    "# 1) the result will have the axis=0 removed;\n",
    "# 2) each element in the result (in this case, each pixel) will be the mean\n",
    "#    of all elements with the same coordinate (excluding the coordinate for\n",
    "#    axis=0); i.e., result[i,j] = mean(stacked_3s[:,i,j])\n",
    "ideal3 = stacked_3s.mean(axis=0)\n",
    "show_image(ideal3), show_image(stacked_3s[0]), show_image(stacked_3s[1])\n",
    "ideal3.shape"
   ]
  },
  {
   "cell_type": "code",
   "execution_count": 16,
   "metadata": {},
   "outputs": [
    {
     "data": {
      "text/plain": [
       "torch.Size([28, 28])"
      ]
     },
     "execution_count": 16,
     "metadata": {},
     "output_type": "execute_result"
    },
    {
     "data": {
      "image/png": "[encoded data removed]",
      "text/plain": [
       "<Figure size 72x72 with 1 Axes>"
      ]
     },
     "metadata": {
      "needs_background": "light"
     },
     "output_type": "display_data"
    },
    {
     "data": {
      "image/png": "[encoded data removed]",
      "text/plain": [
       "<Figure size 72x72 with 1 Axes>"
      ]
     },
     "metadata": {
      "needs_background": "light"
     },
     "output_type": "display_data"
    },
    {
     "data": {
      "image/png": "[encoded data removed]",
      "text/plain": [
       "<Figure size 72x72 with 1 Axes>"
      ]
     },
     "metadata": {
      "needs_background": "light"
     },
     "output_type": "display_data"
    }
   ],
   "source": [
    "ideal7 = stacked_7s.mean(axis=0)\n",
    "show_image(ideal7), show_image(stacked_7s[0]), show_image(stacked_7s[1])\n",
    "ideal7.shape"
   ]
  },
  {
   "cell_type": "markdown",
   "metadata": {},
   "source": [
    "### 🤔 Stop and Think\n",
    "\n",
    "**How would you define similarity between tensors representing threes or sevens?**\n",
    "\n",
    "One possibility is to \"flatten\" the images and consider them as one-dimensional vectors. This will discard spatial information, but maybe it will be good enough for our purposes.\n",
    "\n",
    "Once they've been turned into vectors, we can use one of the well-known similarity measures between vectors (e.g., `F.cosine_similarity`)"
   ]
  },
  {
   "cell_type": "code",
   "execution_count": 17,
   "metadata": {},
   "outputs": [
    {
     "data": {
      "text/plain": [
       "torch.Size([6131, 28, 28])"
      ]
     },
     "execution_count": 17,
     "metadata": {},
     "output_type": "execute_result"
    }
   ],
   "source": [
    "stacked_3s.shape"
   ]
  },
  {
   "cell_type": "code",
   "execution_count": 18,
   "metadata": {},
   "outputs": [
    {
     "data": {
      "text/plain": [
       "torch.Size([6131, 784])"
      ]
     },
     "execution_count": 18,
     "metadata": {},
     "output_type": "execute_result"
    }
   ],
   "source": [
    "stacked_3s.reshape(stacked_3s.shape[0], -1).shape"
   ]
  },
  {
   "cell_type": "code",
   "execution_count": 19,
   "metadata": {},
   "outputs": [
    {
     "data": {
      "text/plain": [
       "tensor(0.8533)"
      ]
     },
     "execution_count": 19,
     "metadata": {},
     "output_type": "execute_result"
    },
    {
     "data": {
      "image/png": "[encoded data removed]",
      "text/plain": [
       "<Figure size 72x72 with 1 Axes>"
      ]
     },
     "metadata": {
      "needs_background": "light"
     },
     "output_type": "display_data"
    },
    {
     "data": {
      "image/png": "[encoded data removed]",
      "text/plain": [
       "<Figure size 72x72 with 1 Axes>"
      ]
     },
     "metadata": {
      "needs_background": "light"
     },
     "output_type": "display_data"
    }
   ],
   "source": [
    "ideal3_vector = ideal3.reshape(-1)\n",
    "some3_vector = stacked_3s[0].reshape(-1)\n",
    "\n",
    "# We have to explicitly say dim=0 because by the default\n",
    "# PyTorch assumes we're passing tensors where the first\n",
    "# dimension indexes the samples\n",
    "show_image(ideal3), show_image(stacked_3s[0])\n",
    "F.cosine_similarity(ideal3_vector, some3_vector, dim=0)"
   ]
  },
  {
   "cell_type": "code",
   "execution_count": 20,
   "metadata": {},
   "outputs": [
    {
     "data": {
      "text/plain": [
       "tensor(0.5813)"
      ]
     },
     "execution_count": 20,
     "metadata": {},
     "output_type": "execute_result"
    },
    {
     "data": {
      "image/png": "[encoded data removed]",
      "text/plain": [
       "<Figure size 72x72 with 1 Axes>"
      ]
     },
     "metadata": {
      "needs_background": "light"
     },
     "output_type": "display_data"
    },
    {
     "data": {
      "image/png": "[encoded data removed]",
      "text/plain": [
       "<Figure size 72x72 with 1 Axes>"
      ]
     },
     "metadata": {
      "needs_background": "light"
     },
     "output_type": "display_data"
    }
   ],
   "source": [
    "some7_vector = stacked_7s[0].reshape(-1)\n",
    "\n",
    "# We have to explicitly say dim=0 because by the default\n",
    "# PyTorch assumes we're computing on tensors where the\n",
    "# first dimension indexes the batch of samples\n",
    "show_image(ideal3), show_image(stacked_7s[0])\n",
    "F.cosine_similarity(ideal3_vector, some7_vector, dim=0)"
   ]
  },
  {
   "cell_type": "code",
   "execution_count": 21,
   "metadata": {},
   "outputs": [
    {
     "data": {
      "text/plain": [
       "tensor(0.8362)"
      ]
     },
     "execution_count": 21,
     "metadata": {},
     "output_type": "execute_result"
    },
    {
     "data": {
      "image/png": "[encoded data removed]",
      "text/plain": [
       "<Figure size 72x72 with 1 Axes>"
      ]
     },
     "metadata": {
      "needs_background": "light"
     },
     "output_type": "display_data"
    },
    {
     "data": {
      "image/png": "[encoded data removed]",
      "text/plain": [
       "<Figure size 72x72 with 1 Axes>"
      ]
     },
     "metadata": {
      "needs_background": "light"
     },
     "output_type": "display_data"
    }
   ],
   "source": [
    "ideal7_vector = ideal7.reshape(-1)\n",
    "\n",
    "show_image(ideal7), show_image(stacked_7s[0])\n",
    "F.cosine_similarity(ideal7_vector, some7_vector, dim=0)"
   ]
  },
  {
   "cell_type": "markdown",
   "metadata": {},
   "source": [
    "### Cosine Similarity Interpretation\n",
    "Something to keep in mind is that the range of the cosine similarity function is `[-1, +1]`. The more similar two vectors are to each other, the values approach 1. The more dissimilar they are, the values approach -1."
   ]
  },
  {
   "cell_type": "code",
   "execution_count": 22,
   "metadata": {},
   "outputs": [
    {
     "data": {
      "text/plain": [
       "torch.Size([6131, 28, 28])"
      ]
     },
     "execution_count": 22,
     "metadata": {},
     "output_type": "execute_result"
    }
   ],
   "source": [
    "stacked_3s.shape # => [6131, 28, 28] but we need [6131, 784]"
   ]
  },
  {
   "cell_type": "code",
   "execution_count": 23,
   "metadata": {},
   "outputs": [
    {
     "data": {
      "text/plain": [
       "tensor(0.7257)"
      ]
     },
     "execution_count": 23,
     "metadata": {},
     "output_type": "execute_result"
    }
   ],
   "source": [
    "# Comparing an ideal 3 to all 3s\n",
    "stacked_3s_as_vectors = stacked_3s.reshape(stacked_3s.shape[0], -1)\n",
    "similarities1_0 = F.cosine_similarity(\n",
    "    # dim=-1 instructs PyTorch to use the vector in the last dimension\n",
    "    # of the tensors to compute the similarity (keep in mind that the\n",
    "    # first one indexes samples)\n",
    "    stacked_3s_as_vectors, ideal3_vector, dim=-1)\n",
    "similarities1_0.mean()"
   ]
  },
  {
   "cell_type": "code",
   "execution_count": 24,
   "metadata": {},
   "outputs": [
    {
     "data": {
      "text/plain": [
       "tensor(0.5013)"
      ]
     },
     "execution_count": 24,
     "metadata": {},
     "output_type": "execute_result"
    }
   ],
   "source": [
    "# Comparing an ideal 3 to all 7s\n",
    "stacked_7s_as_vectors = stacked_7s.reshape(stacked_7s.shape[0], -1)\n",
    "similarities2_0 = F.cosine_similarity(\n",
    "    stacked_7s_as_vectors, ideal3_vector, dim=-1)\n",
    "similarities2_0.mean()"
   ]
  },
  {
   "cell_type": "markdown",
   "metadata": {},
   "source": [
    "The following figure illustrates how `F.cosine_similarity` handles a comparison between a tensors with multiple vectors (shape NxD) and a tensor with just a vector (shape D):\n",
    "\n",
    "![Broadcasting Tensors](https://www.w3resource.com/w3r_images/python-numpy-exercise-124.svg)\n",
    "\n",
    "The figure shows the concept of \"broadcasting\" with the `+` operator, but you can in fact use any other operator which works on scalars. We'll see this important concept in more detail later on."
   ]
  },
  {
   "cell_type": "markdown",
   "metadata": {},
   "source": [
    "### Other Similarity Measures\n",
    "It is also possible to use other distance measures between vectors, but one thing to consider is normalization (although that's merely for interpretation; if ranking or pairwise comparison is all we need, then absolute distance is just fine).\n",
    "\n",
    "For example, PyTorch defines the `pairwise_distance` function, which works as follows:"
   ]
  },
  {
   "cell_type": "code",
   "execution_count": 25,
   "metadata": {},
   "outputs": [
    {
     "data": {
      "text/plain": [
       "tensor(8.0184)"
      ]
     },
     "execution_count": 25,
     "metadata": {},
     "output_type": "execute_result"
    }
   ],
   "source": [
    "# comparing an ideal 3 to all 3s (alternative)\n",
    "similarities2_0 = F.pairwise_distance(\n",
    "    stacked_7s.reshape(stacked_7s.shape[0], -1), ideal3_vector)\n",
    "similarities2_0.mean()"
   ]
  },
  {
   "cell_type": "code",
   "execution_count": 26,
   "metadata": {},
   "outputs": [
    {
     "data": {
      "text/plain": [
       "tensor(6.6454)"
      ]
     },
     "execution_count": 26,
     "metadata": {},
     "output_type": "execute_result"
    }
   ],
   "source": [
    "# comparing an ideal 3 to all 7s (alternative)\n",
    "similarities1_1 = F.pairwise_distance(\n",
    "    stacked_3s.reshape(stacked_3s.shape[0], -1), ideal3_vector)\n",
    "similarities1_1.mean()"
   ]
  },
  {
   "cell_type": "code",
   "execution_count": 27,
   "metadata": {},
   "outputs": [
    {
     "data": {
      "text/plain": [
       "<AxesSubplot:>"
      ]
     },
     "execution_count": 27,
     "metadata": {},
     "output_type": "execute_result"
    },
    {
     "data": {
      "image/png": "[encoded data removed]",
      "text/plain": [
       "<Figure size 72x72 with 1 Axes>"
      ]
     },
     "metadata": {
      "needs_background": "light"
     },
     "output_type": "display_data"
    }
   ],
   "source": [
    "some3 = stacked_3s[1]\n",
    "show_image(some3)"
   ]
  },
  {
   "cell_type": "markdown",
   "metadata": {},
   "source": [
    "## 4.4 Model Evaluation: Loss Functions\n",
    "\n",
    "Although we could definitely use some of the distance functions we saw above to construct a loss function for our problem, we can also find similarity between images in their original form by looking at differences between individual pixels and then averaging the results across each image:"
   ]
  },
  {
   "cell_type": "code",
   "execution_count": 28,
   "metadata": {},
   "outputs": [
    {
     "data": {
      "text/plain": [
       "(tensor(0.1114), tensor(0.2021))"
      ]
     },
     "execution_count": 28,
     "metadata": {},
     "output_type": "execute_result"
    }
   ],
   "source": [
    "# (some3 - ideal3) is an element-wise operation between tensors\n",
    "distance_3_abs = (some3 - ideal3).abs().mean()\n",
    "# rmse: root mean squared error\n",
    "distance_3_rmse = ((some3 - ideal3)**2).mean().sqrt()\n",
    "distance_3_abs, distance_3_rmse"
   ]
  },
  {
   "cell_type": "code",
   "execution_count": 29,
   "metadata": {},
   "outputs": [
    {
     "data": {
      "text/plain": [
       "(tensor(0.1586), tensor(0.3021))"
      ]
     },
     "execution_count": 29,
     "metadata": {},
     "output_type": "execute_result"
    }
   ],
   "source": [
    "distance_7_abs = (some3 - ideal7).abs().mean()\n",
    "# rmse: root mean squared error\n",
    "distance_7_rmse = ((some3 - ideal7)**2).mean().sqrt()\n",
    "distance_7_abs, distance_7_rmse"
   ]
  },
  {
   "cell_type": "markdown",
   "metadata": {},
   "source": [
    "PyTorch (accessible in `fastai` in the `F` namespace) has functions for both of these cost functions:"
   ]
  },
  {
   "cell_type": "code",
   "execution_count": 30,
   "metadata": {},
   "outputs": [
    {
     "data": {
      "text/plain": [
       "(tensor(0.1586), tensor(0.3021))"
      ]
     },
     "execution_count": 30,
     "metadata": {},
     "output_type": "execute_result"
    }
   ],
   "source": [
    "F.l1_loss(some3, ideal7), F.mse_loss(some3, ideal7).sqrt()"
   ]
  },
  {
   "cell_type": "markdown",
   "metadata": {},
   "source": [
    "`l1` stands for \"L1 norm\". Roughly speaking, a norm represents the \"size\" of a vector. You can read more about it [here](https://machinelearningmastery.com/vector-norms-machine-learning/#:~:text=The%20length%20of%20the%20vector,vector's%20magnitude%20or%20the%20norm)"
   ]
  },
  {
   "cell_type": "markdown",
   "metadata": {},
   "source": [
    "### Validation Set\n",
    "For the purposes of evaluating a model, it is crucial to have a validation set that we didn't use during training:"
   ]
  },
  {
   "cell_type": "code",
   "execution_count": 31,
   "metadata": {},
   "outputs": [],
   "source": [
    "threes_path = path/'valid'/'3'\n",
    "validation_3s = torch.stack([tensor(Image.open(path)) for path in threes_path.ls()])\n",
    "validation_3s = validation_3s.float() / 255"
   ]
  },
  {
   "cell_type": "code",
   "execution_count": 32,
   "metadata": {},
   "outputs": [],
   "source": [
    "sevens_path = path/'valid'/'7'\n",
    "validation_7s = torch.stack([tensor(Image.open(path)) for path in sevens_path.ls()])\n",
    "validation_7s = validation_7s.float() / 255"
   ]
  },
  {
   "cell_type": "code",
   "execution_count": 33,
   "metadata": {},
   "outputs": [
    {
     "data": {
      "text/plain": [
       "(torch.Size([1010, 28, 28]), torch.Size([1028, 28, 28]))"
      ]
     },
     "execution_count": 33,
     "metadata": {},
     "output_type": "execute_result"
    }
   ],
   "source": [
    "validation_3s.shape, validation_7s.shape"
   ]
  },
  {
   "cell_type": "markdown",
   "metadata": {},
   "source": [
    "### Pixelwise Loss Function\n",
    "The following function will capture the amount of error (distance) between ideal numbers and the samples we want to classify:"
   ]
  },
  {
   "cell_type": "code",
   "execution_count": 34,
   "metadata": {},
   "outputs": [],
   "source": [
    "def mnist_distance(ideal, sample):\n",
    "    # a.shape === b.shape (virtually at least, because of broadcasting)\n",
    "    # (-1, -2) means to perform the mean across the last and the second-to-last axes\n",
    "    return (ideal-sample).abs().mean((-1, -2))"
   ]
  },
  {
   "cell_type": "code",
   "execution_count": 35,
   "metadata": {},
   "outputs": [
    {
     "data": {
      "text/plain": [
       "tensor(0.1114)"
      ]
     },
     "execution_count": 35,
     "metadata": {},
     "output_type": "execute_result"
    }
   ],
   "source": [
    "mnist_distance(ideal3, some3)"
   ]
  },
  {
   "cell_type": "code",
   "execution_count": 36,
   "metadata": {},
   "outputs": [
    {
     "data": {
      "text/plain": [
       "(tensor([0.1328, 0.1523, 0.1245,  ..., 0.1383, 0.1280, 0.1138]),\n",
       " torch.Size([1010]))"
      ]
     },
     "execution_count": 36,
     "metadata": {},
     "output_type": "execute_result"
    }
   ],
   "source": [
    "# This will compute the absolute differences between corresponding pixels in the \n",
    "# validation 3s and  the \"ideal\" 3. The results for each image will then be averaged,\n",
    "# resulting in a vector of \"distances\"\n",
    "distance_validation_3s = mnist_distance(ideal3, validation_3s)\n",
    "distance_validation_3s, distance_validation_3s.shape"
   ]
  },
  {
   "cell_type": "markdown",
   "metadata": {},
   "source": [
    "### Broadcasting"
   ]
  },
  {
   "cell_type": "markdown",
   "metadata": {},
   "source": [
    "If you've been paying attention, you may be wondering how it is possible that despite the fact that `validation_3s` and `ideal3` have different shapes:"
   ]
  },
  {
   "cell_type": "code",
   "execution_count": 37,
   "metadata": {},
   "outputs": [
    {
     "data": {
      "text/plain": [
       "(torch.Size([1010, 28, 28]), torch.Size([28, 28]))"
      ]
     },
     "execution_count": 37,
     "metadata": {},
     "output_type": "execute_result"
    }
   ],
   "source": [
    "validation_3s.shape, ideal3.shape"
   ]
  },
  {
   "cell_type": "markdown",
   "metadata": {},
   "source": [
    "`mnist_distance` was able to perform the subtraction between `ideal` and `sample` correctly. The reason for this is that PyTorch does \"broadcasting\". Roughly speaking:\n",
    "\n",
    "> Broadcasting is an operation of matching the dimensions of differently shaped arrays in order to be able to perform further operations on those arrays (e.g., per-element arithmetic).\n",
    "\n",
    "See the following resources to get a better grasp of how broadcasting works:\n",
    "\n",
    "+ [How Broadcasting Works](https://stackoverflow.com/questions/51371070/how-does-pytorch-broadcasting-work)\n",
    "+ [Broadcasting in Numpy](https://towardsdatascience.com/broadcasting-in-numpy-58856f926d73)"
   ]
  },
  {
   "cell_type": "code",
   "execution_count": 38,
   "metadata": {},
   "outputs": [],
   "source": [
    "def is_3(x):\n",
    "    return mnist_distance(x, ideal3) < mnist_distance(x, ideal7)"
   ]
  },
  {
   "cell_type": "code",
   "execution_count": 39,
   "metadata": {},
   "outputs": [
    {
     "data": {
      "text/plain": [
       "(tensor(True), tensor(1.))"
      ]
     },
     "execution_count": 39,
     "metadata": {},
     "output_type": "execute_result"
    }
   ],
   "source": [
    "is_3(some3), is_3(some3).float()"
   ]
  },
  {
   "cell_type": "code",
   "execution_count": 40,
   "metadata": {},
   "outputs": [
    {
     "data": {
      "text/plain": [
       "<AxesSubplot:>"
      ]
     },
     "execution_count": 40,
     "metadata": {},
     "output_type": "execute_result"
    },
    {
     "data": {
      "image/png": "[encoded data removed]",
      "text/plain": [
       "<Figure size 72x72 with 1 Axes>"
      ]
     },
     "metadata": {
      "needs_background": "light"
     },
     "output_type": "display_data"
    }
   ],
   "source": [
    "some7 = stacked_7s[1]\n",
    "show_image(some7)"
   ]
  },
  {
   "cell_type": "code",
   "execution_count": 41,
   "metadata": {},
   "outputs": [
    {
     "data": {
      "text/plain": [
       "(tensor(False), tensor(0.))"
      ]
     },
     "execution_count": 41,
     "metadata": {},
     "output_type": "execute_result"
    }
   ],
   "source": [
    "is_3(some7), is_3(some7).float()"
   ]
  },
  {
   "cell_type": "code",
   "execution_count": 42,
   "metadata": {},
   "outputs": [
    {
     "data": {
      "text/plain": [
       "torch.Size([1010, 28, 28])"
      ]
     },
     "execution_count": 42,
     "metadata": {},
     "output_type": "execute_result"
    }
   ],
   "source": [
    "validation_3s.shape"
   ]
  },
  {
   "cell_type": "code",
   "execution_count": 43,
   "metadata": {},
   "outputs": [
    {
     "data": {
      "text/plain": [
       "tensor([1., 1., 1.,  ..., 0., 1., 1.])"
      ]
     },
     "execution_count": 43,
     "metadata": {},
     "output_type": "execute_result"
    }
   ],
   "source": [
    "# Broadcasting at play once again!\n",
    "is_3(validation_3s).float()"
   ]
  },
  {
   "cell_type": "code",
   "execution_count": 44,
   "metadata": {},
   "outputs": [
    {
     "name": "stdout",
     "output_type": "stream",
     "text": [
      "3s accuracy: 0.917\n",
      "7s accuracy: 0.985\n",
      "average accuracy: 0.951\n"
     ]
    }
   ],
   "source": [
    "accuracy_3s = is_3(validation_3s).float().mean()\n",
    "accuracy_7s = (1 - is_3(validation_7s).float()).mean()\n",
    "\n",
    "print(f'3s accuracy: {round(accuracy_3s.item(), 3)}')\n",
    "print(f'7s accuracy: {round(accuracy_7s.item(), 3)}')\n",
    "print(f'average accuracy: {round((accuracy_3s + accuracy_7s).item() / 2.0, 3)}')"
   ]
  },
  {
   "cell_type": "markdown",
   "metadata": {},
   "source": [
    "Now let's see how this accuracy compares to the one we get by changing the distance metric. `mnist_distance2` transforms an image into a flat vector and compares two images so represented using cosine similarity:"
   ]
  },
  {
   "cell_type": "code",
   "execution_count": 45,
   "metadata": {},
   "outputs": [],
   "source": [
    "def mnist_distance2(ideal, sample):\n",
    "    # Semantically, ideal and sample are images (or collections of images)\n",
    "    # a.shape === (N, W, H) where N === samples, W === image width, H  === image height\n",
    "    ideal = torch.flatten(ideal, start_dim=-2)\n",
    "    sample = torch.flatten(sample, start_dim=-2)\n",
    "    return 1.0 - F.cosine_similarity(ideal, sample, dim=-1)"
   ]
  },
  {
   "cell_type": "code",
   "execution_count": 46,
   "metadata": {},
   "outputs": [
    {
     "data": {
      "text/plain": [
       "tensor(0.4759)"
      ]
     },
     "execution_count": 46,
     "metadata": {},
     "output_type": "execute_result"
    }
   ],
   "source": [
    "mnist_distance2(some3, ideal7)"
   ]
  },
  {
   "cell_type": "code",
   "execution_count": 47,
   "metadata": {},
   "outputs": [],
   "source": [
    "def is_3(x):\n",
    "    return mnist_distance2(x, ideal3) < mnist_distance2(x, ideal7)"
   ]
  },
  {
   "cell_type": "code",
   "execution_count": 48,
   "metadata": {},
   "outputs": [
    {
     "name": "stdout",
     "output_type": "stream",
     "text": [
      "3s accuracy: 0.968\n",
      "7s accuracy: 0.958\n",
      "average accuracy: 0.963\n"
     ]
    }
   ],
   "source": [
    "accuracy_3s = is_3(validation_3s).float().mean()\n",
    "accuracy_7s = (1 - is_3(validation_7s).float()).mean()\n",
    "\n",
    "print(f'3s accuracy: {round(accuracy_3s.item(), 3)}')\n",
    "print(f'7s accuracy: {round(accuracy_7s.item(), 3)}')\n",
    "print(f'average accuracy: {round((accuracy_3s + accuracy_7s).item() / 2.0, 3)}')"
   ]
  },
  {
   "cell_type": "markdown",
   "metadata": {},
   "source": [
    "Interestingly, the average accuracy increases by a little over 1%, mostly thanks to the increase in accuracy for 3s and despite the decrease in accuracy for 7s"
   ]
  },
  {
   "cell_type": "markdown",
   "metadata": {},
   "source": [
    "## 4.4 SGD: Stochastic Gradient Descent\n",
    "**Key Concepts**\n",
    "+ Loss (Cost) Function\n",
    "+ Learning Rate\n",
    "+ Model Parameters\n",
    "\n",
    "SGD is an algorithm used to find the optimal weights in a neural network, i.e., the weights that will turn the neural network into a function approximator for the task we're interested in.\n",
    "\n",
    "### 1-dimensional SGD\n",
    "If our problem only had a single variable, the loss function might look as an inverted parabola, and finding the best possible network would amount to finding the minimum of this function, as illustrated in the following figure:"
   ]
  },
  {
   "cell_type": "markdown",
   "metadata": {},
   "source": [
    "![](https://miro.medium.com/max/1400/1*GTRi-Y2doXbbrc4lGJYH-w.png)"
   ]
  },
  {
   "cell_type": "markdown",
   "metadata": {},
   "source": [
    "### 2-dimensional SGD\n",
    "The following pictures illustrates the same concept when using 2 variables. Notice that because we're not using only a subset (in the extreme a single training example at a time), our \"descent\" to the optimum may be irregular:"
   ]
  },
  {
   "cell_type": "markdown",
   "metadata": {},
   "source": [
    "|![](https://www.researchgate.net/profile/Xudong-Huang-4/publication/328106221/figure/fig3/AS:678422925807621@1538760038610/Stochastic-gradient-descent-compared-with-gradient-descent.png)|\n",
    "|:--:|\n",
    "|*Contours view of the loss surface for 2D function*|"
   ]
  },
  {
   "cell_type": "markdown",
   "metadata": {},
   "source": [
    "|![GD in 2D](https://metamug.com/article/images/gradient-descent.png)|\n",
    "|:--:|\n",
    "|*Surface of a 2-dimensional loss function*|"
   ]
  },
  {
   "cell_type": "markdown",
   "metadata": {},
   "source": [
    "### SGD for Computational Graphs\n",
    "More generally, SGD can be used to find the optimal weights for any computational graph that ends with a loss function. A neural network is an instance of a computational graph. We'll see what a computational graph looks like in a moment."
   ]
  },
  {
   "cell_type": "markdown",
   "metadata": {},
   "source": [
    "PyTorch has built-in support for automatic differentiation of the elements in the neural network (and in general for any computational graph). For example, for the following expression:\n",
    "\n",
    "```python\n",
    "x = torch.tensor(1)\n",
    "y = torch.tensor(2)\n",
    "v = x * y\n",
    "w = torch.log(v)\n",
    "z = w\n",
    "```\n",
    "\n",
    "The following figure illustrates both its forward and backward computational graph:"
   ]
  },
  {
   "cell_type": "markdown",
   "metadata": {},
   "source": [
    "|![Computional Graph PyTorch](https://pytorch.org/assets/images/computational_graph_reverse_auto_differentiation.png)|\n",
    "|:--:|\n",
    "|*Computational graph of `z=log(x.y)`*|"
   ]
  },
  {
   "cell_type": "markdown",
   "metadata": {},
   "source": [
    "This works with scalars (tensors of 0 dimension)..."
   ]
  },
  {
   "cell_type": "markdown",
   "metadata": {},
   "source": [
    "$$ \n",
    "f(x) = x^2 \n",
    "$$\n",
    "\n",
    "$$\n",
    "\\frac{\\partial f}{\\partial x} = 2x\n",
    "$$"
   ]
  },
  {
   "cell_type": "markdown",
   "metadata": {},
   "source": [
    "### Automatic Differentiation (Automated Chain Rule)\n",
    "In the previous computational graph, we saw both how the predictions (blue path), and the gradients to update the weights (green path) are computed.\n",
    "\n",
    "In PyTorch, it is usually only needed to specify the former as the latter is automatically inferred, as long as the functions we specify are common. For functions unknown to PyTorch, it is necessary to provide both the forward and backward functions to fit into this framework."
   ]
  },
  {
   "cell_type": "code",
   "execution_count": 49,
   "metadata": {},
   "outputs": [
    {
     "data": {
      "text/plain": [
       "tensor(9., grad_fn=<PowBackward0>)"
      ]
     },
     "execution_count": 49,
     "metadata": {},
     "output_type": "execute_result"
    }
   ],
   "source": [
    "def f(x):\n",
    "    return x**2\n",
    "\n",
    "xt = tensor(3.0).requires_grad_()\n",
    "yt = f(xt); yt"
   ]
  },
  {
   "cell_type": "code",
   "execution_count": 50,
   "metadata": {},
   "outputs": [
    {
     "data": {
      "text/plain": [
       "True"
      ]
     },
     "execution_count": 50,
     "metadata": {},
     "output_type": "execute_result"
    }
   ],
   "source": [
    "xt.requires_grad"
   ]
  },
  {
   "cell_type": "code",
   "execution_count": 51,
   "metadata": {},
   "outputs": [],
   "source": [
    "# compute gradients for all tensors with `requires_grad=True`\n",
    "yt.backward()"
   ]
  },
  {
   "cell_type": "code",
   "execution_count": 52,
   "metadata": {},
   "outputs": [
    {
     "data": {
      "text/plain": [
       "tensor(6.)"
      ]
     },
     "execution_count": 52,
     "metadata": {},
     "output_type": "execute_result"
    }
   ],
   "source": [
    "xt.grad"
   ]
  },
  {
   "cell_type": "markdown",
   "metadata": {},
   "source": [
    "...but it also works with tensors of arbitrary shape:"
   ]
  },
  {
   "cell_type": "code",
   "execution_count": 53,
   "metadata": {},
   "outputs": [],
   "source": [
    "xt = tensor([3.0, 4.0, 10.0], requires_grad=True)"
   ]
  },
  {
   "cell_type": "code",
   "execution_count": 54,
   "metadata": {},
   "outputs": [
    {
     "data": {
      "text/plain": [
       "True"
      ]
     },
     "execution_count": 54,
     "metadata": {},
     "output_type": "execute_result"
    }
   ],
   "source": [
    "xt.requires_grad"
   ]
  },
  {
   "cell_type": "markdown",
   "metadata": {},
   "source": [
    "|![Computational Graph PyTorch](https://user-images.githubusercontent.com/442314/179265235-29dc51fe-2d8d-41f1-893f-582509c73f2a.png)|\n",
    "|:--:|\n",
    "|*Computational graph of `y=sum(exp(x))`*|"
   ]
  },
  {
   "cell_type": "code",
   "execution_count": 55,
   "metadata": {},
   "outputs": [
    {
     "data": {
      "text/plain": [
       "tensor(125., grad_fn=<SumBackward0>)"
      ]
     },
     "execution_count": 55,
     "metadata": {},
     "output_type": "execute_result"
    }
   ],
   "source": [
    "def f(x):\n",
    "    return (x**2).sum()\n",
    "\n",
    "yt = f(xt)\n",
    "yt"
   ]
  },
  {
   "cell_type": "code",
   "execution_count": 56,
   "metadata": {},
   "outputs": [
    {
     "data": {
      "text/plain": [
       "tensor([ 6.,  8., 20.])"
      ]
     },
     "execution_count": 56,
     "metadata": {},
     "output_type": "execute_result"
    }
   ],
   "source": [
    "yt.backward()\n",
    "xt.grad"
   ]
  },
  {
   "cell_type": "markdown",
   "metadata": {},
   "source": [
    "### End-to-End SGD Example"
   ]
  },
  {
   "cell_type": "code",
   "execution_count": 57,
   "metadata": {},
   "outputs": [
    {
     "data": {
      "text/plain": [
       "tensor([ 0.,  1.,  2.,  3.,  4.,  5.,  6.,  7.,  8.,  9., 10., 11., 12., 13.,\n",
       "        14., 15., 16., 17., 18., 19.])"
      ]
     },
     "execution_count": 57,
     "metadata": {},
     "output_type": "execute_result"
    }
   ],
   "source": [
    "time = torch.arange(0, 20).float(); time"
   ]
  },
  {
   "cell_type": "code",
   "execution_count": 58,
   "metadata": {},
   "outputs": [
    {
     "data": {
      "text/plain": [
       "<matplotlib.collections.PathCollection at 0x7fa9b1930820>"
      ]
     },
     "execution_count": 58,
     "metadata": {},
     "output_type": "execute_result"
    },
    {
     "data": {
      "image/png": "[encoded data removed]",
      "text/plain": [
       "<Figure size 432x288 with 1 Axes>"
      ]
     },
     "metadata": {
      "needs_background": "light"
     },
     "output_type": "display_data"
    }
   ],
   "source": [
    "speed = torch.rand(20) * 3 + 0.75 * (time-9.5)**2 + 1\n",
    "plt.scatter(time, speed)"
   ]
  },
  {
   "cell_type": "markdown",
   "metadata": {},
   "source": [
    "$$\n",
    "\\Large f(t) = at^2 + bt + c\n",
    "$$"
   ]
  },
  {
   "cell_type": "code",
   "execution_count": 59,
   "metadata": {},
   "outputs": [],
   "source": [
    "def f(t, params):\n",
    "    a, b, c = params\n",
    "    return a*(t**2) + (b*t) + c"
   ]
  },
  {
   "cell_type": "code",
   "execution_count": 60,
   "metadata": {},
   "outputs": [],
   "source": [
    "def mse(predictions, targets):\n",
    "    return ((predictions-targets)**2).mean().sqrt()"
   ]
  },
  {
   "cell_type": "code",
   "execution_count": 61,
   "metadata": {},
   "outputs": [],
   "source": [
    "params = torch.randn(3).requires_grad_()"
   ]
  },
  {
   "cell_type": "code",
   "execution_count": 62,
   "metadata": {},
   "outputs": [],
   "source": [
    "predictions = f(time, params)"
   ]
  },
  {
   "cell_type": "code",
   "execution_count": 63,
   "metadata": {},
   "outputs": [],
   "source": [
    "def show_predictions(predictions, ax=None):\n",
    "    if ax is None:\n",
    "        ax = plt.subplots()[1]\n",
    "    ax.scatter(time, speed)\n",
    "    # to_np is necessary because matplotlib only understands\n",
    "    # numpy arrays but `predictions` are PyTorch tensors\n",
    "    ax.scatter(time, to_np(predictions))\n",
    "    ax.set_ylim(-300, 100)"
   ]
  },
  {
   "cell_type": "code",
   "execution_count": 64,
   "metadata": {},
   "outputs": [
    {
     "data": {
      "image/png": "[encoded data removed]",
      "text/plain": [
       "<Figure size 432x288 with 1 Axes>"
      ]
     },
     "metadata": {
      "needs_background": "light"
     },
     "output_type": "display_data"
    }
   ],
   "source": [
    "show_predictions(predictions)"
   ]
  },
  {
   "cell_type": "code",
   "execution_count": 65,
   "metadata": {},
   "outputs": [
    {
     "data": {
      "text/plain": [
       "tensor(69.2391, grad_fn=<SqrtBackward>)"
      ]
     },
     "execution_count": 65,
     "metadata": {},
     "output_type": "execute_result"
    }
   ],
   "source": [
    "loss = mse(predictions, speed); loss"
   ]
  },
  {
   "cell_type": "code",
   "execution_count": 66,
   "metadata": {},
   "outputs": [
    {
     "data": {
      "text/plain": [
       "tensor([155.7534,   9.9962,   0.5482])"
      ]
     },
     "execution_count": 66,
     "metadata": {},
     "output_type": "execute_result"
    }
   ],
   "source": [
    "# compute gradients\n",
    "loss.backward()\n",
    "params.grad"
   ]
  },
  {
   "cell_type": "code",
   "execution_count": 67,
   "metadata": {},
   "outputs": [
    {
     "data": {
      "text/plain": [
       "tensor([0.5162, 0.1623, 0.5671], requires_grad=True)"
      ]
     },
     "execution_count": 67,
     "metadata": {},
     "output_type": "execute_result"
    }
   ],
   "source": [
    "params"
   ]
  },
  {
   "cell_type": "code",
   "execution_count": 68,
   "metadata": {},
   "outputs": [],
   "source": [
    "learning_rate = 1e-3\n",
    "params.data -= learning_rate * params.grad.data\n",
    "params.grad = None"
   ]
  },
  {
   "cell_type": "code",
   "execution_count": 69,
   "metadata": {},
   "outputs": [
    {
     "data": {
      "text/plain": [
       "tensor(45.9234, grad_fn=<SqrtBackward>)"
      ]
     },
     "execution_count": 69,
     "metadata": {},
     "output_type": "execute_result"
    }
   ],
   "source": [
    "predictions = f(time, params)\n",
    "mse(predictions, speed)"
   ]
  },
  {
   "cell_type": "code",
   "execution_count": 70,
   "metadata": {},
   "outputs": [
    {
     "data": {
      "image/png": "[encoded data removed]",
      "text/plain": [
       "<Figure size 432x288 with 1 Axes>"
      ]
     },
     "metadata": {
      "needs_background": "light"
     },
     "output_type": "display_data"
    }
   ],
   "source": [
    "show_predictions(predictions)"
   ]
  },
  {
   "cell_type": "code",
   "execution_count": 71,
   "metadata": {},
   "outputs": [],
   "source": [
    "def apply_step(params, show=True):\n",
    "    predictions = f(time, params)\n",
    "    loss = mse(predictions, speed)\n",
    "    loss.backward()\n",
    "    params.data -= learning_rate * params.grad.data\n",
    "    params.grad = None\n",
    "    if show:\n",
    "        print(loss.item())\n",
    "    return predictions"
   ]
  },
  {
   "cell_type": "code",
   "execution_count": 72,
   "metadata": {},
   "outputs": [
    {
     "name": "stdout",
     "output_type": "stream",
     "text": [
      "45.92341232299805\n",
      "29.57659912109375\n",
      "25.70260238647461\n",
      "25.694149017333984\n",
      "25.693931579589844\n",
      "25.69379425048828\n",
      "25.693660736083984\n",
      "25.693525314331055\n",
      "25.693391799926758\n",
      "25.693256378173828\n"
     ]
    }
   ],
   "source": [
    "for _ in range(10):\n",
    "    apply_step(params)"
   ]
  },
  {
   "cell_type": "code",
   "execution_count": 73,
   "metadata": {},
   "outputs": [
    {
     "data": {
      "image/png": "[encoded data removed]",
      "text/plain": [
       "<Figure size 864x216 with 4 Axes>"
      ]
     },
     "metadata": {
      "needs_background": "light"
     },
     "output_type": "display_data"
    }
   ],
   "source": [
    "_, axes = plt.subplots(1, 4, figsize=(12, 3))\n",
    "for axis in axes:\n",
    "    show_predictions(apply_step(params, show=False), axis)\n",
    "plt.tight_layout()"
   ]
  },
  {
   "cell_type": "markdown",
   "metadata": {},
   "source": [
    "## MNIST Loss Function"
   ]
  },
  {
   "cell_type": "markdown",
   "metadata": {},
   "source": [
    "### Preparing Validation Data"
   ]
  },
  {
   "cell_type": "code",
   "execution_count": 74,
   "metadata": {},
   "outputs": [
    {
     "data": {
      "text/plain": [
       "(torch.Size([12396, 784]), torch.Size([12396, 1]))"
      ]
     },
     "execution_count": 74,
     "metadata": {},
     "output_type": "execute_result"
    }
   ],
   "source": [
    "train_x = torch.cat([stacked_3s, stacked_7s]).view(-1, 28*28)\n",
    "train_y = tensor([1]*len(threes) + [0]*len(sevens)).unsqueeze(1)\n",
    "train_x.shape, train_y.shape"
   ]
  },
  {
   "cell_type": "code",
   "execution_count": 75,
   "metadata": {},
   "outputs": [
    {
     "data": {
      "text/plain": [
       "(torch.Size([784]), tensor([1]))"
      ]
     },
     "execution_count": 75,
     "metadata": {},
     "output_type": "execute_result"
    }
   ],
   "source": [
    "dataset = list(zip(train_x, train_y))\n",
    "x, y = dataset[0]\n",
    "x.shape, y"
   ]
  },
  {
   "cell_type": "code",
   "execution_count": 76,
   "metadata": {},
   "outputs": [
    {
     "data": {
      "text/plain": [
       "(torch.Size([2038, 784]), torch.Size([2038, 1]))"
      ]
     },
     "execution_count": 76,
     "metadata": {},
     "output_type": "execute_result"
    }
   ],
   "source": [
    "validation_x = torch.cat([validation_3s, validation_7s]).view(-1, 28*28)\n",
    "validation_y = tensor([1]*len(validation_3s) + [0]*len(validation_7s)).unsqueeze(1)\n",
    "validation_x.shape, validation_y.shape"
   ]
  },
  {
   "cell_type": "code",
   "execution_count": 77,
   "metadata": {},
   "outputs": [],
   "source": [
    "validation_dataset = list(zip(validation_x, validation_y))"
   ]
  },
  {
   "cell_type": "markdown",
   "metadata": {},
   "source": [
    "### Basic Building Block: Linear Layer"
   ]
  },
  {
   "cell_type": "code",
   "execution_count": 78,
   "metadata": {},
   "outputs": [],
   "source": [
    "def init_params(size, stddev=1.0):\n",
    "    return (torch.randn(size)*stddev).requires_grad_()"
   ]
  },
  {
   "cell_type": "code",
   "execution_count": 79,
   "metadata": {},
   "outputs": [],
   "source": [
    "weights = init_params((28*28, 1))\n",
    "bias = init_params(1)"
   ]
  },
  {
   "cell_type": "code",
   "execution_count": 80,
   "metadata": {},
   "outputs": [
    {
     "data": {
      "text/plain": [
       "tensor([-9.1521], grad_fn=<AddBackward0>)"
      ]
     },
     "execution_count": 80,
     "metadata": {},
     "output_type": "execute_result"
    }
   ],
   "source": [
    "(train_x[0]*weights.T).sum() + bias"
   ]
  },
  {
   "cell_type": "code",
   "execution_count": 81,
   "metadata": {},
   "outputs": [],
   "source": [
    "def linear1(x_batch):\n",
    "    return x_batch @ weights + bias"
   ]
  },
  {
   "cell_type": "code",
   "execution_count": 82,
   "metadata": {},
   "outputs": [
    {
     "data": {
      "text/plain": [
       "tensor([[ -9.1521],\n",
       "        [-19.5438],\n",
       "        [-11.1208],\n",
       "        ...,\n",
       "        [  4.8764],\n",
       "        [ -1.8298],\n",
       "        [ -5.2019]], grad_fn=<AddBackward0>)"
      ]
     },
     "execution_count": 82,
     "metadata": {},
     "output_type": "execute_result"
    }
   ],
   "source": [
    "predictions = linear1(train_x); predictions"
   ]
  },
  {
   "cell_type": "code",
   "execution_count": 83,
   "metadata": {},
   "outputs": [
    {
     "data": {
      "text/plain": [
       "tensor([[False],\n",
       "        [False],\n",
       "        [False],\n",
       "        ...,\n",
       "        [False],\n",
       "        [ True],\n",
       "        [ True]])"
      ]
     },
     "execution_count": 83,
     "metadata": {},
     "output_type": "execute_result"
    }
   ],
   "source": [
    "corrects = (predictions > 0.0).float() == train_y\n",
    "corrects"
   ]
  },
  {
   "cell_type": "code",
   "execution_count": 84,
   "metadata": {},
   "outputs": [
    {
     "data": {
      "text/plain": [
       "0.41965150833129883"
      ]
     },
     "execution_count": 84,
     "metadata": {},
     "output_type": "execute_result"
    }
   ],
   "source": [
    "corrects.float().mean().item()"
   ]
  },
  {
   "cell_type": "code",
   "execution_count": 85,
   "metadata": {},
   "outputs": [],
   "source": [
    "targets = tensor([1, 0, 1])\n",
    "predictions = tensor([0.9, 0.4, 0.2])"
   ]
  },
  {
   "cell_type": "markdown",
   "metadata": {},
   "source": [
    "### Loss Function -- V1"
   ]
  },
  {
   "cell_type": "code",
   "execution_count": 86,
   "metadata": {},
   "outputs": [],
   "source": [
    "def mnist_loss(predictions, targets):\n",
    "    return torch.where(targets==1, 1-predictions, predictions).mean()"
   ]
  },
  {
   "cell_type": "code",
   "execution_count": 87,
   "metadata": {},
   "outputs": [
    {
     "data": {
      "text/plain": [
       "tensor([0.1000, 0.4000, 0.8000])"
      ]
     },
     "execution_count": 87,
     "metadata": {},
     "output_type": "execute_result"
    }
   ],
   "source": [
    "torch.where(targets==1, 1-predictions, predictions)"
   ]
  },
  {
   "cell_type": "code",
   "execution_count": 88,
   "metadata": {},
   "outputs": [
    {
     "data": {
      "text/plain": [
       "tensor(0.4333)"
      ]
     },
     "execution_count": 88,
     "metadata": {},
     "output_type": "execute_result"
    }
   ],
   "source": [
    "mnist_loss(predictions, targets)"
   ]
  },
  {
   "cell_type": "code",
   "execution_count": 89,
   "metadata": {},
   "outputs": [
    {
     "data": {
      "text/plain": [
       "tensor(0.2333)"
      ]
     },
     "execution_count": 89,
     "metadata": {},
     "output_type": "execute_result"
    }
   ],
   "source": [
    "mnist_loss(tensor([0.9, 0.4, 0.8]), targets)"
   ]
  },
  {
   "cell_type": "code",
   "execution_count": 90,
   "metadata": {},
   "outputs": [],
   "source": [
    "def sigmoid(x):\n",
    "    return 1/(1 + torch.exp(-x))"
   ]
  },
  {
   "cell_type": "code",
   "execution_count": 91,
   "metadata": {},
   "outputs": [
    {
     "name": "stderr",
     "output_type": "stream",
     "text": [
      "/opt/conda/envs/fastai/lib/python3.8/site-packages/fastbook/__init__.py:74: UserWarning: Not providing a value for linspace's steps is deprecated and will throw a runtime error in a future release. This warning will appear only once per process. (Triggered internally at  /pytorch/aten/src/ATen/native/RangeFactories.cpp:25.)\n",
      "  x = torch.linspace(min,max)\n"
     ]
    },
    {
     "data": {
      "image/png": "[encoded data removed]",
      "text/plain": [
       "<Figure size 432x288 with 1 Axes>"
      ]
     },
     "metadata": {
      "needs_background": "light"
     },
     "output_type": "display_data"
    }
   ],
   "source": [
    "from fastbook import plot_function\n",
    "\n",
    "plot_function(torch.sigmoid, title='Sigmoid', min=-4, max=4)"
   ]
  },
  {
   "cell_type": "markdown",
   "metadata": {},
   "source": [
    "### Loss Function -- V2"
   ]
  },
  {
   "cell_type": "code",
   "execution_count": 92,
   "metadata": {},
   "outputs": [],
   "source": [
    "def mnist_loss(predictions, targets):\n",
    "    predictions = predictions.sigmoid()\n",
    "    return torch.where(targets==1, 1-predictions, predictions).mean()"
   ]
  },
  {
   "cell_type": "code",
   "execution_count": 93,
   "metadata": {},
   "outputs": [
    {
     "data": {
      "text/plain": [
       "[tensor([ 3, 12,  8, 10,  2]),\n",
       " tensor([ 9,  4,  7, 14,  5]),\n",
       " tensor([ 1, 13,  0,  6, 11])]"
      ]
     },
     "execution_count": 93,
     "metadata": {},
     "output_type": "execute_result"
    }
   ],
   "source": [
    "dataloader = DataLoader(range(15), batch_size=5, shuffle=True)\n",
    "list(dataloader)"
   ]
  },
  {
   "cell_type": "code",
   "execution_count": 94,
   "metadata": {},
   "outputs": [
    {
     "data": {
      "text/plain": [
       "(#26) [(0, 'a'),(1, 'b'),(2, 'c'),(3, 'd'),(4, 'e'),(5, 'f'),(6, 'g'),(7, 'h'),(8, 'i'),(9, 'j')...]"
      ]
     },
     "execution_count": 94,
     "metadata": {},
     "output_type": "execute_result"
    }
   ],
   "source": [
    "dataset1 = L(enumerate(string.ascii_lowercase))\n",
    "dataset1"
   ]
  },
  {
   "cell_type": "code",
   "execution_count": 95,
   "metadata": {},
   "outputs": [
    {
     "data": {
      "text/plain": [
       "[(tensor([17, 18, 10, 22,  8, 14]), ('r', 's', 'k', 'w', 'i', 'o')),\n",
       " (tensor([20, 15,  9, 13, 21, 12]), ('u', 'p', 'j', 'n', 'v', 'm')),\n",
       " (tensor([ 7, 25,  6,  5, 11, 23]), ('h', 'z', 'g', 'f', 'l', 'x')),\n",
       " (tensor([ 1,  3,  0, 24, 19, 16]), ('b', 'd', 'a', 'y', 't', 'q')),\n",
       " (tensor([2, 4]), ('c', 'e'))]"
      ]
     },
     "execution_count": 95,
     "metadata": {},
     "output_type": "execute_result"
    }
   ],
   "source": [
    "dataloader = DataLoader(dataset1, batch_size=6, shuffle=True)\n",
    "list(dataloader)"
   ]
  },
  {
   "cell_type": "code",
   "execution_count": 96,
   "metadata": {},
   "outputs": [],
   "source": [
    "# in this very simple model, we have a single output neuron\n",
    "# if we had K output neurons, the shape of `weights` would\n",
    "# be (28*28, K)\n",
    "weights = init_params((28*28, 1))\n",
    "bias = init_params(1)"
   ]
  },
  {
   "cell_type": "code",
   "execution_count": 97,
   "metadata": {},
   "outputs": [
    {
     "data": {
      "text/plain": [
       "(torch.Size([256, 784]), torch.Size([256, 1]))"
      ]
     },
     "execution_count": 97,
     "metadata": {},
     "output_type": "execute_result"
    }
   ],
   "source": [
    "dataloader = DataLoader(dataset, batch_size=256)\n",
    "xb, yb = first(dataloader)\n",
    "xb.shape, yb.shape"
   ]
  },
  {
   "cell_type": "code",
   "execution_count": 98,
   "metadata": {},
   "outputs": [],
   "source": [
    "validation_dataloader = DataLoader(validation_dataset, batch_size=256)"
   ]
  },
  {
   "cell_type": "code",
   "execution_count": 99,
   "metadata": {},
   "outputs": [
    {
     "data": {
      "text/plain": [
       "torch.Size([5, 784])"
      ]
     },
     "execution_count": 99,
     "metadata": {},
     "output_type": "execute_result"
    }
   ],
   "source": [
    "batch = train_x[:5]\n",
    "batch.shape"
   ]
  },
  {
   "cell_type": "code",
   "execution_count": 100,
   "metadata": {},
   "outputs": [
    {
     "data": {
      "text/plain": [
       "tensor([[-2.8015],\n",
       "        [-2.9294],\n",
       "        [ 1.3709],\n",
       "        [-1.8300],\n",
       "        [-6.1362]], grad_fn=<AddBackward0>)"
      ]
     },
     "execution_count": 100,
     "metadata": {},
     "output_type": "execute_result"
    }
   ],
   "source": [
    "predictions = linear1(batch)\n",
    "predictions"
   ]
  },
  {
   "cell_type": "code",
   "execution_count": 101,
   "metadata": {},
   "outputs": [
    {
     "data": {
      "text/plain": [
       "tensor(0.7908, grad_fn=<MeanBackward0>)"
      ]
     },
     "execution_count": 101,
     "metadata": {},
     "output_type": "execute_result"
    }
   ],
   "source": [
    "loss = mnist_loss(predictions, train_y[:5])\n",
    "loss"
   ]
  },
  {
   "cell_type": "code",
   "execution_count": 102,
   "metadata": {},
   "outputs": [
    {
     "data": {
      "text/plain": [
       "(torch.Size([784, 1]), tensor(-0.0118), tensor([-0.0770]))"
      ]
     },
     "execution_count": 102,
     "metadata": {},
     "output_type": "execute_result"
    }
   ],
   "source": [
    "loss.backward()\n",
    "weights.grad.shape, weights.grad.mean(), bias.grad"
   ]
  },
  {
   "cell_type": "markdown",
   "metadata": {},
   "source": [
    "## The Training Loop"
   ]
  },
  {
   "cell_type": "code",
   "execution_count": 103,
   "metadata": {},
   "outputs": [],
   "source": [
    "def compute_gradients(x_batch, y_batch, model):\n",
    "    predictions = model(x_batch)\n",
    "    loss = mnist_loss(predictions, y_batch)\n",
    "    loss.backward()"
   ]
  },
  {
   "cell_type": "code",
   "execution_count": 104,
   "metadata": {},
   "outputs": [
    {
     "data": {
      "text/plain": [
       "(tensor(-0.0236), tensor([-0.1540]))"
      ]
     },
     "execution_count": 104,
     "metadata": {},
     "output_type": "execute_result"
    }
   ],
   "source": [
    "compute_gradients(batch, train_y[:5], linear1)\n",
    "weights.grad.mean(), bias.grad"
   ]
  },
  {
   "cell_type": "markdown",
   "metadata": {},
   "source": [
    "Notice that if we call the above cell twice, the gradients will change!"
   ]
  },
  {
   "cell_type": "code",
   "execution_count": 105,
   "metadata": {},
   "outputs": [
    {
     "data": {
      "text/plain": [
       "(tensor(-0.0354), tensor([-0.2309]))"
      ]
     },
     "execution_count": 105,
     "metadata": {},
     "output_type": "execute_result"
    }
   ],
   "source": [
    "compute_gradients(batch, train_y[:5], linear1)\n",
    "weights.grad.mean(), bias.grad"
   ]
  },
  {
   "cell_type": "code",
   "execution_count": 106,
   "metadata": {},
   "outputs": [
    {
     "data": {
      "text/plain": [
       "tensor([0.])"
      ]
     },
     "execution_count": 106,
     "metadata": {},
     "output_type": "execute_result"
    }
   ],
   "source": [
    "weights.grad.zero_()\n",
    "bias.grad.zero_()"
   ]
  },
  {
   "cell_type": "code",
   "execution_count": 107,
   "metadata": {},
   "outputs": [],
   "source": [
    "def train_epoch(model, params, learning_rate):\n",
    "    for x_batch, y_batch in dataloader:\n",
    "        compute_gradients(x_batch, y_batch, model)\n",
    "        for param in params:\n",
    "            param.data -= learning_rate * param.grad\n",
    "            param.grad.zero_()"
   ]
  },
  {
   "cell_type": "code",
   "execution_count": 108,
   "metadata": {},
   "outputs": [],
   "source": [
    "def batch_accuracy(x_batch, y_batch):\n",
    "    predictions = x_batch.sigmoid()\n",
    "    correct = (predictions > 0.5) == y_batch\n",
    "    return correct.float().mean()"
   ]
  },
  {
   "cell_type": "code",
   "execution_count": 109,
   "metadata": {},
   "outputs": [
    {
     "data": {
      "text/plain": [
       "tensor(0.2000)"
      ]
     },
     "execution_count": 109,
     "metadata": {},
     "output_type": "execute_result"
    }
   ],
   "source": [
    "batch_accuracy(linear1(batch), train_y[:5])"
   ]
  },
  {
   "cell_type": "code",
   "execution_count": 110,
   "metadata": {},
   "outputs": [],
   "source": [
    "def validate_epoch(model):\n",
    "    accuracies = [batch_accuracy(model(xb), yb) for xb, yb in validation_dataloader]\n",
    "    return round(torch.stack(accuracies).mean().item(), 4)"
   ]
  },
  {
   "cell_type": "code",
   "execution_count": 111,
   "metadata": {},
   "outputs": [
    {
     "data": {
      "text/plain": [
       "0.3031"
      ]
     },
     "execution_count": 111,
     "metadata": {},
     "output_type": "execute_result"
    }
   ],
   "source": [
    "validate_epoch(linear1)"
   ]
  },
  {
   "cell_type": "code",
   "execution_count": 112,
   "metadata": {},
   "outputs": [
    {
     "data": {
      "text/plain": [
       "0.4961"
      ]
     },
     "execution_count": 112,
     "metadata": {},
     "output_type": "execute_result"
    }
   ],
   "source": [
    "learning_rate = 1.\n",
    "params = weights, bias\n",
    "train_epoch(linear1, params, learning_rate)\n",
    "validate_epoch(linear1)"
   ]
  },
  {
   "cell_type": "code",
   "execution_count": 113,
   "metadata": {},
   "outputs": [
    {
     "name": "stdout",
     "output_type": "stream",
     "text": [
      "0.4991 0.5719 0.6005 0.8525 0.9233 0.9414 0.9472 0.9531 0.9575 0.9609 0.9619 0.9653 0.9668 0.9702 0.9726 0.9726 0.9741 0.9746 0.9751 0.9755 "
     ]
    }
   ],
   "source": [
    "for i in range(20):\n",
    "    train_epoch(linear1, params, learning_rate)\n",
    "    print(validate_epoch(linear1), end=' ')"
   ]
  },
  {
   "cell_type": "markdown",
   "metadata": {},
   "source": [
    "### Basic Optimizer"
   ]
  },
  {
   "cell_type": "code",
   "execution_count": 114,
   "metadata": {},
   "outputs": [],
   "source": [
    "class BasicOptimizer:\n",
    "    def __init__(self, params, learning_rate):\n",
    "        # creating a copy of the parameters is actually quite important!\n",
    "        # if you don't do it, the updates in self.step() won't have any\n",
    "        # effect (I guess this is by design -- we'll have to ask the fastai authors)\n",
    "        self.params = list(params)\n",
    "        self.learning_rate = learning_rate\n",
    "    \n",
    "    def step(self, *args, **kwargs):\n",
    "        for param in self.params:\n",
    "            param.data -= param.grad.data * self.learning_rate\n",
    "\n",
    "    def zero_grad(self, *args, **kwargs):\n",
    "        for param in self.params:\n",
    "            param.grad = None"
   ]
  },
  {
   "cell_type": "code",
   "execution_count": 115,
   "metadata": {},
   "outputs": [],
   "source": [
    "linear_model = nn.Linear(28*28, 1)"
   ]
  },
  {
   "cell_type": "code",
   "execution_count": 116,
   "metadata": {},
   "outputs": [
    {
     "data": {
      "text/plain": [
       "(torch.Size([1, 784]), torch.Size([1]))"
      ]
     },
     "execution_count": 116,
     "metadata": {},
     "output_type": "execute_result"
    }
   ],
   "source": [
    "w, b = linear_model.parameters()\n",
    "w.shape, b.shape"
   ]
  },
  {
   "cell_type": "code",
   "execution_count": 117,
   "metadata": {},
   "outputs": [],
   "source": [
    "def train_epoch(model, optimizer):\n",
    "    for x_batch, y_batch in dataloader:\n",
    "        compute_gradients(x_batch, y_batch, model)\n",
    "        optimizer.step()\n",
    "        optimizer.zero_grad()"
   ]
  },
  {
   "cell_type": "code",
   "execution_count": 118,
   "metadata": {},
   "outputs": [],
   "source": [
    "def train_model(model, optimizer, epochs=10):\n",
    "    for i in range(epochs):\n",
    "        train_epoch(model, optimizer)\n",
    "        print(validate_epoch(model), end=' ')"
   ]
  },
  {
   "cell_type": "code",
   "execution_count": 119,
   "metadata": {},
   "outputs": [],
   "source": [
    "optimizer = BasicOptimizer(linear_model.parameters(), learning_rate)"
   ]
  },
  {
   "cell_type": "code",
   "execution_count": 120,
   "metadata": {},
   "outputs": [
    {
     "name": "stdout",
     "output_type": "stream",
     "text": [
      "0.4932 0.7934 0.8476 0.9165 0.9345 0.9482 0.956 0.9633 0.9657 0.9672 0.9702 0.9716 0.9731 0.975 0.9755 0.9765 0.9775 0.978 0.9785 0.9785 "
     ]
    }
   ],
   "source": [
    "learning_rate = 1e-2\n",
    "train_model(linear_model, optimizer, epochs=20)"
   ]
  },
  {
   "cell_type": "markdown",
   "metadata": {},
   "source": [
    "### Training the Model"
   ]
  },
  {
   "cell_type": "code",
   "execution_count": 121,
   "metadata": {},
   "outputs": [
    {
     "name": "stdout",
     "output_type": "stream",
     "text": [
      "0.9096 0.9223 0.9447 0.9545 0.9613 0.9613 0.9617 0.9617 0.9632 0.9627 0.9637 0.9637 0.9647 0.9656 0.9656 0.9661 0.9666 0.9666 0.9671 0.9671 "
     ]
    }
   ],
   "source": [
    "linear_model = nn.Linear(28*28, 1)\n",
    "optimizer = SGD(linear_model.parameters(), learning_rate)\n",
    "train_model(linear_model, optimizer, epochs=20)"
   ]
  },
  {
   "cell_type": "code",
   "execution_count": 122,
   "metadata": {},
   "outputs": [],
   "source": [
    "dataloaders = DataLoaders(dataloader, validation_dataloader)"
   ]
  },
  {
   "cell_type": "code",
   "execution_count": 123,
   "metadata": {},
   "outputs": [],
   "source": [
    "model = nn.Linear(28*28, 1)\n",
    "learner = Learner(dataloaders, model, opt_func=SGD, loss_func=mnist_loss, metrics=batch_accuracy)"
   ]
  },
  {
   "cell_type": "code",
   "execution_count": 124,
   "metadata": {},
   "outputs": [
    {
     "data": {
      "text/html": [
       "<table border=\"1\" class=\"dataframe\">\n",
       "  <thead>\n",
       "    <tr style=\"text-align: left;\">\n",
       "      <th>epoch</th>\n",
       "      <th>train_loss</th>\n",
       "      <th>valid_loss</th>\n",
       "      <th>batch_accuracy</th>\n",
       "      <th>time</th>\n",
       "    </tr>\n",
       "  </thead>\n",
       "  <tbody>\n",
       "    <tr>\n",
       "      <td>0</td>\n",
       "      <td>0.461049</td>\n",
       "      <td>0.367614</td>\n",
       "      <td>0.947498</td>\n",
       "      <td>00:00</td>\n",
       "    </tr>\n",
       "    <tr>\n",
       "      <td>1</td>\n",
       "      <td>0.341307</td>\n",
       "      <td>0.274737</td>\n",
       "      <td>0.927870</td>\n",
       "      <td>00:00</td>\n",
       "    </tr>\n",
       "    <tr>\n",
       "      <td>2</td>\n",
       "      <td>0.259165</td>\n",
       "      <td>0.213508</td>\n",
       "      <td>0.946516</td>\n",
       "      <td>00:00</td>\n",
       "    </tr>\n",
       "    <tr>\n",
       "      <td>3</td>\n",
       "      <td>0.205770</td>\n",
       "      <td>0.174045</td>\n",
       "      <td>0.955348</td>\n",
       "      <td>00:00</td>\n",
       "    </tr>\n",
       "    <tr>\n",
       "      <td>4</td>\n",
       "      <td>0.170532</td>\n",
       "      <td>0.148876</td>\n",
       "      <td>0.959274</td>\n",
       "      <td>00:00</td>\n",
       "    </tr>\n",
       "    <tr>\n",
       "      <td>5</td>\n",
       "      <td>0.146770</td>\n",
       "      <td>0.131907</td>\n",
       "      <td>0.960746</td>\n",
       "      <td>00:00</td>\n",
       "    </tr>\n",
       "    <tr>\n",
       "      <td>6</td>\n",
       "      <td>0.130204</td>\n",
       "      <td>0.119760</td>\n",
       "      <td>0.960746</td>\n",
       "      <td>00:00</td>\n",
       "    </tr>\n",
       "    <tr>\n",
       "      <td>7</td>\n",
       "      <td>0.118187</td>\n",
       "      <td>0.110626</td>\n",
       "      <td>0.962709</td>\n",
       "      <td>00:00</td>\n",
       "    </tr>\n",
       "    <tr>\n",
       "      <td>8</td>\n",
       "      <td>0.109114</td>\n",
       "      <td>0.103486</td>\n",
       "      <td>0.962218</td>\n",
       "      <td>00:00</td>\n",
       "    </tr>\n",
       "    <tr>\n",
       "      <td>9</td>\n",
       "      <td>0.102014</td>\n",
       "      <td>0.097733</td>\n",
       "      <td>0.962709</td>\n",
       "      <td>00:00</td>\n",
       "    </tr>\n",
       "  </tbody>\n",
       "</table>"
      ],
      "text/plain": [
       "<IPython.core.display.HTML object>"
      ]
     },
     "metadata": {},
     "output_type": "display_data"
    }
   ],
   "source": [
    "learner.fit(10, lr=learning_rate)"
   ]
  },
  {
   "cell_type": "code",
   "execution_count": 125,
   "metadata": {},
   "outputs": [],
   "source": [
    "#w1 = init_params((28*28, 30))\n",
    "#b1 = init_params(30)\n",
    "#w2 = init_params((30, 1))\n",
    "#b2 = init_params(1)"
   ]
  },
  {
   "cell_type": "code",
   "execution_count": 126,
   "metadata": {},
   "outputs": [],
   "source": [
    "# def simple_net(xb):\n",
    "#     output = xb @ w1 + b1\n",
    "#     output = output.max(tensor(0.0))\n",
    "#     output = output @ w2 + b2\n",
    "#     return output"
   ]
  },
  {
   "cell_type": "code",
   "execution_count": 127,
   "metadata": {},
   "outputs": [
    {
     "data": {
      "image/png": "[encoded data removed]",
      "text/plain": [
       "<Figure size 432x288 with 1 Axes>"
      ]
     },
     "metadata": {
      "needs_background": "light"
     },
     "output_type": "display_data"
    }
   ],
   "source": [
    "plot_function(F.relu)"
   ]
  },
  {
   "cell_type": "code",
   "execution_count": 128,
   "metadata": {},
   "outputs": [],
   "source": [
    "simple_net = nn.Sequential(\n",
    "    nn.Linear(28*28, 30),\n",
    "    nn.ReLU(),\n",
    "    nn.Linear(30, 1)\n",
    ")"
   ]
  },
  {
   "cell_type": "code",
   "execution_count": 129,
   "metadata": {},
   "outputs": [
    {
     "data": {
      "text/html": [
       "<table border=\"1\" class=\"dataframe\">\n",
       "  <thead>\n",
       "    <tr style=\"text-align: left;\">\n",
       "      <th>epoch</th>\n",
       "      <th>train_loss</th>\n",
       "      <th>valid_loss</th>\n",
       "      <th>batch_accuracy</th>\n",
       "      <th>time</th>\n",
       "    </tr>\n",
       "  </thead>\n",
       "  <tbody>\n",
       "    <tr>\n",
       "      <td>0</td>\n",
       "      <td>0.339450</td>\n",
       "      <td>0.416012</td>\n",
       "      <td>0.504416</td>\n",
       "      <td>00:00</td>\n",
       "    </tr>\n",
       "    <tr>\n",
       "      <td>1</td>\n",
       "      <td>0.156050</td>\n",
       "      <td>0.243690</td>\n",
       "      <td>0.792444</td>\n",
       "      <td>00:00</td>\n",
       "    </tr>\n",
       "    <tr>\n",
       "      <td>2</td>\n",
       "      <td>0.085183</td>\n",
       "      <td>0.119290</td>\n",
       "      <td>0.913641</td>\n",
       "      <td>00:00</td>\n",
       "    </tr>\n",
       "    <tr>\n",
       "      <td>3</td>\n",
       "      <td>0.055170</td>\n",
       "      <td>0.079665</td>\n",
       "      <td>0.939647</td>\n",
       "      <td>00:00</td>\n",
       "    </tr>\n",
       "    <tr>\n",
       "      <td>4</td>\n",
       "      <td>0.041383</td>\n",
       "      <td>0.061986</td>\n",
       "      <td>0.954367</td>\n",
       "      <td>00:00</td>\n",
       "    </tr>\n",
       "    <tr>\n",
       "      <td>5</td>\n",
       "      <td>0.034415</td>\n",
       "      <td>0.052091</td>\n",
       "      <td>0.964181</td>\n",
       "      <td>00:00</td>\n",
       "    </tr>\n",
       "    <tr>\n",
       "      <td>6</td>\n",
       "      <td>0.030449</td>\n",
       "      <td>0.045856</td>\n",
       "      <td>0.965653</td>\n",
       "      <td>00:00</td>\n",
       "    </tr>\n",
       "    <tr>\n",
       "      <td>7</td>\n",
       "      <td>0.027891</td>\n",
       "      <td>0.041601</td>\n",
       "      <td>0.966634</td>\n",
       "      <td>00:00</td>\n",
       "    </tr>\n",
       "    <tr>\n",
       "      <td>8</td>\n",
       "      <td>0.026058</td>\n",
       "      <td>0.038509</td>\n",
       "      <td>0.968106</td>\n",
       "      <td>00:00</td>\n",
       "    </tr>\n",
       "    <tr>\n",
       "      <td>9</td>\n",
       "      <td>0.024645</td>\n",
       "      <td>0.036147</td>\n",
       "      <td>0.968106</td>\n",
       "      <td>00:00</td>\n",
       "    </tr>\n",
       "    <tr>\n",
       "      <td>10</td>\n",
       "      <td>0.023505</td>\n",
       "      <td>0.034273</td>\n",
       "      <td>0.970069</td>\n",
       "      <td>00:00</td>\n",
       "    </tr>\n",
       "    <tr>\n",
       "      <td>11</td>\n",
       "      <td>0.022558</td>\n",
       "      <td>0.032739</td>\n",
       "      <td>0.972031</td>\n",
       "      <td>00:00</td>\n",
       "    </tr>\n",
       "    <tr>\n",
       "      <td>12</td>\n",
       "      <td>0.021753</td>\n",
       "      <td>0.031450</td>\n",
       "      <td>0.973994</td>\n",
       "      <td>00:00</td>\n",
       "    </tr>\n",
       "    <tr>\n",
       "      <td>13</td>\n",
       "      <td>0.021058</td>\n",
       "      <td>0.030344</td>\n",
       "      <td>0.974975</td>\n",
       "      <td>00:00</td>\n",
       "    </tr>\n",
       "    <tr>\n",
       "      <td>14</td>\n",
       "      <td>0.020449</td>\n",
       "      <td>0.029380</td>\n",
       "      <td>0.975466</td>\n",
       "      <td>00:00</td>\n",
       "    </tr>\n",
       "    <tr>\n",
       "      <td>15</td>\n",
       "      <td>0.019909</td>\n",
       "      <td>0.028530</td>\n",
       "      <td>0.975957</td>\n",
       "      <td>00:00</td>\n",
       "    </tr>\n",
       "    <tr>\n",
       "      <td>16</td>\n",
       "      <td>0.019424</td>\n",
       "      <td>0.027774</td>\n",
       "      <td>0.977429</td>\n",
       "      <td>00:00</td>\n",
       "    </tr>\n",
       "    <tr>\n",
       "      <td>17</td>\n",
       "      <td>0.018987</td>\n",
       "      <td>0.027094</td>\n",
       "      <td>0.977920</td>\n",
       "      <td>00:00</td>\n",
       "    </tr>\n",
       "    <tr>\n",
       "      <td>18</td>\n",
       "      <td>0.018589</td>\n",
       "      <td>0.026481</td>\n",
       "      <td>0.978901</td>\n",
       "      <td>00:00</td>\n",
       "    </tr>\n",
       "    <tr>\n",
       "      <td>19</td>\n",
       "      <td>0.018225</td>\n",
       "      <td>0.025925</td>\n",
       "      <td>0.978901</td>\n",
       "      <td>00:00</td>\n",
       "    </tr>\n",
       "    <tr>\n",
       "      <td>20</td>\n",
       "      <td>0.017889</td>\n",
       "      <td>0.025418</td>\n",
       "      <td>0.979882</td>\n",
       "      <td>00:00</td>\n",
       "    </tr>\n",
       "    <tr>\n",
       "      <td>21</td>\n",
       "      <td>0.017578</td>\n",
       "      <td>0.024956</td>\n",
       "      <td>0.979882</td>\n",
       "      <td>00:00</td>\n",
       "    </tr>\n",
       "    <tr>\n",
       "      <td>22</td>\n",
       "      <td>0.017289</td>\n",
       "      <td>0.024531</td>\n",
       "      <td>0.979882</td>\n",
       "      <td>00:00</td>\n",
       "    </tr>\n",
       "    <tr>\n",
       "      <td>23</td>\n",
       "      <td>0.017019</td>\n",
       "      <td>0.024138</td>\n",
       "      <td>0.979882</td>\n",
       "      <td>00:00</td>\n",
       "    </tr>\n",
       "    <tr>\n",
       "      <td>24</td>\n",
       "      <td>0.016766</td>\n",
       "      <td>0.023776</td>\n",
       "      <td>0.981354</td>\n",
       "      <td>00:00</td>\n",
       "    </tr>\n",
       "    <tr>\n",
       "      <td>25</td>\n",
       "      <td>0.016528</td>\n",
       "      <td>0.023441</td>\n",
       "      <td>0.981354</td>\n",
       "      <td>00:00</td>\n",
       "    </tr>\n",
       "    <tr>\n",
       "      <td>26</td>\n",
       "      <td>0.016303</td>\n",
       "      <td>0.023130</td>\n",
       "      <td>0.981354</td>\n",
       "      <td>00:00</td>\n",
       "    </tr>\n",
       "    <tr>\n",
       "      <td>27</td>\n",
       "      <td>0.016091</td>\n",
       "      <td>0.022841</td>\n",
       "      <td>0.981354</td>\n",
       "      <td>00:00</td>\n",
       "    </tr>\n",
       "    <tr>\n",
       "      <td>28</td>\n",
       "      <td>0.015890</td>\n",
       "      <td>0.022572</td>\n",
       "      <td>0.981845</td>\n",
       "      <td>00:00</td>\n",
       "    </tr>\n",
       "    <tr>\n",
       "      <td>29</td>\n",
       "      <td>0.015700</td>\n",
       "      <td>0.022322</td>\n",
       "      <td>0.982336</td>\n",
       "      <td>00:00</td>\n",
       "    </tr>\n",
       "    <tr>\n",
       "      <td>30</td>\n",
       "      <td>0.015519</td>\n",
       "      <td>0.022088</td>\n",
       "      <td>0.982336</td>\n",
       "      <td>00:00</td>\n",
       "    </tr>\n",
       "    <tr>\n",
       "      <td>31</td>\n",
       "      <td>0.015347</td>\n",
       "      <td>0.021869</td>\n",
       "      <td>0.982826</td>\n",
       "      <td>00:00</td>\n",
       "    </tr>\n",
       "    <tr>\n",
       "      <td>32</td>\n",
       "      <td>0.015184</td>\n",
       "      <td>0.021665</td>\n",
       "      <td>0.982336</td>\n",
       "      <td>00:00</td>\n",
       "    </tr>\n",
       "    <tr>\n",
       "      <td>33</td>\n",
       "      <td>0.015027</td>\n",
       "      <td>0.021472</td>\n",
       "      <td>0.982826</td>\n",
       "      <td>00:00</td>\n",
       "    </tr>\n",
       "    <tr>\n",
       "      <td>34</td>\n",
       "      <td>0.014878</td>\n",
       "      <td>0.021291</td>\n",
       "      <td>0.982826</td>\n",
       "      <td>00:00</td>\n",
       "    </tr>\n",
       "    <tr>\n",
       "      <td>35</td>\n",
       "      <td>0.014735</td>\n",
       "      <td>0.021121</td>\n",
       "      <td>0.982826</td>\n",
       "      <td>00:00</td>\n",
       "    </tr>\n",
       "    <tr>\n",
       "      <td>36</td>\n",
       "      <td>0.014597</td>\n",
       "      <td>0.020960</td>\n",
       "      <td>0.982826</td>\n",
       "      <td>00:00</td>\n",
       "    </tr>\n",
       "    <tr>\n",
       "      <td>37</td>\n",
       "      <td>0.014465</td>\n",
       "      <td>0.020808</td>\n",
       "      <td>0.982826</td>\n",
       "      <td>00:00</td>\n",
       "    </tr>\n",
       "    <tr>\n",
       "      <td>38</td>\n",
       "      <td>0.014338</td>\n",
       "      <td>0.020664</td>\n",
       "      <td>0.982826</td>\n",
       "      <td>00:00</td>\n",
       "    </tr>\n",
       "    <tr>\n",
       "      <td>39</td>\n",
       "      <td>0.014215</td>\n",
       "      <td>0.020527</td>\n",
       "      <td>0.982336</td>\n",
       "      <td>00:00</td>\n",
       "    </tr>\n",
       "  </tbody>\n",
       "</table>"
      ],
      "text/plain": [
       "<IPython.core.display.HTML object>"
      ]
     },
     "metadata": {},
     "output_type": "display_data"
    }
   ],
   "source": [
    "learner = Learner(dataloaders, simple_net, opt_func=SGD, loss_func=mnist_loss, metrics=batch_accuracy)\n",
    "learner.fit(40, lr=0.1)"
   ]
  },
  {
   "cell_type": "code",
   "execution_count": 130,
   "metadata": {},
   "outputs": [
    {
     "data": {
      "text/plain": [
       "[<matplotlib.lines.Line2D at 0x7fa998eb7250>]"
      ]
     },
     "execution_count": 130,
     "metadata": {},
     "output_type": "execute_result"
    },
    {
     "data": {
      "image/png": "[encoded data removed]",
      "text/plain": [
       "<Figure size 432x288 with 1 Axes>"
      ]
     },
     "metadata": {
      "needs_background": "light"
     },
     "output_type": "display_data"
    }
   ],
   "source": [
    "plt.plot(L(learner.recorder.values).itemgot(2))"
   ]
  },
  {
   "cell_type": "code",
   "execution_count": 131,
   "metadata": {},
   "outputs": [
    {
     "data": {
      "text/plain": [
       "(#3) [0.014215338975191116,0.020526675507426262,0.98233562707901]"
      ]
     },
     "execution_count": 131,
     "metadata": {},
     "output_type": "execute_result"
    }
   ],
   "source": [
    "# recorder.values is a list of tuples: (train_loss, validation_loss, batch_accuracy)\n",
    "learner.recorder.values[-1]"
   ]
  },
  {
   "cell_type": "markdown",
   "metadata": {},
   "source": [
    "### Training using FastAI's Library"
   ]
  },
  {
   "cell_type": "code",
   "execution_count": 132,
   "metadata": {},
   "outputs": [
    {
     "name": "stderr",
     "output_type": "stream",
     "text": [
      "/opt/conda/envs/fastai/lib/python3.8/site-packages/torch/nn/functional.py:718: UserWarning: Named tensors and all their associated APIs are an experimental feature and subject to change. Please do not use them for anything important until they are released as stable. (Triggered internally at  /pytorch/c10/core/TensorImpl.h:1156.)\n",
      "  return torch.max_pool2d(input, kernel_size, stride, padding, dilation, ceil_mode)\n"
     ]
    },
    {
     "data": {
      "text/html": [
       "<table border=\"1\" class=\"dataframe\">\n",
       "  <thead>\n",
       "    <tr style=\"text-align: left;\">\n",
       "      <th>epoch</th>\n",
       "      <th>train_loss</th>\n",
       "      <th>valid_loss</th>\n",
       "      <th>accuracy</th>\n",
       "      <th>time</th>\n",
       "    </tr>\n",
       "  </thead>\n",
       "  <tbody>\n",
       "    <tr>\n",
       "      <td>0</td>\n",
       "      <td>0.197134</td>\n",
       "      <td>0.121204</td>\n",
       "      <td>0.964671</td>\n",
       "      <td>00:06</td>\n",
       "    </tr>\n",
       "  </tbody>\n",
       "</table>"
      ],
      "text/plain": [
       "<IPython.core.display.HTML object>"
      ]
     },
     "metadata": {},
     "output_type": "display_data"
    },
    {
     "data": {
      "text/html": [
       "<table border=\"1\" class=\"dataframe\">\n",
       "  <thead>\n",
       "    <tr style=\"text-align: left;\">\n",
       "      <th>epoch</th>\n",
       "      <th>train_loss</th>\n",
       "      <th>valid_loss</th>\n",
       "      <th>accuracy</th>\n",
       "      <th>time</th>\n",
       "    </tr>\n",
       "  </thead>\n",
       "  <tbody>\n",
       "    <tr>\n",
       "      <td>0</td>\n",
       "      <td>0.045037</td>\n",
       "      <td>0.030069</td>\n",
       "      <td>0.994603</td>\n",
       "      <td>00:08</td>\n",
       "    </tr>\n",
       "    <tr>\n",
       "      <td>1</td>\n",
       "      <td>0.016425</td>\n",
       "      <td>0.012880</td>\n",
       "      <td>0.996565</td>\n",
       "      <td>00:08</td>\n",
       "    </tr>\n",
       "    <tr>\n",
       "      <td>2</td>\n",
       "      <td>0.006049</td>\n",
       "      <td>0.007634</td>\n",
       "      <td>0.997547</td>\n",
       "      <td>00:08</td>\n",
       "    </tr>\n",
       "  </tbody>\n",
       "</table>"
      ],
      "text/plain": [
       "<IPython.core.display.HTML object>"
      ]
     },
     "metadata": {},
     "output_type": "display_data"
    }
   ],
   "source": [
    "dataloaders = ImageDataLoaders.from_folder(path)\n",
    "learner = cnn_learner(dataloaders, resnet18, pretrained=True, loss_func=F.cross_entropy, metrics=accuracy)\n",
    "learner.fine_tune(3, 1e-2)"
   ]
  },
  {
   "cell_type": "code",
   "execution_count": 133,
   "metadata": {},
   "outputs": [
    {
     "data": {
      "image/png": "[encoded data removed]",
      "text/plain": [
       "<Figure size 432x288 with 1 Axes>"
      ]
     },
     "metadata": {
      "needs_background": "light"
     },
     "output_type": "display_data"
    }
   ],
   "source": [
    "learner.recorder.plot_loss()"
   ]
  },
  {
   "cell_type": "code",
   "execution_count": 134,
   "metadata": {},
   "outputs": [
    {
     "name": "stdout",
     "output_type": "stream",
     "text": [
      "12352 193\n"
     ]
    }
   ],
   "source": [
    "# how many training samples and batches do we have?\n",
    "count = 0\n",
    "batches = 0\n",
    "for xb, yb in dataloaders.train:\n",
    "    count += xb.shape[0]\n",
    "    batches += 1\n",
    "print(count, batches)"
   ]
  },
  {
   "cell_type": "code",
   "execution_count": 135,
   "metadata": {},
   "outputs": [
    {
     "data": {
      "text/plain": [
       "(device(type='cuda', index=0), device(type='cuda', index=0))"
      ]
     },
     "execution_count": 135,
     "metadata": {},
     "output_type": "execute_result"
    }
   ],
   "source": [
    "xb, yb = dataloaders.train.one_batch()\n",
    "xb.shape, yb.shape\n",
    "xb.device, yb.device"
   ]
  },
  {
   "cell_type": "markdown",
   "metadata": {},
   "source": [
    "### Visualizing the Model's Architecture"
   ]
  },
  {
   "cell_type": "code",
   "execution_count": 136,
   "metadata": {},
   "outputs": [
    {
     "name": "stdout",
     "output_type": "stream",
     "text": [
      "Requirement already satisfied: hiddenlayer in /opt/conda/envs/fastai/lib/python3.8/site-packages (0.3)\n",
      "\u001b[33mWARNING: Running pip as the 'root' user can result in broken permissions and conflicting behaviour with the system package manager. It is recommended to use a virtual environment instead: https://pip.pypa.io/warnings/venv\u001b[0m\n",
      "\u001b[33mWARNING: You are using pip version 21.2.4; however, version 22.1.2 is available.\n",
      "You should consider upgrading via the '/opt/conda/envs/fastai/bin/python3.8 -m pip install --upgrade pip' command.\u001b[0m\n"
     ]
    }
   ],
   "source": [
    "!pip install hiddenlayer"
   ]
  },
  {
   "cell_type": "code",
   "execution_count": 137,
   "metadata": {},
   "outputs": [
    {
     "name": "stderr",
     "output_type": "stream",
     "text": [
      "/opt/conda/envs/fastai/lib/python3.8/site-packages/torch/onnx/symbolic_helper.py:712: UserWarning: ONNX export mode is set to inference mode, but operator batch_norm is set to inference mode. The model will be exported in inference, as specified by the export mode.\n",
      "  warnings.warn(\"ONNX export mode is set to \" + training_mode +\n",
      "/opt/conda/envs/fastai/lib/python3.8/site-packages/torch/onnx/symbolic_helper.py:712: UserWarning: ONNX export mode is set to inference mode, but operator dropout is set to inference mode. The model will be exported in inference, as specified by the export mode.\n",
      "  warnings.warn(\"ONNX export mode is set to \" + training_mode +\n"
     ]
    },
    {
     "data": {
      "image/svg+xml": [
       "<?xml version=\"1.0\" encoding=\"UTF-8\" standalone=\"no\"?>\n",
       "<!DOCTYPE svg PUBLIC \"-//W3C//DTD SVG 1.1//EN\"\n",
       " \"http://www.w3.org/Graphics/SVG/1.1/DTD/svg11.dtd\">\n",
       "<!-- Generated by graphviz version 2.42.3 (20191010.1750)\n",
       " -->\n",
       "<!-- Title: %3 Pages: 1 -->\n",
       "<svg width=\"6009pt\" height=\"216pt\"\n",
       " viewBox=\"0.00 0.00 6009.00 216.00\" xmlns=\"http://www.w3.org/2000/svg\" xmlns:xlink=\"http://www.w3.org/1999/xlink\">\n",
       "<g id=\"graph0\" class=\"graph\" transform=\"scale(1 1) rotate(0) translate(72 180)\">\n",
       "<title>%3</title>\n",
       "<polygon fill=\"#ffffff\" stroke=\"transparent\" points=\"-72,36 -72,-180 5937,-180 5937,36 -72,36\"/>\n",
       "<!-- /outputs/136 -->\n",
       "<g id=\"node1\" class=\"node\">\n",
       "<title>/outputs/136</title>\n",
       "<polygon fill=\"#e8e8e8\" stroke=\"#000000\" points=\"278,-63 202,-63 202,-27 278,-27 278,-63\"/>\n",
       "<text text-anchor=\"start\" x=\"210\" y=\"-42\" font-family=\"Times\" font-size=\"10.00\" fill=\"#000000\">MaxPool3x3</text>\n",
       "</g>\n",
       "<!-- /outputs/142 -->\n",
       "<g id=\"node2\" class=\"node\">\n",
       "<title>/outputs/142</title>\n",
       "<polygon fill=\"#e8e8e8\" stroke=\"#000000\" points=\"735,-63 681,-63 681,-27 735,-27 735,-63\"/>\n",
       "<text text-anchor=\"start\" x=\"699\" y=\"-42\" font-family=\"Times\" font-size=\"10.00\" fill=\"#000000\">Add</text>\n",
       "</g>\n",
       "<!-- /outputs/136&#45;&gt;/outputs/142 -->\n",
       "<g id=\"edge1\" class=\"edge\">\n",
       "<title>/outputs/136&#45;&gt;/outputs/142</title>\n",
       "<path fill=\"none\" stroke=\"#000000\" d=\"M278.12,-47.43C289.62,-48.07 302.33,-48.68 314,-49 461.06,-53.03 497.97,-53.74 645,-49 653.35,-48.73 662.33,-48.26 670.79,-47.73\"/>\n",
       "<polygon fill=\"#000000\" stroke=\"#000000\" points=\"671.03,-51.22 680.77,-47.07 670.56,-44.24 671.03,-51.22\"/>\n",
       "</g>\n",
       "<!-- 11105285438068160209 -->\n",
       "<g id=\"node37\" class=\"node\">\n",
       "<title>11105285438068160209</title>\n",
       "<polygon fill=\"#e8e8e8\" stroke=\"#000000\" points=\"480,-40 314,-40 314,-4 480,-4 480,-40\"/>\n",
       "<text text-anchor=\"start\" x=\"322\" y=\"-19\" font-family=\"Times\" font-size=\"10.00\" fill=\"#000000\">Conv3x3 &gt; BatchNorm &gt; Relu</text>\n",
       "</g>\n",
       "<!-- /outputs/136&#45;&gt;11105285438068160209 -->\n",
       "<g id=\"edge35\" class=\"edge\">\n",
       "<title>/outputs/136&#45;&gt;11105285438068160209</title>\n",
       "<path fill=\"none\" stroke=\"#000000\" d=\"M278.13,-39.49C286,-38.32 294.65,-37.04 303.56,-35.72\"/>\n",
       "<polygon fill=\"#000000\" stroke=\"#000000\" points=\"304.35,-39.14 313.72,-34.21 303.32,-32.21 304.35,-39.14\"/>\n",
       "</g>\n",
       "<!-- /outputs/143 -->\n",
       "<g id=\"node3\" class=\"node\">\n",
       "<title>/outputs/143</title>\n",
       "<polygon fill=\"#e8e8e8\" stroke=\"#000000\" points=\"825,-63 771,-63 771,-27 825,-27 825,-63\"/>\n",
       "<text text-anchor=\"start\" x=\"787\" y=\"-42\" font-family=\"Times\" font-size=\"10.00\" fill=\"#000000\">Relu</text>\n",
       "</g>\n",
       "<!-- /outputs/142&#45;&gt;/outputs/143 -->\n",
       "<g id=\"edge2\" class=\"edge\">\n",
       "<title>/outputs/142&#45;&gt;/outputs/143</title>\n",
       "<path fill=\"none\" stroke=\"#000000\" d=\"M735.4,-45C743.39,-45 752.31,-45 760.82,-45\"/>\n",
       "<polygon fill=\"#000000\" stroke=\"#000000\" points=\"760.92,-48.5 770.92,-45 760.92,-41.5 760.92,-48.5\"/>\n",
       "</g>\n",
       "<!-- /outputs/149 -->\n",
       "<g id=\"node4\" class=\"node\">\n",
       "<title>/outputs/149</title>\n",
       "<polygon fill=\"#e8e8e8\" stroke=\"#000000\" points=\"1282,-63 1228,-63 1228,-27 1282,-27 1282,-63\"/>\n",
       "<text text-anchor=\"start\" x=\"1246\" y=\"-42\" font-family=\"Times\" font-size=\"10.00\" fill=\"#000000\">Add</text>\n",
       "</g>\n",
       "<!-- /outputs/143&#45;&gt;/outputs/149 -->\n",
       "<g id=\"edge3\" class=\"edge\">\n",
       "<title>/outputs/143&#45;&gt;/outputs/149</title>\n",
       "<path fill=\"none\" stroke=\"#000000\" d=\"M825.23,-47.07C836.26,-47.84 849.25,-48.62 861,-49 1008.03,-53.74 1044.97,-53.74 1192,-49 1200.35,-48.73 1209.33,-48.26 1217.79,-47.73\"/>\n",
       "<polygon fill=\"#000000\" stroke=\"#000000\" points=\"1218.03,-51.22 1227.77,-47.07 1217.56,-44.24 1218.03,-51.22\"/>\n",
       "</g>\n",
       "<!-- 10353144037217341363 -->\n",
       "<g id=\"node38\" class=\"node\">\n",
       "<title>10353144037217341363</title>\n",
       "<polygon fill=\"#e8e8e8\" stroke=\"#000000\" points=\"1027,-40 861,-40 861,-4 1027,-4 1027,-40\"/>\n",
       "<text text-anchor=\"start\" x=\"869\" y=\"-19\" font-family=\"Times\" font-size=\"10.00\" fill=\"#000000\">Conv3x3 &gt; BatchNorm &gt; Relu</text>\n",
       "</g>\n",
       "<!-- /outputs/143&#45;&gt;10353144037217341363 -->\n",
       "<g id=\"edge36\" class=\"edge\">\n",
       "<title>/outputs/143&#45;&gt;10353144037217341363</title>\n",
       "<path fill=\"none\" stroke=\"#000000\" d=\"M825.08,-40.83C832.64,-39.63 841.35,-38.24 850.56,-36.76\"/>\n",
       "<polygon fill=\"#000000\" stroke=\"#000000\" points=\"851.38,-40.18 860.7,-35.14 850.28,-33.27 851.38,-40.18\"/>\n",
       "</g>\n",
       "<!-- /outputs/150 -->\n",
       "<g id=\"node5\" class=\"node\">\n",
       "<title>/outputs/150</title>\n",
       "<polygon fill=\"#e8e8e8\" stroke=\"#000000\" points=\"1372,-63 1318,-63 1318,-27 1372,-27 1372,-63\"/>\n",
       "<text text-anchor=\"start\" x=\"1334\" y=\"-42\" font-family=\"Times\" font-size=\"10.00\" fill=\"#000000\">Relu</text>\n",
       "</g>\n",
       "<!-- /outputs/149&#45;&gt;/outputs/150 -->\n",
       "<g id=\"edge4\" class=\"edge\">\n",
       "<title>/outputs/149&#45;&gt;/outputs/150</title>\n",
       "<path fill=\"none\" stroke=\"#000000\" d=\"M1282.4,-45C1290.39,-45 1299.31,-45 1307.82,-45\"/>\n",
       "<polygon fill=\"#000000\" stroke=\"#000000\" points=\"1307.92,-48.5 1317.92,-45 1307.92,-41.5 1307.92,-48.5\"/>\n",
       "</g>\n",
       "<!-- 13208230535885162025 -->\n",
       "<g id=\"node39\" class=\"node\">\n",
       "<title>13208230535885162025</title>\n",
       "<polygon fill=\"#e8e8e8\" stroke=\"#000000\" points=\"1574,-88 1408,-88 1408,-52 1574,-52 1574,-88\"/>\n",
       "<text text-anchor=\"start\" x=\"1416\" y=\"-67\" font-family=\"Times\" font-size=\"10.00\" fill=\"#000000\">Conv3x3 &gt; BatchNorm &gt; Relu</text>\n",
       "</g>\n",
       "<!-- /outputs/150&#45;&gt;13208230535885162025 -->\n",
       "<g id=\"edge37\" class=\"edge\">\n",
       "<title>/outputs/150&#45;&gt;13208230535885162025</title>\n",
       "<path fill=\"none\" stroke=\"#000000\" d=\"M1372.08,-49.53C1379.64,-50.84 1388.35,-52.35 1397.56,-53.95\"/>\n",
       "<polygon fill=\"#000000\" stroke=\"#000000\" points=\"1397.25,-57.45 1407.7,-55.71 1398.45,-50.55 1397.25,-57.45\"/>\n",
       "</g>\n",
       "<!-- 5125821543982213238 -->\n",
       "<g id=\"node48\" class=\"node\">\n",
       "<title>5125821543982213238</title>\n",
       "<polygon fill=\"#e8e8e8\" stroke=\"#000000\" points=\"1739,-36 1610,-36 1610,0 1739,0 1739,-36\"/>\n",
       "<text text-anchor=\"start\" x=\"1618.5\" y=\"-15\" font-family=\"Times\" font-size=\"10.00\" fill=\"#000000\">Conv1x1 &gt; BatchNorm</text>\n",
       "</g>\n",
       "<!-- /outputs/150&#45;&gt;5125821543982213238 -->\n",
       "<g id=\"edge49\" class=\"edge\">\n",
       "<title>/outputs/150&#45;&gt;5125821543982213238</title>\n",
       "<path fill=\"none\" stroke=\"#000000\" d=\"M1372.25,-42.84C1421.1,-38.81 1527.58,-30.03 1599.93,-24.07\"/>\n",
       "<polygon fill=\"#000000\" stroke=\"#000000\" points=\"1600.23,-27.55 1609.9,-23.24 1599.65,-20.58 1600.23,-27.55\"/>\n",
       "</g>\n",
       "<!-- /outputs/158 -->\n",
       "<g id=\"node6\" class=\"node\">\n",
       "<title>/outputs/158</title>\n",
       "<polygon fill=\"#e8e8e8\" stroke=\"#000000\" points=\"1829,-63 1775,-63 1775,-27 1829,-27 1829,-63\"/>\n",
       "<text text-anchor=\"start\" x=\"1793\" y=\"-42\" font-family=\"Times\" font-size=\"10.00\" fill=\"#000000\">Add</text>\n",
       "</g>\n",
       "<!-- /outputs/159 -->\n",
       "<g id=\"node7\" class=\"node\">\n",
       "<title>/outputs/159</title>\n",
       "<polygon fill=\"#e8e8e8\" stroke=\"#000000\" points=\"1919,-63 1865,-63 1865,-27 1919,-27 1919,-63\"/>\n",
       "<text text-anchor=\"start\" x=\"1881\" y=\"-42\" font-family=\"Times\" font-size=\"10.00\" fill=\"#000000\">Relu</text>\n",
       "</g>\n",
       "<!-- /outputs/158&#45;&gt;/outputs/159 -->\n",
       "<g id=\"edge5\" class=\"edge\">\n",
       "<title>/outputs/158&#45;&gt;/outputs/159</title>\n",
       "<path fill=\"none\" stroke=\"#000000\" d=\"M1829.4,-45C1837.39,-45 1846.31,-45 1854.82,-45\"/>\n",
       "<polygon fill=\"#000000\" stroke=\"#000000\" points=\"1854.92,-48.5 1864.92,-45 1854.92,-41.5 1854.92,-48.5\"/>\n",
       "</g>\n",
       "<!-- /outputs/165 -->\n",
       "<g id=\"node8\" class=\"node\">\n",
       "<title>/outputs/165</title>\n",
       "<polygon fill=\"#e8e8e8\" stroke=\"#000000\" points=\"2376,-63 2322,-63 2322,-27 2376,-27 2376,-63\"/>\n",
       "<text text-anchor=\"start\" x=\"2340\" y=\"-42\" font-family=\"Times\" font-size=\"10.00\" fill=\"#000000\">Add</text>\n",
       "</g>\n",
       "<!-- /outputs/159&#45;&gt;/outputs/165 -->\n",
       "<g id=\"edge6\" class=\"edge\">\n",
       "<title>/outputs/159&#45;&gt;/outputs/165</title>\n",
       "<path fill=\"none\" stroke=\"#000000\" d=\"M1919.23,-47.07C1930.26,-47.84 1943.25,-48.62 1955,-49 2102.03,-53.74 2138.97,-53.74 2286,-49 2294.35,-48.73 2303.33,-48.26 2311.79,-47.73\"/>\n",
       "<polygon fill=\"#000000\" stroke=\"#000000\" points=\"2312.03,-51.22 2321.77,-47.07 2311.56,-44.24 2312.03,-51.22\"/>\n",
       "</g>\n",
       "<!-- 12937162279754847113 -->\n",
       "<g id=\"node40\" class=\"node\">\n",
       "<title>12937162279754847113</title>\n",
       "<polygon fill=\"#e8e8e8\" stroke=\"#000000\" points=\"2121,-40 1955,-40 1955,-4 2121,-4 2121,-40\"/>\n",
       "<text text-anchor=\"start\" x=\"1963\" y=\"-19\" font-family=\"Times\" font-size=\"10.00\" fill=\"#000000\">Conv3x3 &gt; BatchNorm &gt; Relu</text>\n",
       "</g>\n",
       "<!-- /outputs/159&#45;&gt;12937162279754847113 -->\n",
       "<g id=\"edge38\" class=\"edge\">\n",
       "<title>/outputs/159&#45;&gt;12937162279754847113</title>\n",
       "<path fill=\"none\" stroke=\"#000000\" d=\"M1919.08,-40.83C1926.64,-39.63 1935.35,-38.24 1944.56,-36.76\"/>\n",
       "<polygon fill=\"#000000\" stroke=\"#000000\" points=\"1945.38,-40.18 1954.7,-35.14 1944.28,-33.27 1945.38,-40.18\"/>\n",
       "</g>\n",
       "<!-- /outputs/166 -->\n",
       "<g id=\"node9\" class=\"node\">\n",
       "<title>/outputs/166</title>\n",
       "<polygon fill=\"#e8e8e8\" stroke=\"#000000\" points=\"2466,-63 2412,-63 2412,-27 2466,-27 2466,-63\"/>\n",
       "<text text-anchor=\"start\" x=\"2428\" y=\"-42\" font-family=\"Times\" font-size=\"10.00\" fill=\"#000000\">Relu</text>\n",
       "</g>\n",
       "<!-- /outputs/165&#45;&gt;/outputs/166 -->\n",
       "<g id=\"edge7\" class=\"edge\">\n",
       "<title>/outputs/165&#45;&gt;/outputs/166</title>\n",
       "<path fill=\"none\" stroke=\"#000000\" d=\"M2376.4,-45C2384.39,-45 2393.31,-45 2401.82,-45\"/>\n",
       "<polygon fill=\"#000000\" stroke=\"#000000\" points=\"2401.92,-48.5 2411.92,-45 2401.92,-41.5 2401.92,-48.5\"/>\n",
       "</g>\n",
       "<!-- 7738774760351418614 -->\n",
       "<g id=\"node41\" class=\"node\">\n",
       "<title>7738774760351418614</title>\n",
       "<polygon fill=\"#e8e8e8\" stroke=\"#000000\" points=\"2668,-88 2502,-88 2502,-52 2668,-52 2668,-88\"/>\n",
       "<text text-anchor=\"start\" x=\"2510\" y=\"-67\" font-family=\"Times\" font-size=\"10.00\" fill=\"#000000\">Conv3x3 &gt; BatchNorm &gt; Relu</text>\n",
       "</g>\n",
       "<!-- /outputs/166&#45;&gt;7738774760351418614 -->\n",
       "<g id=\"edge39\" class=\"edge\">\n",
       "<title>/outputs/166&#45;&gt;7738774760351418614</title>\n",
       "<path fill=\"none\" stroke=\"#000000\" d=\"M2466.08,-49.53C2473.64,-50.84 2482.35,-52.35 2491.56,-53.95\"/>\n",
       "<polygon fill=\"#000000\" stroke=\"#000000\" points=\"2491.25,-57.45 2501.7,-55.71 2492.45,-50.55 2491.25,-57.45\"/>\n",
       "</g>\n",
       "<!-- 1885446857198079865 -->\n",
       "<g id=\"node51\" class=\"node\">\n",
       "<title>1885446857198079865</title>\n",
       "<polygon fill=\"#e8e8e8\" stroke=\"#000000\" points=\"2833,-36 2704,-36 2704,0 2833,0 2833,-36\"/>\n",
       "<text text-anchor=\"start\" x=\"2712.5\" y=\"-15\" font-family=\"Times\" font-size=\"10.00\" fill=\"#000000\">Conv1x1 &gt; BatchNorm</text>\n",
       "</g>\n",
       "<!-- /outputs/166&#45;&gt;1885446857198079865 -->\n",
       "<g id=\"edge55\" class=\"edge\">\n",
       "<title>/outputs/166&#45;&gt;1885446857198079865</title>\n",
       "<path fill=\"none\" stroke=\"#000000\" d=\"M2466.25,-42.84C2515.1,-38.81 2621.58,-30.03 2693.93,-24.07\"/>\n",
       "<polygon fill=\"#000000\" stroke=\"#000000\" points=\"2694.23,-27.55 2703.9,-23.24 2693.65,-20.58 2694.23,-27.55\"/>\n",
       "</g>\n",
       "<!-- /outputs/174 -->\n",
       "<g id=\"node10\" class=\"node\">\n",
       "<title>/outputs/174</title>\n",
       "<polygon fill=\"#e8e8e8\" stroke=\"#000000\" points=\"2923,-63 2869,-63 2869,-27 2923,-27 2923,-63\"/>\n",
       "<text text-anchor=\"start\" x=\"2887\" y=\"-42\" font-family=\"Times\" font-size=\"10.00\" fill=\"#000000\">Add</text>\n",
       "</g>\n",
       "<!-- /outputs/175 -->\n",
       "<g id=\"node11\" class=\"node\">\n",
       "<title>/outputs/175</title>\n",
       "<polygon fill=\"#e8e8e8\" stroke=\"#000000\" points=\"3013,-63 2959,-63 2959,-27 3013,-27 3013,-63\"/>\n",
       "<text text-anchor=\"start\" x=\"2975\" y=\"-42\" font-family=\"Times\" font-size=\"10.00\" fill=\"#000000\">Relu</text>\n",
       "</g>\n",
       "<!-- /outputs/174&#45;&gt;/outputs/175 -->\n",
       "<g id=\"edge8\" class=\"edge\">\n",
       "<title>/outputs/174&#45;&gt;/outputs/175</title>\n",
       "<path fill=\"none\" stroke=\"#000000\" d=\"M2923.4,-45C2931.39,-45 2940.31,-45 2948.82,-45\"/>\n",
       "<polygon fill=\"#000000\" stroke=\"#000000\" points=\"2948.92,-48.5 2958.92,-45 2948.92,-41.5 2948.92,-48.5\"/>\n",
       "</g>\n",
       "<!-- /outputs/181 -->\n",
       "<g id=\"node12\" class=\"node\">\n",
       "<title>/outputs/181</title>\n",
       "<polygon fill=\"#e8e8e8\" stroke=\"#000000\" points=\"3470,-63 3416,-63 3416,-27 3470,-27 3470,-63\"/>\n",
       "<text text-anchor=\"start\" x=\"3434\" y=\"-42\" font-family=\"Times\" font-size=\"10.00\" fill=\"#000000\">Add</text>\n",
       "</g>\n",
       "<!-- /outputs/175&#45;&gt;/outputs/181 -->\n",
       "<g id=\"edge9\" class=\"edge\">\n",
       "<title>/outputs/175&#45;&gt;/outputs/181</title>\n",
       "<path fill=\"none\" stroke=\"#000000\" d=\"M3013.23,-47.07C3024.26,-47.84 3037.25,-48.62 3049,-49 3196.03,-53.74 3232.97,-53.74 3380,-49 3388.35,-48.73 3397.33,-48.26 3405.79,-47.73\"/>\n",
       "<polygon fill=\"#000000\" stroke=\"#000000\" points=\"3406.03,-51.22 3415.77,-47.07 3405.56,-44.24 3406.03,-51.22\"/>\n",
       "</g>\n",
       "<!-- 8286444275301796832 -->\n",
       "<g id=\"node42\" class=\"node\">\n",
       "<title>8286444275301796832</title>\n",
       "<polygon fill=\"#e8e8e8\" stroke=\"#000000\" points=\"3215,-40 3049,-40 3049,-4 3215,-4 3215,-40\"/>\n",
       "<text text-anchor=\"start\" x=\"3057\" y=\"-19\" font-family=\"Times\" font-size=\"10.00\" fill=\"#000000\">Conv3x3 &gt; BatchNorm &gt; Relu</text>\n",
       "</g>\n",
       "<!-- /outputs/175&#45;&gt;8286444275301796832 -->\n",
       "<g id=\"edge40\" class=\"edge\">\n",
       "<title>/outputs/175&#45;&gt;8286444275301796832</title>\n",
       "<path fill=\"none\" stroke=\"#000000\" d=\"M3013.08,-40.83C3020.64,-39.63 3029.35,-38.24 3038.56,-36.76\"/>\n",
       "<polygon fill=\"#000000\" stroke=\"#000000\" points=\"3039.38,-40.18 3048.7,-35.14 3038.28,-33.27 3039.38,-40.18\"/>\n",
       "</g>\n",
       "<!-- /outputs/182 -->\n",
       "<g id=\"node13\" class=\"node\">\n",
       "<title>/outputs/182</title>\n",
       "<polygon fill=\"#e8e8e8\" stroke=\"#000000\" points=\"3560,-63 3506,-63 3506,-27 3560,-27 3560,-63\"/>\n",
       "<text text-anchor=\"start\" x=\"3522\" y=\"-42\" font-family=\"Times\" font-size=\"10.00\" fill=\"#000000\">Relu</text>\n",
       "</g>\n",
       "<!-- /outputs/181&#45;&gt;/outputs/182 -->\n",
       "<g id=\"edge10\" class=\"edge\">\n",
       "<title>/outputs/181&#45;&gt;/outputs/182</title>\n",
       "<path fill=\"none\" stroke=\"#000000\" d=\"M3470.4,-45C3478.39,-45 3487.31,-45 3495.82,-45\"/>\n",
       "<polygon fill=\"#000000\" stroke=\"#000000\" points=\"3495.92,-48.5 3505.92,-45 3495.92,-41.5 3495.92,-48.5\"/>\n",
       "</g>\n",
       "<!-- 5131712758418120108 -->\n",
       "<g id=\"node43\" class=\"node\">\n",
       "<title>5131712758418120108</title>\n",
       "<polygon fill=\"#e8e8e8\" stroke=\"#000000\" points=\"3762,-88 3596,-88 3596,-52 3762,-52 3762,-88\"/>\n",
       "<text text-anchor=\"start\" x=\"3604\" y=\"-67\" font-family=\"Times\" font-size=\"10.00\" fill=\"#000000\">Conv3x3 &gt; BatchNorm &gt; Relu</text>\n",
       "</g>\n",
       "<!-- /outputs/182&#45;&gt;5131712758418120108 -->\n",
       "<g id=\"edge41\" class=\"edge\">\n",
       "<title>/outputs/182&#45;&gt;5131712758418120108</title>\n",
       "<path fill=\"none\" stroke=\"#000000\" d=\"M3560.08,-49.53C3567.64,-50.84 3576.35,-52.35 3585.56,-53.95\"/>\n",
       "<polygon fill=\"#000000\" stroke=\"#000000\" points=\"3585.25,-57.45 3595.7,-55.71 3586.45,-50.55 3585.25,-57.45\"/>\n",
       "</g>\n",
       "<!-- 6344863178936378387 -->\n",
       "<g id=\"node54\" class=\"node\">\n",
       "<title>6344863178936378387</title>\n",
       "<polygon fill=\"#e8e8e8\" stroke=\"#000000\" points=\"3927,-36 3798,-36 3798,0 3927,0 3927,-36\"/>\n",
       "<text text-anchor=\"start\" x=\"3806.5\" y=\"-15\" font-family=\"Times\" font-size=\"10.00\" fill=\"#000000\">Conv1x1 &gt; BatchNorm</text>\n",
       "</g>\n",
       "<!-- /outputs/182&#45;&gt;6344863178936378387 -->\n",
       "<g id=\"edge61\" class=\"edge\">\n",
       "<title>/outputs/182&#45;&gt;6344863178936378387</title>\n",
       "<path fill=\"none\" stroke=\"#000000\" d=\"M3560.25,-42.84C3609.1,-38.81 3715.58,-30.03 3787.93,-24.07\"/>\n",
       "<polygon fill=\"#000000\" stroke=\"#000000\" points=\"3788.23,-27.55 3797.9,-23.24 3787.65,-20.58 3788.23,-27.55\"/>\n",
       "</g>\n",
       "<!-- /outputs/190 -->\n",
       "<g id=\"node14\" class=\"node\">\n",
       "<title>/outputs/190</title>\n",
       "<polygon fill=\"#e8e8e8\" stroke=\"#000000\" points=\"4017,-63 3963,-63 3963,-27 4017,-27 4017,-63\"/>\n",
       "<text text-anchor=\"start\" x=\"3981\" y=\"-42\" font-family=\"Times\" font-size=\"10.00\" fill=\"#000000\">Add</text>\n",
       "</g>\n",
       "<!-- /outputs/191 -->\n",
       "<g id=\"node15\" class=\"node\">\n",
       "<title>/outputs/191</title>\n",
       "<polygon fill=\"#e8e8e8\" stroke=\"#000000\" points=\"4107,-63 4053,-63 4053,-27 4107,-27 4107,-63\"/>\n",
       "<text text-anchor=\"start\" x=\"4069\" y=\"-42\" font-family=\"Times\" font-size=\"10.00\" fill=\"#000000\">Relu</text>\n",
       "</g>\n",
       "<!-- /outputs/190&#45;&gt;/outputs/191 -->\n",
       "<g id=\"edge11\" class=\"edge\">\n",
       "<title>/outputs/190&#45;&gt;/outputs/191</title>\n",
       "<path fill=\"none\" stroke=\"#000000\" d=\"M4017.4,-45C4025.39,-45 4034.31,-45 4042.82,-45\"/>\n",
       "<polygon fill=\"#000000\" stroke=\"#000000\" points=\"4042.92,-48.5 4052.92,-45 4042.92,-41.5 4042.92,-48.5\"/>\n",
       "</g>\n",
       "<!-- /outputs/197 -->\n",
       "<g id=\"node16\" class=\"node\">\n",
       "<title>/outputs/197</title>\n",
       "<polygon fill=\"#e8e8e8\" stroke=\"#000000\" points=\"4564,-63 4510,-63 4510,-27 4564,-27 4564,-63\"/>\n",
       "<text text-anchor=\"start\" x=\"4528\" y=\"-42\" font-family=\"Times\" font-size=\"10.00\" fill=\"#000000\">Add</text>\n",
       "</g>\n",
       "<!-- /outputs/191&#45;&gt;/outputs/197 -->\n",
       "<g id=\"edge12\" class=\"edge\">\n",
       "<title>/outputs/191&#45;&gt;/outputs/197</title>\n",
       "<path fill=\"none\" stroke=\"#000000\" d=\"M4107.23,-47.07C4118.26,-47.84 4131.25,-48.62 4143,-49 4290.03,-53.74 4326.97,-53.74 4474,-49 4482.35,-48.73 4491.33,-48.26 4499.79,-47.73\"/>\n",
       "<polygon fill=\"#000000\" stroke=\"#000000\" points=\"4500.03,-51.22 4509.77,-47.07 4499.56,-44.24 4500.03,-51.22\"/>\n",
       "</g>\n",
       "<!-- 16035760590688802187 -->\n",
       "<g id=\"node44\" class=\"node\">\n",
       "<title>16035760590688802187</title>\n",
       "<polygon fill=\"#e8e8e8\" stroke=\"#000000\" points=\"4309,-40 4143,-40 4143,-4 4309,-4 4309,-40\"/>\n",
       "<text text-anchor=\"start\" x=\"4151\" y=\"-19\" font-family=\"Times\" font-size=\"10.00\" fill=\"#000000\">Conv3x3 &gt; BatchNorm &gt; Relu</text>\n",
       "</g>\n",
       "<!-- /outputs/191&#45;&gt;16035760590688802187 -->\n",
       "<g id=\"edge42\" class=\"edge\">\n",
       "<title>/outputs/191&#45;&gt;16035760590688802187</title>\n",
       "<path fill=\"none\" stroke=\"#000000\" d=\"M4107.08,-40.83C4114.64,-39.63 4123.35,-38.24 4132.56,-36.76\"/>\n",
       "<polygon fill=\"#000000\" stroke=\"#000000\" points=\"4133.38,-40.18 4142.7,-35.14 4132.28,-33.27 4133.38,-40.18\"/>\n",
       "</g>\n",
       "<!-- /outputs/198 -->\n",
       "<g id=\"node17\" class=\"node\">\n",
       "<title>/outputs/198</title>\n",
       "<polygon fill=\"#e8e8e8\" stroke=\"#000000\" points=\"4654,-63 4600,-63 4600,-27 4654,-27 4654,-63\"/>\n",
       "<text text-anchor=\"start\" x=\"4616\" y=\"-42\" font-family=\"Times\" font-size=\"10.00\" fill=\"#000000\">Relu</text>\n",
       "</g>\n",
       "<!-- /outputs/197&#45;&gt;/outputs/198 -->\n",
       "<g id=\"edge13\" class=\"edge\">\n",
       "<title>/outputs/197&#45;&gt;/outputs/198</title>\n",
       "<path fill=\"none\" stroke=\"#000000\" d=\"M4564.4,-45C4572.39,-45 4581.31,-45 4589.82,-45\"/>\n",
       "<polygon fill=\"#000000\" stroke=\"#000000\" points=\"4589.92,-48.5 4599.92,-45 4589.92,-41.5 4589.92,-48.5\"/>\n",
       "</g>\n",
       "<!-- /outputs/199 -->\n",
       "<g id=\"node18\" class=\"node\">\n",
       "<title>/outputs/199</title>\n",
       "<polygon fill=\"#e8e8e8\" stroke=\"#000000\" points=\"4782.5,-90 4706.5,-90 4706.5,-54 4782.5,-54 4782.5,-90\"/>\n",
       "<text text-anchor=\"start\" x=\"4714.5\" y=\"-69\" font-family=\"Times\" font-size=\"10.00\" fill=\"#000000\">MaxPool1x1</text>\n",
       "</g>\n",
       "<!-- /outputs/198&#45;&gt;/outputs/199 -->\n",
       "<g id=\"edge14\" class=\"edge\">\n",
       "<title>/outputs/198&#45;&gt;/outputs/199</title>\n",
       "<path fill=\"none\" stroke=\"#000000\" d=\"M4654.21,-51.13C4666.75,-54.06 4682.17,-57.66 4696.63,-61.04\"/>\n",
       "<polygon fill=\"#000000\" stroke=\"#000000\" points=\"4695.91,-64.47 4706.45,-63.34 4697.51,-57.65 4695.91,-64.47\"/>\n",
       "</g>\n",
       "<!-- /outputs/200 -->\n",
       "<g id=\"node19\" class=\"node\">\n",
       "<title>/outputs/200</title>\n",
       "<polygon fill=\"#e8e8e8\" stroke=\"#000000\" points=\"4799,-36 4690,-36 4690,0 4799,0 4799,-36\"/>\n",
       "<text text-anchor=\"start\" x=\"4698.5\" y=\"-15\" font-family=\"Times\" font-size=\"10.00\" fill=\"#000000\">GlobalAveragePool</text>\n",
       "</g>\n",
       "<!-- /outputs/198&#45;&gt;/outputs/200 -->\n",
       "<g id=\"edge15\" class=\"edge\">\n",
       "<title>/outputs/198&#45;&gt;/outputs/200</title>\n",
       "<path fill=\"none\" stroke=\"#000000\" d=\"M4654.21,-38.87C4661.93,-37.07 4670.74,-35.01 4679.74,-32.9\"/>\n",
       "<polygon fill=\"#000000\" stroke=\"#000000\" points=\"4680.61,-36.3 4689.55,-30.61 4679.02,-29.48 4680.61,-36.3\"/>\n",
       "</g>\n",
       "<!-- /outputs/201 -->\n",
       "<g id=\"node20\" class=\"node\">\n",
       "<title>/outputs/201</title>\n",
       "<polygon fill=\"#e8e8e8\" stroke=\"#000000\" points=\"4889,-63 4835,-63 4835,-27 4889,-27 4889,-63\"/>\n",
       "<text text-anchor=\"start\" x=\"4845\" y=\"-42\" font-family=\"Times\" font-size=\"10.00\" fill=\"#000000\">Concat</text>\n",
       "</g>\n",
       "<!-- /outputs/199&#45;&gt;/outputs/201 -->\n",
       "<g id=\"edge16\" class=\"edge\">\n",
       "<title>/outputs/199&#45;&gt;/outputs/201</title>\n",
       "<path fill=\"none\" stroke=\"#000000\" d=\"M4782.68,-63.31C4796.24,-60.14 4811.54,-56.56 4824.99,-53.42\"/>\n",
       "<polygon fill=\"#000000\" stroke=\"#000000\" points=\"4825.92,-56.79 4834.86,-51.11 4824.33,-49.98 4825.92,-56.79\"/>\n",
       "</g>\n",
       "<!-- /outputs/200&#45;&gt;/outputs/201 -->\n",
       "<g id=\"edge17\" class=\"edge\">\n",
       "<title>/outputs/200&#45;&gt;/outputs/201</title>\n",
       "<path fill=\"none\" stroke=\"#000000\" d=\"M4799.19,-30.55C4807.89,-32.58 4816.71,-34.65 4824.86,-36.55\"/>\n",
       "<polygon fill=\"#000000\" stroke=\"#000000\" points=\"4824.23,-40 4834.77,-38.87 4825.83,-33.18 4824.23,-40\"/>\n",
       "</g>\n",
       "<!-- /outputs/202 -->\n",
       "<g id=\"node21\" class=\"node\">\n",
       "<title>/outputs/202</title>\n",
       "<polygon fill=\"#e8e8e8\" stroke=\"#000000\" points=\"4982.5,-86 4928.5,-86 4928.5,-50 4982.5,-50 4982.5,-86\"/>\n",
       "<text text-anchor=\"start\" x=\"4940.5\" y=\"-65\" font-family=\"Times\" font-size=\"10.00\" fill=\"#000000\">Shape</text>\n",
       "</g>\n",
       "<!-- /outputs/201&#45;&gt;/outputs/202 -->\n",
       "<g id=\"edge18\" class=\"edge\">\n",
       "<title>/outputs/201&#45;&gt;/outputs/202</title>\n",
       "<path fill=\"none\" stroke=\"#000000\" d=\"M4889.47,-51.65C4898.55,-53.94 4908.88,-56.53 4918.59,-58.97\"/>\n",
       "<polygon fill=\"#000000\" stroke=\"#000000\" points=\"4917.86,-62.4 4928.41,-61.44 4919.56,-55.61 4917.86,-62.4\"/>\n",
       "</g>\n",
       "<!-- /outputs/209 -->\n",
       "<g id=\"node28\" class=\"node\">\n",
       "<title>/outputs/209</title>\n",
       "<polygon fill=\"#e8e8e8\" stroke=\"#000000\" points=\"5375,-63 5316,-63 5316,-27 5375,-27 5375,-63\"/>\n",
       "<text text-anchor=\"start\" x=\"5324.5\" y=\"-42\" font-family=\"Times\" font-size=\"10.00\" fill=\"#000000\">Reshape</text>\n",
       "</g>\n",
       "<!-- /outputs/201&#45;&gt;/outputs/209 -->\n",
       "<g id=\"edge19\" class=\"edge\">\n",
       "<title>/outputs/201&#45;&gt;/outputs/209</title>\n",
       "<path fill=\"none\" stroke=\"#000000\" d=\"M4889.1,-39.78C4925.37,-32.99 4993.15,-22 5051.5,-22 5051.5,-22 5051.5,-22 5155.5,-22 5207.77,-22 5267.58,-30.78 5305.67,-37.49\"/>\n",
       "<polygon fill=\"#000000\" stroke=\"#000000\" points=\"5305.35,-40.98 5315.81,-39.31 5306.59,-34.1 5305.35,-40.98\"/>\n",
       "</g>\n",
       "<!-- /outputs/204 -->\n",
       "<g id=\"node23\" class=\"node\">\n",
       "<title>/outputs/204</title>\n",
       "<polygon fill=\"#e8e8e8\" stroke=\"#000000\" points=\"5079.5,-86 5025.5,-86 5025.5,-50 5079.5,-50 5079.5,-86\"/>\n",
       "<text text-anchor=\"start\" x=\"5035.5\" y=\"-65\" font-family=\"Times\" font-size=\"10.00\" fill=\"#000000\">Gather</text>\n",
       "</g>\n",
       "<!-- /outputs/202&#45;&gt;/outputs/204 -->\n",
       "<g id=\"edge20\" class=\"edge\">\n",
       "<title>/outputs/202&#45;&gt;/outputs/204</title>\n",
       "<path fill=\"none\" stroke=\"#000000\" d=\"M4982.71,-68C4992.78,-68 5004.46,-68 5015.31,-68\"/>\n",
       "<polygon fill=\"#000000\" stroke=\"#000000\" points=\"5015.37,-71.5 5025.37,-68 5015.37,-64.5 5015.37,-71.5\"/>\n",
       "</g>\n",
       "<!-- /outputs/203 -->\n",
       "<g id=\"node22\" class=\"node\">\n",
       "<title>/outputs/203</title>\n",
       "<polygon fill=\"#e8e8e8\" stroke=\"#000000\" points=\"4986,-140 4925,-140 4925,-104 4986,-104 4986,-140\"/>\n",
       "<text text-anchor=\"start\" x=\"4933.5\" y=\"-119\" font-family=\"Times\" font-size=\"10.00\" fill=\"#000000\">Constant</text>\n",
       "</g>\n",
       "<!-- /outputs/203&#45;&gt;/outputs/204 -->\n",
       "<g id=\"edge21\" class=\"edge\">\n",
       "<title>/outputs/203&#45;&gt;/outputs/204</title>\n",
       "<path fill=\"none\" stroke=\"#000000\" d=\"M4986.04,-105.21C4995.63,-99.76 5006.37,-93.65 5016.33,-87.99\"/>\n",
       "<polygon fill=\"#000000\" stroke=\"#000000\" points=\"5018.24,-90.93 5025.2,-82.95 5014.78,-84.85 5018.24,-90.93\"/>\n",
       "</g>\n",
       "<!-- /outputs/206 -->\n",
       "<g id=\"node25\" class=\"node\">\n",
       "<title>/outputs/206</title>\n",
       "<polygon fill=\"#e8e8e8\" stroke=\"#000000\" points=\"5190,-86 5119,-86 5119,-50 5190,-50 5190,-86\"/>\n",
       "<text text-anchor=\"start\" x=\"5127.5\" y=\"-65\" font-family=\"Times\" font-size=\"10.00\" fill=\"#000000\">Unsqueeze</text>\n",
       "</g>\n",
       "<!-- /outputs/204&#45;&gt;/outputs/206 -->\n",
       "<g id=\"edge22\" class=\"edge\">\n",
       "<title>/outputs/204&#45;&gt;/outputs/206</title>\n",
       "<path fill=\"none\" stroke=\"#000000\" d=\"M5079.51,-68C5088.45,-68 5098.72,-68 5108.71,-68\"/>\n",
       "<polygon fill=\"#000000\" stroke=\"#000000\" points=\"5108.95,-71.5 5118.95,-68 5108.95,-64.5 5108.95,-71.5\"/>\n",
       "</g>\n",
       "<!-- /outputs/205 -->\n",
       "<g id=\"node24\" class=\"node\">\n",
       "<title>/outputs/205</title>\n",
       "<polygon fill=\"#e8e8e8\" stroke=\"#000000\" points=\"5083,-140 5022,-140 5022,-104 5083,-104 5083,-140\"/>\n",
       "<text text-anchor=\"start\" x=\"5030.5\" y=\"-119\" font-family=\"Times\" font-size=\"10.00\" fill=\"#000000\">Constant</text>\n",
       "</g>\n",
       "<!-- /outputs/207 -->\n",
       "<g id=\"node26\" class=\"node\">\n",
       "<title>/outputs/207</title>\n",
       "<polygon fill=\"#e8e8e8\" stroke=\"#000000\" points=\"5190,-140 5119,-140 5119,-104 5190,-104 5190,-140\"/>\n",
       "<text text-anchor=\"start\" x=\"5127.5\" y=\"-119\" font-family=\"Times\" font-size=\"10.00\" fill=\"#000000\">Unsqueeze</text>\n",
       "</g>\n",
       "<!-- /outputs/205&#45;&gt;/outputs/207 -->\n",
       "<g id=\"edge23\" class=\"edge\">\n",
       "<title>/outputs/205&#45;&gt;/outputs/207</title>\n",
       "<path fill=\"none\" stroke=\"#000000\" d=\"M5083.23,-122C5091.17,-122 5099.93,-122 5108.5,-122\"/>\n",
       "<polygon fill=\"#000000\" stroke=\"#000000\" points=\"5108.78,-125.5 5118.78,-122 5108.78,-118.5 5108.78,-125.5\"/>\n",
       "</g>\n",
       "<!-- /outputs/208 -->\n",
       "<g id=\"node27\" class=\"node\">\n",
       "<title>/outputs/208</title>\n",
       "<polygon fill=\"#e8e8e8\" stroke=\"#000000\" points=\"5280,-86 5226,-86 5226,-50 5280,-50 5280,-86\"/>\n",
       "<text text-anchor=\"start\" x=\"5236\" y=\"-65\" font-family=\"Times\" font-size=\"10.00\" fill=\"#000000\">Concat</text>\n",
       "</g>\n",
       "<!-- /outputs/206&#45;&gt;/outputs/208 -->\n",
       "<g id=\"edge24\" class=\"edge\">\n",
       "<title>/outputs/206&#45;&gt;/outputs/208</title>\n",
       "<path fill=\"none\" stroke=\"#000000\" d=\"M5190.07,-68C5198.36,-68 5207.23,-68 5215.6,-68\"/>\n",
       "<polygon fill=\"#000000\" stroke=\"#000000\" points=\"5215.85,-71.5 5225.85,-68 5215.85,-64.5 5215.85,-71.5\"/>\n",
       "</g>\n",
       "<!-- /outputs/207&#45;&gt;/outputs/208 -->\n",
       "<g id=\"edge25\" class=\"edge\">\n",
       "<title>/outputs/207&#45;&gt;/outputs/208</title>\n",
       "<path fill=\"none\" stroke=\"#000000\" d=\"M5187.9,-103.87C5197.28,-98.62 5207.56,-92.87 5217.08,-87.54\"/>\n",
       "<polygon fill=\"#000000\" stroke=\"#000000\" points=\"5218.91,-90.53 5225.93,-82.59 5215.49,-84.42 5218.91,-90.53\"/>\n",
       "</g>\n",
       "<!-- /outputs/208&#45;&gt;/outputs/209 -->\n",
       "<g id=\"edge26\" class=\"edge\">\n",
       "<title>/outputs/208&#45;&gt;/outputs/209</title>\n",
       "<path fill=\"none\" stroke=\"#000000\" d=\"M5280.18,-61.35C5288.21,-59.31 5297.22,-57.02 5305.89,-54.81\"/>\n",
       "<polygon fill=\"#000000\" stroke=\"#000000\" points=\"5307.02,-58.14 5315.85,-52.28 5305.29,-51.35 5307.02,-58.14\"/>\n",
       "</g>\n",
       "<!-- /outputs/210 -->\n",
       "<g id=\"node29\" class=\"node\">\n",
       "<title>/outputs/210</title>\n",
       "<polygon fill=\"#e8e8e8\" stroke=\"#000000\" points=\"5484,-63 5411,-63 5411,-27 5484,-27 5484,-63\"/>\n",
       "<text text-anchor=\"start\" x=\"5419.5\" y=\"-42\" font-family=\"Times\" font-size=\"10.00\" fill=\"#000000\">BatchNorm</text>\n",
       "</g>\n",
       "<!-- /outputs/209&#45;&gt;/outputs/210 -->\n",
       "<g id=\"edge27\" class=\"edge\">\n",
       "<title>/outputs/209&#45;&gt;/outputs/210</title>\n",
       "<path fill=\"none\" stroke=\"#000000\" d=\"M5375.16,-45C5383.12,-45 5391.97,-45 5400.66,-45\"/>\n",
       "<polygon fill=\"#000000\" stroke=\"#000000\" points=\"5400.72,-48.5 5410.72,-45 5400.72,-41.5 5400.72,-48.5\"/>\n",
       "</g>\n",
       "<!-- /outputs/212 -->\n",
       "<g id=\"node31\" class=\"node\">\n",
       "<title>/outputs/212</title>\n",
       "<polygon fill=\"#e8e8e8\" stroke=\"#000000\" points=\"5575,-90 5520,-90 5520,-54 5575,-54 5575,-90\"/>\n",
       "<text text-anchor=\"start\" x=\"5528.5\" y=\"-69\" font-family=\"Times\" font-size=\"10.00\" fill=\"#000000\">MatMul</text>\n",
       "</g>\n",
       "<!-- /outputs/210&#45;&gt;/outputs/212 -->\n",
       "<g id=\"edge28\" class=\"edge\">\n",
       "<title>/outputs/210&#45;&gt;/outputs/212</title>\n",
       "<path fill=\"none\" stroke=\"#000000\" d=\"M5484.16,-54.82C5492.65,-57.16 5501.73,-59.67 5510.25,-62.01\"/>\n",
       "<polygon fill=\"#000000\" stroke=\"#000000\" points=\"5509.36,-65.4 5519.94,-64.68 5511.22,-58.65 5509.36,-65.4\"/>\n",
       "</g>\n",
       "<!-- /outputs/211 -->\n",
       "<g id=\"node30\" class=\"node\">\n",
       "<title>/outputs/211</title>\n",
       "<polygon fill=\"#e8e8e8\" stroke=\"#000000\" points=\"5481.5,-117 5413.5,-117 5413.5,-81 5481.5,-81 5481.5,-117\"/>\n",
       "<text text-anchor=\"start\" x=\"5421.5\" y=\"-96\" font-family=\"Times\" font-size=\"10.00\" fill=\"#000000\">Transpose</text>\n",
       "</g>\n",
       "<!-- /outputs/211&#45;&gt;/outputs/212 -->\n",
       "<g id=\"edge29\" class=\"edge\">\n",
       "<title>/outputs/211&#45;&gt;/outputs/212</title>\n",
       "<path fill=\"none\" stroke=\"#000000\" d=\"M5481.68,-89.86C5490.81,-87.34 5500.77,-84.6 5510.08,-82.04\"/>\n",
       "<polygon fill=\"#000000\" stroke=\"#000000\" points=\"5511.14,-85.37 5519.85,-79.34 5509.28,-78.62 5511.14,-85.37\"/>\n",
       "</g>\n",
       "<!-- /outputs/213 -->\n",
       "<g id=\"node32\" class=\"node\">\n",
       "<title>/outputs/213</title>\n",
       "<polygon fill=\"#e8e8e8\" stroke=\"#000000\" points=\"5665,-90 5611,-90 5611,-54 5665,-54 5665,-90\"/>\n",
       "<text text-anchor=\"start\" x=\"5627\" y=\"-69\" font-family=\"Times\" font-size=\"10.00\" fill=\"#000000\">Relu</text>\n",
       "</g>\n",
       "<!-- /outputs/212&#45;&gt;/outputs/213 -->\n",
       "<g id=\"edge30\" class=\"edge\">\n",
       "<title>/outputs/212&#45;&gt;/outputs/213</title>\n",
       "<path fill=\"none\" stroke=\"#000000\" d=\"M5575.05,-72C5583.09,-72 5592.06,-72 5600.62,-72\"/>\n",
       "<polygon fill=\"#000000\" stroke=\"#000000\" points=\"5600.77,-75.5 5610.77,-72 5600.77,-68.5 5600.77,-75.5\"/>\n",
       "</g>\n",
       "<!-- /outputs/214 -->\n",
       "<g id=\"node33\" class=\"node\">\n",
       "<title>/outputs/214</title>\n",
       "<polygon fill=\"#e8e8e8\" stroke=\"#000000\" points=\"5774,-90 5701,-90 5701,-54 5774,-54 5774,-90\"/>\n",
       "<text text-anchor=\"start\" x=\"5709.5\" y=\"-69\" font-family=\"Times\" font-size=\"10.00\" fill=\"#000000\">BatchNorm</text>\n",
       "</g>\n",
       "<!-- /outputs/213&#45;&gt;/outputs/214 -->\n",
       "<g id=\"edge31\" class=\"edge\">\n",
       "<title>/outputs/213&#45;&gt;/outputs/214</title>\n",
       "<path fill=\"none\" stroke=\"#000000\" d=\"M5665.13,-72C5672.99,-72 5681.87,-72 5690.62,-72\"/>\n",
       "<polygon fill=\"#000000\" stroke=\"#000000\" points=\"5690.77,-75.5 5700.77,-72 5690.77,-68.5 5690.77,-75.5\"/>\n",
       "</g>\n",
       "<!-- /outputs/216 -->\n",
       "<g id=\"node35\" class=\"node\">\n",
       "<title>/outputs/216</title>\n",
       "<polygon fill=\"#e8e8e8\" stroke=\"#000000\" points=\"5865,-117 5810,-117 5810,-81 5865,-81 5865,-117\"/>\n",
       "<text text-anchor=\"start\" x=\"5818.5\" y=\"-96\" font-family=\"Times\" font-size=\"10.00\" fill=\"#000000\">MatMul</text>\n",
       "</g>\n",
       "<!-- /outputs/214&#45;&gt;/outputs/216 -->\n",
       "<g id=\"edge32\" class=\"edge\">\n",
       "<title>/outputs/214&#45;&gt;/outputs/216</title>\n",
       "<path fill=\"none\" stroke=\"#000000\" d=\"M5774.16,-81.82C5782.65,-84.16 5791.73,-86.67 5800.25,-89.01\"/>\n",
       "<polygon fill=\"#000000\" stroke=\"#000000\" points=\"5799.36,-92.4 5809.94,-91.68 5801.22,-85.65 5799.36,-92.4\"/>\n",
       "</g>\n",
       "<!-- /outputs/215 -->\n",
       "<g id=\"node34\" class=\"node\">\n",
       "<title>/outputs/215</title>\n",
       "<polygon fill=\"#e8e8e8\" stroke=\"#000000\" points=\"5771.5,-144 5703.5,-144 5703.5,-108 5771.5,-108 5771.5,-144\"/>\n",
       "<text text-anchor=\"start\" x=\"5711.5\" y=\"-123\" font-family=\"Times\" font-size=\"10.00\" fill=\"#000000\">Transpose</text>\n",
       "</g>\n",
       "<!-- /outputs/215&#45;&gt;/outputs/216 -->\n",
       "<g id=\"edge33\" class=\"edge\">\n",
       "<title>/outputs/215&#45;&gt;/outputs/216</title>\n",
       "<path fill=\"none\" stroke=\"#000000\" d=\"M5771.68,-116.86C5780.81,-114.34 5790.77,-111.6 5800.08,-109.04\"/>\n",
       "<polygon fill=\"#000000\" stroke=\"#000000\" points=\"5801.14,-112.37 5809.85,-106.34 5799.28,-105.62 5801.14,-112.37\"/>\n",
       "</g>\n",
       "<!-- 4291835990902352011 -->\n",
       "<g id=\"node36\" class=\"node\">\n",
       "<title>4291835990902352011</title>\n",
       "<polygon fill=\"#e8e8e8\" stroke=\"#000000\" points=\"166,-63 0,-63 0,-27 166,-27 166,-63\"/>\n",
       "<text text-anchor=\"start\" x=\"8\" y=\"-42\" font-family=\"Times\" font-size=\"10.00\" fill=\"#000000\">Conv7x7 &gt; BatchNorm &gt; Relu</text>\n",
       "</g>\n",
       "<!-- 4291835990902352011&#45;&gt;/outputs/136 -->\n",
       "<g id=\"edge34\" class=\"edge\">\n",
       "<title>4291835990902352011&#45;&gt;/outputs/136</title>\n",
       "<path fill=\"none\" stroke=\"#000000\" d=\"M166.04,-45C174.82,-45 183.52,-45 191.7,-45\"/>\n",
       "<polygon fill=\"#000000\" stroke=\"#000000\" points=\"191.73,-48.5 201.73,-45 191.73,-41.5 191.73,-48.5\"/>\n",
       "</g>\n",
       "<!-- 13997525239209781023 -->\n",
       "<g id=\"node45\" class=\"node\">\n",
       "<title>13997525239209781023</title>\n",
       "<polygon fill=\"#e8e8e8\" stroke=\"#000000\" points=\"645,-40 516,-40 516,-4 645,-4 645,-40\"/>\n",
       "<text text-anchor=\"start\" x=\"524.5\" y=\"-19\" font-family=\"Times\" font-size=\"10.00\" fill=\"#000000\">Conv3x3 &gt; BatchNorm</text>\n",
       "</g>\n",
       "<!-- 11105285438068160209&#45;&gt;13997525239209781023 -->\n",
       "<g id=\"edge43\" class=\"edge\">\n",
       "<title>11105285438068160209&#45;&gt;13997525239209781023</title>\n",
       "<path fill=\"none\" stroke=\"#000000\" d=\"M480.25,-22C488.72,-22 497.29,-22 505.66,-22\"/>\n",
       "<polygon fill=\"#000000\" stroke=\"#000000\" points=\"505.75,-25.5 515.75,-22 505.75,-18.5 505.75,-25.5\"/>\n",
       "</g>\n",
       "<!-- 2945194472877206461 -->\n",
       "<g id=\"node46\" class=\"node\">\n",
       "<title>2945194472877206461</title>\n",
       "<polygon fill=\"#e8e8e8\" stroke=\"#000000\" points=\"1192,-40 1063,-40 1063,-4 1192,-4 1192,-40\"/>\n",
       "<text text-anchor=\"start\" x=\"1071.5\" y=\"-19\" font-family=\"Times\" font-size=\"10.00\" fill=\"#000000\">Conv3x3 &gt; BatchNorm</text>\n",
       "</g>\n",
       "<!-- 10353144037217341363&#45;&gt;2945194472877206461 -->\n",
       "<g id=\"edge45\" class=\"edge\">\n",
       "<title>10353144037217341363&#45;&gt;2945194472877206461</title>\n",
       "<path fill=\"none\" stroke=\"#000000\" d=\"M1027.25,-22C1035.72,-22 1044.29,-22 1052.66,-22\"/>\n",
       "<polygon fill=\"#000000\" stroke=\"#000000\" points=\"1052.75,-25.5 1062.75,-22 1052.75,-18.5 1052.75,-25.5\"/>\n",
       "</g>\n",
       "<!-- 7795859673851708282 -->\n",
       "<g id=\"node47\" class=\"node\">\n",
       "<title>7795859673851708282</title>\n",
       "<polygon fill=\"#e8e8e8\" stroke=\"#000000\" points=\"1739,-90 1610,-90 1610,-54 1739,-54 1739,-90\"/>\n",
       "<text text-anchor=\"start\" x=\"1618.5\" y=\"-69\" font-family=\"Times\" font-size=\"10.00\" fill=\"#000000\">Conv3x3 &gt; BatchNorm</text>\n",
       "</g>\n",
       "<!-- 13208230535885162025&#45;&gt;7795859673851708282 -->\n",
       "<g id=\"edge47\" class=\"edge\">\n",
       "<title>13208230535885162025&#45;&gt;7795859673851708282</title>\n",
       "<path fill=\"none\" stroke=\"#000000\" d=\"M1574.25,-70.91C1582.72,-71 1591.29,-71.09 1599.66,-71.19\"/>\n",
       "<polygon fill=\"#000000\" stroke=\"#000000\" points=\"1599.71,-74.69 1609.75,-71.3 1599.79,-67.69 1599.71,-74.69\"/>\n",
       "</g>\n",
       "<!-- 3971837850219807024 -->\n",
       "<g id=\"node49\" class=\"node\">\n",
       "<title>3971837850219807024</title>\n",
       "<polygon fill=\"#e8e8e8\" stroke=\"#000000\" points=\"2286,-40 2157,-40 2157,-4 2286,-4 2286,-40\"/>\n",
       "<text text-anchor=\"start\" x=\"2165.5\" y=\"-19\" font-family=\"Times\" font-size=\"10.00\" fill=\"#000000\">Conv3x3 &gt; BatchNorm</text>\n",
       "</g>\n",
       "<!-- 12937162279754847113&#45;&gt;3971837850219807024 -->\n",
       "<g id=\"edge51\" class=\"edge\">\n",
       "<title>12937162279754847113&#45;&gt;3971837850219807024</title>\n",
       "<path fill=\"none\" stroke=\"#000000\" d=\"M2121.25,-22C2129.72,-22 2138.29,-22 2146.66,-22\"/>\n",
       "<polygon fill=\"#000000\" stroke=\"#000000\" points=\"2146.75,-25.5 2156.75,-22 2146.75,-18.5 2146.75,-25.5\"/>\n",
       "</g>\n",
       "<!-- 14083980817542670947 -->\n",
       "<g id=\"node50\" class=\"node\">\n",
       "<title>14083980817542670947</title>\n",
       "<polygon fill=\"#e8e8e8\" stroke=\"#000000\" points=\"2833,-90 2704,-90 2704,-54 2833,-54 2833,-90\"/>\n",
       "<text text-anchor=\"start\" x=\"2712.5\" y=\"-69\" font-family=\"Times\" font-size=\"10.00\" fill=\"#000000\">Conv3x3 &gt; BatchNorm</text>\n",
       "</g>\n",
       "<!-- 7738774760351418614&#45;&gt;14083980817542670947 -->\n",
       "<g id=\"edge53\" class=\"edge\">\n",
       "<title>7738774760351418614&#45;&gt;14083980817542670947</title>\n",
       "<path fill=\"none\" stroke=\"#000000\" d=\"M2668.25,-70.91C2676.72,-71 2685.29,-71.09 2693.66,-71.19\"/>\n",
       "<polygon fill=\"#000000\" stroke=\"#000000\" points=\"2693.71,-74.69 2703.75,-71.3 2693.79,-67.69 2693.71,-74.69\"/>\n",
       "</g>\n",
       "<!-- 7008421793132065041 -->\n",
       "<g id=\"node52\" class=\"node\">\n",
       "<title>7008421793132065041</title>\n",
       "<polygon fill=\"#e8e8e8\" stroke=\"#000000\" points=\"3380,-40 3251,-40 3251,-4 3380,-4 3380,-40\"/>\n",
       "<text text-anchor=\"start\" x=\"3259.5\" y=\"-19\" font-family=\"Times\" font-size=\"10.00\" fill=\"#000000\">Conv3x3 &gt; BatchNorm</text>\n",
       "</g>\n",
       "<!-- 8286444275301796832&#45;&gt;7008421793132065041 -->\n",
       "<g id=\"edge57\" class=\"edge\">\n",
       "<title>8286444275301796832&#45;&gt;7008421793132065041</title>\n",
       "<path fill=\"none\" stroke=\"#000000\" d=\"M3215.25,-22C3223.72,-22 3232.29,-22 3240.66,-22\"/>\n",
       "<polygon fill=\"#000000\" stroke=\"#000000\" points=\"3240.75,-25.5 3250.75,-22 3240.75,-18.5 3240.75,-25.5\"/>\n",
       "</g>\n",
       "<!-- 6622000703604942743 -->\n",
       "<g id=\"node53\" class=\"node\">\n",
       "<title>6622000703604942743</title>\n",
       "<polygon fill=\"#e8e8e8\" stroke=\"#000000\" points=\"3927,-90 3798,-90 3798,-54 3927,-54 3927,-90\"/>\n",
       "<text text-anchor=\"start\" x=\"3806.5\" y=\"-69\" font-family=\"Times\" font-size=\"10.00\" fill=\"#000000\">Conv3x3 &gt; BatchNorm</text>\n",
       "</g>\n",
       "<!-- 5131712758418120108&#45;&gt;6622000703604942743 -->\n",
       "<g id=\"edge59\" class=\"edge\">\n",
       "<title>5131712758418120108&#45;&gt;6622000703604942743</title>\n",
       "<path fill=\"none\" stroke=\"#000000\" d=\"M3762.25,-70.91C3770.72,-71 3779.29,-71.09 3787.66,-71.19\"/>\n",
       "<polygon fill=\"#000000\" stroke=\"#000000\" points=\"3787.71,-74.69 3797.75,-71.3 3787.79,-67.69 3787.71,-74.69\"/>\n",
       "</g>\n",
       "<!-- 4879548657232103939 -->\n",
       "<g id=\"node55\" class=\"node\">\n",
       "<title>4879548657232103939</title>\n",
       "<polygon fill=\"#e8e8e8\" stroke=\"#000000\" points=\"4474,-40 4345,-40 4345,-4 4474,-4 4474,-40\"/>\n",
       "<text text-anchor=\"start\" x=\"4353.5\" y=\"-19\" font-family=\"Times\" font-size=\"10.00\" fill=\"#000000\">Conv3x3 &gt; BatchNorm</text>\n",
       "</g>\n",
       "<!-- 16035760590688802187&#45;&gt;4879548657232103939 -->\n",
       "<g id=\"edge63\" class=\"edge\">\n",
       "<title>16035760590688802187&#45;&gt;4879548657232103939</title>\n",
       "<path fill=\"none\" stroke=\"#000000\" d=\"M4309.25,-22C4317.72,-22 4326.29,-22 4334.66,-22\"/>\n",
       "<polygon fill=\"#000000\" stroke=\"#000000\" points=\"4334.75,-25.5 4344.75,-22 4334.75,-18.5 4334.75,-25.5\"/>\n",
       "</g>\n",
       "<!-- 13997525239209781023&#45;&gt;/outputs/142 -->\n",
       "<g id=\"edge44\" class=\"edge\">\n",
       "<title>13997525239209781023&#45;&gt;/outputs/142</title>\n",
       "<path fill=\"none\" stroke=\"#000000\" d=\"M645.35,-33.7C654.11,-35.31 662.84,-36.91 670.86,-38.38\"/>\n",
       "<polygon fill=\"#000000\" stroke=\"#000000\" points=\"670.46,-41.86 680.93,-40.22 671.72,-34.98 670.46,-41.86\"/>\n",
       "</g>\n",
       "<!-- 2945194472877206461&#45;&gt;/outputs/149 -->\n",
       "<g id=\"edge46\" class=\"edge\">\n",
       "<title>2945194472877206461&#45;&gt;/outputs/149</title>\n",
       "<path fill=\"none\" stroke=\"#000000\" d=\"M1192.35,-33.7C1201.11,-35.31 1209.84,-36.91 1217.86,-38.38\"/>\n",
       "<polygon fill=\"#000000\" stroke=\"#000000\" points=\"1217.46,-41.86 1227.93,-40.22 1218.72,-34.98 1217.46,-41.86\"/>\n",
       "</g>\n",
       "<!-- 7795859673851708282&#45;&gt;/outputs/158 -->\n",
       "<g id=\"edge48\" class=\"edge\">\n",
       "<title>7795859673851708282&#45;&gt;/outputs/158</title>\n",
       "<path fill=\"none\" stroke=\"#000000\" d=\"M1739.35,-58.26C1748.21,-56.36 1757.04,-54.46 1765.13,-52.72\"/>\n",
       "<polygon fill=\"#000000\" stroke=\"#000000\" points=\"1765.89,-56.13 1774.93,-50.61 1764.42,-49.29 1765.89,-56.13\"/>\n",
       "</g>\n",
       "<!-- 5125821543982213238&#45;&gt;/outputs/158 -->\n",
       "<g id=\"edge50\" class=\"edge\">\n",
       "<title>5125821543982213238&#45;&gt;/outputs/158</title>\n",
       "<path fill=\"none\" stroke=\"#000000\" d=\"M1739.35,-31.74C1748.21,-33.64 1757.04,-35.54 1765.13,-37.28\"/>\n",
       "<polygon fill=\"#000000\" stroke=\"#000000\" points=\"1764.42,-40.71 1774.93,-39.39 1765.89,-33.87 1764.42,-40.71\"/>\n",
       "</g>\n",
       "<!-- 3971837850219807024&#45;&gt;/outputs/165 -->\n",
       "<g id=\"edge52\" class=\"edge\">\n",
       "<title>3971837850219807024&#45;&gt;/outputs/165</title>\n",
       "<path fill=\"none\" stroke=\"#000000\" d=\"M2286.35,-33.7C2295.11,-35.31 2303.84,-36.91 2311.86,-38.38\"/>\n",
       "<polygon fill=\"#000000\" stroke=\"#000000\" points=\"2311.46,-41.86 2321.93,-40.22 2312.72,-34.98 2311.46,-41.86\"/>\n",
       "</g>\n",
       "<!-- 14083980817542670947&#45;&gt;/outputs/174 -->\n",
       "<g id=\"edge54\" class=\"edge\">\n",
       "<title>14083980817542670947&#45;&gt;/outputs/174</title>\n",
       "<path fill=\"none\" stroke=\"#000000\" d=\"M2833.35,-58.26C2842.21,-56.36 2851.04,-54.46 2859.13,-52.72\"/>\n",
       "<polygon fill=\"#000000\" stroke=\"#000000\" points=\"2859.89,-56.13 2868.93,-50.61 2858.42,-49.29 2859.89,-56.13\"/>\n",
       "</g>\n",
       "<!-- 1885446857198079865&#45;&gt;/outputs/174 -->\n",
       "<g id=\"edge56\" class=\"edge\">\n",
       "<title>1885446857198079865&#45;&gt;/outputs/174</title>\n",
       "<path fill=\"none\" stroke=\"#000000\" d=\"M2833.35,-31.74C2842.21,-33.64 2851.04,-35.54 2859.13,-37.28\"/>\n",
       "<polygon fill=\"#000000\" stroke=\"#000000\" points=\"2858.42,-40.71 2868.93,-39.39 2859.89,-33.87 2858.42,-40.71\"/>\n",
       "</g>\n",
       "<!-- 7008421793132065041&#45;&gt;/outputs/181 -->\n",
       "<g id=\"edge58\" class=\"edge\">\n",
       "<title>7008421793132065041&#45;&gt;/outputs/181</title>\n",
       "<path fill=\"none\" stroke=\"#000000\" d=\"M3380.35,-33.7C3389.11,-35.31 3397.84,-36.91 3405.86,-38.38\"/>\n",
       "<polygon fill=\"#000000\" stroke=\"#000000\" points=\"3405.46,-41.86 3415.93,-40.22 3406.72,-34.98 3405.46,-41.86\"/>\n",
       "</g>\n",
       "<!-- 6622000703604942743&#45;&gt;/outputs/190 -->\n",
       "<g id=\"edge60\" class=\"edge\">\n",
       "<title>6622000703604942743&#45;&gt;/outputs/190</title>\n",
       "<path fill=\"none\" stroke=\"#000000\" d=\"M3927.35,-58.26C3936.21,-56.36 3945.04,-54.46 3953.13,-52.72\"/>\n",
       "<polygon fill=\"#000000\" stroke=\"#000000\" points=\"3953.89,-56.13 3962.93,-50.61 3952.42,-49.29 3953.89,-56.13\"/>\n",
       "</g>\n",
       "<!-- 6344863178936378387&#45;&gt;/outputs/190 -->\n",
       "<g id=\"edge62\" class=\"edge\">\n",
       "<title>6344863178936378387&#45;&gt;/outputs/190</title>\n",
       "<path fill=\"none\" stroke=\"#000000\" d=\"M3927.35,-31.74C3936.21,-33.64 3945.04,-35.54 3953.13,-37.28\"/>\n",
       "<polygon fill=\"#000000\" stroke=\"#000000\" points=\"3952.42,-40.71 3962.93,-39.39 3953.89,-33.87 3952.42,-40.71\"/>\n",
       "</g>\n",
       "<!-- 4879548657232103939&#45;&gt;/outputs/197 -->\n",
       "<g id=\"edge64\" class=\"edge\">\n",
       "<title>4879548657232103939&#45;&gt;/outputs/197</title>\n",
       "<path fill=\"none\" stroke=\"#000000\" d=\"M4474.35,-33.7C4483.11,-35.31 4491.84,-36.91 4499.86,-38.38\"/>\n",
       "<polygon fill=\"#000000\" stroke=\"#000000\" points=\"4499.46,-41.86 4509.93,-40.22 4500.72,-34.98 4499.46,-41.86\"/>\n",
       "</g>\n",
       "</g>\n",
       "</svg>\n"
      ],
      "text/plain": [
       "<hiddenlayer.graph.Graph at 0x7fa990d83370>"
      ]
     },
     "execution_count": 137,
     "metadata": {},
     "output_type": "execute_result"
    }
   ],
   "source": [
    "import hiddenlayer as hl\n",
    "\n",
    "transforms = [\n",
    "    # Fold Conv, BN, RELU layers into one\n",
    "    hl.transforms.Fold(\"Conv > BatchNorm > Relu\", \"ConvBnRelu\"),\n",
    "    # Fold Conv, BN layers together\n",
    "    hl.transforms.Fold(\"Conv > BatchNorm\", \"ConvBn\"),\n",
    "    # Fold bottleneck blocks\n",
    "    hl.transforms.Fold(\"\"\"\n",
    "        ((ConvBnRelu > ConvBnRelu > ConvBn) | ConvBn) > Add > Relu\n",
    "        \"\"\", \"BottleneckBlock\", \"Bottleneck Block\"),\n",
    "    # Fold residual blocks\n",
    "    hl.transforms.Fold(\"\"\"ConvBnRelu > ConvBnRelu > ConvBn > Add > Relu\"\"\",\n",
    "                       \"ResBlock\", \"Residual Block\"),\n",
    "    # Fold repeated blocks\n",
    "    hl.transforms.FoldDuplicates(),\n",
    "]\n",
    "\n",
    "graph = hl.build_graph(learner.model, xb, transforms=transforms)\n",
    "graph"
   ]
  },
  {
   "cell_type": "markdown",
   "metadata": {},
   "source": [
    "# Questions"
   ]
  },
  {
   "cell_type": "markdown",
   "metadata": {},
   "source": [
    "**1. How is a greyscale image represented on a computer? How about a color image?**\n",
    "\n",
    "Grayscale images are represented as matrices of integers (the pixels) in the range 0-255. Color images are similarly represented, but we use 3 such matrices, one for each color (red, green and blue) from whose combinations all other colors are derived."
   ]
  },
  {
   "cell_type": "markdown",
   "metadata": {},
   "source": [
    "**2. How are the files and folders in the MNIST_SAMPLE dataset structured? Why?**\n",
    "\n",
    "They're organized in two subfolders: `train` and `test`. The former contains the training set, and the latter the test or validation set."
   ]
  },
  {
   "cell_type": "markdown",
   "metadata": {},
   "source": [
    "**3. Explain how the \"pixel similarity\" approach to classifying digits works.**\n",
    "\n",
    "It's a baseline model than simply generates a reference image for each digit by averaging the values in all of the corresponding training images. Once we have that average image we can compare on seeing images against it and measure the pixel distance. The distance can be either an L1 or L2 norm or any other distance function we want."
   ]
  },
  {
   "cell_type": "markdown",
   "metadata": {},
   "source": [
    "**4. What is a list comprehension?**\n",
    "\n",
    "It's just special syntactic sugar that Python provides for common loop constructs that involves creating new lists and adding elements conditionally."
   ]
  },
  {
   "cell_type": "markdown",
   "metadata": {},
   "source": [
    "**5. What is a rank-3 tensor?**\n",
    "\n",
    "It's a three dimensional array of numbers."
   ]
  },
  {
   "cell_type": "markdown",
   "metadata": {},
   "source": [
    "**6. What is the difference between tensor rank and shape? How do you get the rank from the shape?**\n",
    "\n",
    "The rank is just a number that tells you how many dimensions of tensor has. The shape of a tensor tells you how many elements there are in each dimension."
   ]
  },
  {
   "cell_type": "markdown",
   "metadata": {},
   "source": [
    "**7. What are RMSE and L1 norm?**\n",
    "\n",
    "RMSE represents a weighted average difference between predicted values and expected values with strong penalties on large deviations.\n",
    "\n",
    "L1 represents the sum of distance between predicted and expected values."
   ]
  },
  {
   "cell_type": "markdown",
   "metadata": {},
   "source": [
    "**8. How can you apply a calculation on thousands of numbers at once, many thousands of times faster than a Python loop?**\n",
    "\n",
    "By using vectorized operations available in `numpy` or `torch`. The latter is able to efficiently execute them in GPUs."
   ]
  },
  {
   "cell_type": "markdown",
   "metadata": {},
   "source": [
    "**9. Create a 3x3 tensor or array containing the numbers from 1 to 9. Double it. Select the bottom right four numbers.**"
   ]
  },
  {
   "cell_type": "code",
   "execution_count": 138,
   "metadata": {},
   "outputs": [
    {
     "data": {
      "text/plain": [
       "tensor([[10, 12],\n",
       "        [16, 18]])"
      ]
     },
     "execution_count": 138,
     "metadata": {},
     "output_type": "execute_result"
    }
   ],
   "source": [
    "t = tensor([[1, 2, 3],\n",
    "            [4, 5, 6],\n",
    "            [7, 8, 9]])\n",
    "t *= 2\n",
    "t[1:,1:]"
   ]
  },
  {
   "cell_type": "markdown",
   "metadata": {},
   "source": [
    "**10. What is broadcasting?**\n",
    "\n",
    "It's a way to perform operations between tensors of different shape which share one or more dimensions. For example, a vector of N elements and a matrix of NxM elements, or  a matrix of NxM elements and a tensor of shape MxNxP). It saves users from having to explicitly create matching tensors, and it does it in an efficient manner by creating just a virtual tensor with virtual copies of the original smaller tensor."
   ]
  },
  {
   "cell_type": "markdown",
   "metadata": {},
   "source": [
    "**11. Are metrics generally calculated using the tree set or the validation set? Why?**\n",
    "\n",
    "Both, although the most useful information comes from the validation or test set since it is a proxy for the expected performance of the model in production. Checking the metrics for the training set can be useful for debugging purposes."
   ]
  },
  {
   "cell_type": "markdown",
   "metadata": {},
   "source": [
    "**12. What is SGD?**\n",
    "\n",
    "Stochastic Gradient Descent. An optimization technique that uses a random subset of the data to find the gradients that inform how to change parameters to minimize the cost function."
   ]
  },
  {
   "cell_type": "markdown",
   "metadata": {},
   "source": [
    "**13. Why does SGD use mini-batches?**\n",
    "\n",
    "For efficiency but also to improve generalization error. The latter is achieved by training to avoid plateauing in local minima that could be the product of noise in any given batch."
   ]
  },
  {
   "cell_type": "markdown",
   "metadata": {},
   "source": [
    "**14. For the seven steps in SGD for machine learning?**\n",
    "\n",
    "   1. Initialize weights\n",
    "   2. Compute predictions\n",
    "   3. Compute loss \n",
    "   4. Compute gradients\n",
    "   5. Test for convergence\n",
    "   6. Update parameters using gradients \n",
    "   7. Repeat starting from step B."
   ]
  },
  {
   "cell_type": "markdown",
   "metadata": {},
   "source": [
    "**15. How do I initialize the weights in a model?**\n",
    "\n",
    "Random initialization is a good idea, although researchers have found other somewhat more sophisticated methods."
   ]
  },
  {
   "cell_type": "markdown",
   "metadata": {},
   "source": [
    "**16. What is loss?**\n",
    "\n",
    "It's a scalar-valued function that represents how good or bad are our model's predictions. It must be differentiable with respect to the weights"
   ]
  },
  {
   "cell_type": "markdown",
   "metadata": {},
   "source": [
    "**17. Why can't we use always a high learning rate?**\n",
    "\n",
    "Because we could overshoot and cause never-ending oscillations. In other cases, SGD may still converge but it will do so much more slowly due to unnecessary back-and-forth in both sides of a convex region."
   ]
  },
  {
   "cell_type": "markdown",
   "metadata": {},
   "source": [
    "**18. What is a gradient?**\n",
    "\n",
    "It's a vector that represents how to move in parameters space in order to decrease most rapidly the value of the loss function."
   ]
  },
  {
   "cell_type": "markdown",
   "metadata": {},
   "source": [
    "**19. Do you need to know how to calculate gradients yourself?**\n",
    "\n",
    "Not really unless you're building neural net completely from scratch. If you're using a framework like PyTorch, gradients are automatically computed for you."
   ]
  },
  {
   "cell_type": "markdown",
   "metadata": {},
   "source": [
    "**20. Why can't use accuracy as a loss function?**\n",
    "\n",
    "Because it's not smooth and differentiable like the loss function. Small changes in paramete space will most likely not make any difference in classification, so the algorithm will get stuck very early on. A loss function usually encodes not just classification accuracy but also confidence on the classification. That allows to move smoothly in parameter space even when the classification accuracy doesn't change from one iteration to another."
   ]
  },
  {
   "cell_type": "markdown",
   "metadata": {},
   "source": [
    "**21. Draw the sigmoid function. What is special about its shape?**\n",
    "\n",
    "It has a linear region in the middle and two nonlinear regions for sufficiently large or small values."
   ]
  },
  {
   "cell_type": "markdown",
   "metadata": {},
   "source": [
    "**22. What is the difference between a loss function and a metric?**\n",
    "\n",
    "A metric is an error measure designed for humans to understand and discuss. A loss is a proxy of the metric function that must be differentiable (so it can be used with the backpropagation algorithm) and capture both the accuracy and confidence that a model has in its predictions.\n"
   ]
  },
  {
   "cell_type": "markdown",
   "metadata": {},
   "source": [
    "**23. What is the function to calculate new weights using a learning rate?**\n",
    "\n",
    "The gradient of the loss function (plugged into the update parameters equation)"
   ]
  },
  {
   "cell_type": "markdown",
   "metadata": {},
   "source": [
    "**24. What does the `DataLoader` class do?**\n",
    "\n",
    "It can load data from a source (e.g., file system), separate it into training and test subsets, and provide it in appropriately sized and shuffled batches."
   ]
  },
  {
   "cell_type": "markdown",
   "metadata": {},
   "source": [
    "**25. Write pseudocode showing the basic steps taken in each epoch for SGD.**\n",
    "\n",
    "```python\n",
    "for _ in epochs:\n",
    "    predictions = compute_predictions(model, inputs)\n",
    "    loss = compute_loss(predictions, targets)\n",
    "    \n",
    "    all_metrics.append(compute_metrics(predictions, targets))\n",
    "    losses.append(loss)\n",
    "\n",
    "    gradient = compute_gradient(loss)\n",
    "    update_parameters(model.parameters, gradient)\n",
    "```"
   ]
  },
  {
   "cell_type": "markdown",
   "metadata": {},
   "source": [
    "**26. Create a function that, if passed two arguments `[1, 2, 3, 4]` and `\"abcd\"`, returns `[(1, 'a'), (2, 'b'), (3, 'c'), (4, 'd')]`. What is special about that output data structure?**\n",
    "\n",
    "```python\n",
    "def bind(inputs, targets):\n",
    "    return list(zip(inputs, targets))\n",
    "```\n",
    "\n",
    "There is nothing special about it, except that PyTorch expects that format for training data."
   ]
  },
  {
   "cell_type": "markdown",
   "metadata": {},
   "source": [
    "**27. What does `view` do in PyTorch?**\n",
    "\n",
    "It reshapes a tensor to some other shape, but only in a virtual way (i.e., it doesn't really change the layout in memory nor does it allocate new memory.)"
   ]
  },
  {
   "cell_type": "markdown",
   "metadata": {},
   "source": [
    "**28. What are the bias parameters in a neural network? Why do we need them?**\n",
    "\n",
    "They provide an additional degree of freedom in each perceptron in the NN, preventing it from being anchored to the origin. Without it, the NN couldn't really approximate a lot of functions."
   ]
  },
  {
   "cell_type": "markdown",
   "metadata": {},
   "source": [
    "**29. What does the operator `@` do in Python?**\n",
    "\n",
    "In the case of matrices, it performs matrix multiplication."
   ]
  },
  {
   "cell_type": "markdown",
   "metadata": {},
   "source": [
    "**30. What does the `backward` method do?**\n",
    "\n",
    "It computes gradients for all variables involved in a computational graph (as long as the variables are marked as requiring gradients)"
   ]
  },
  {
   "cell_type": "markdown",
   "metadata": {},
   "source": [
    "**31. Why do we have to zero the gradients?**\n",
    "\n",
    "Because by default Pytorch keeps accumulating gradients in each variable involved in a computational graph."
   ]
  },
  {
   "cell_type": "markdown",
   "metadata": {},
   "source": [
    "**32. What information do we have to pass to `Learner`?**\n",
    "\n",
    "+ The data loader\n",
    "+ The model's architecture\n",
    "+ The optimizer\n",
    "+ The loss function\n",
    "+ Any metrics to monitor during training and validation"
   ]
  },
  {
   "cell_type": "markdown",
   "metadata": {},
   "source": [
    "**33. Show Python or pseudocode for the basic steps of a training loop**\n",
    "\n",
    "```python\n",
    "def train(model, epochs, data_loaders, loss_fn, optimizer=SGD, metrics=accuracy):\n",
    "    for epoch in range(epochs):\n",
    "        train_epoch(model, data_loaders.training, loss_fn, optimizer)\n",
    "        report_metrics(model, data_loaders.validation, loss_fn, metrics)\n",
    "\n",
    "def train_epoch(model, training_set, loss_fn, optimizer):\n",
    "    for inputs, targets in training_set:\n",
    "        predictions = model(inputs)\n",
    "        loss = loss_fn(predictions, targets)\n",
    "        optimizer.step(compute_gradients(loss))\n",
    "        \n",
    "def report_metrics(model, validation_set, loss_fn, metrics):\n",
    "    for inputs, targets in validation_set:\n",
    "        predictions = model(inputs)\n",
    "        loss = loss_fn(predictions, targets)\n",
    "        metrics_results = [metric(predictions, targets) for metric in metrics]\n",
    "        report_results(loss, metrics_results)\n",
    "```"
   ]
  },
  {
   "cell_type": "markdown",
   "metadata": {},
   "source": [
    "**34. What is ReLU?**\n",
    "\n",
    "It stands for Rectified Linear Unit, a fancy name for the expression `max(x, 0)`"
   ]
  },
  {
   "cell_type": "markdown",
   "metadata": {},
   "source": [
    "**35. What is an activation function?**\n",
    "\n",
    "A nonlinear function that is applied pointwise to tensors (typically after one or more linear transformations)"
   ]
  },
  {
   "cell_type": "markdown",
   "metadata": {},
   "source": [
    "**36. What is the difference between `F.relu` and `nn.ReLU`?**\n",
    "\n",
    "They're conceptually the same. The latter is needed when building models using `torch.nn.Sequential`, since it expects class instances."
   ]
  },
  {
   "cell_type": "markdown",
   "metadata": {},
   "source": [
    "**37. The universal approximation theorem shows that any function can be approximated as closely as needed using just one nonlinearity. So why do we normally use more?**\n",
    "\n",
    "For efficiency. Models with more layers can use less units per layer and end up with the same accuracy as a model with a single very wide layer (one with an exponential number of units)"
   ]
  }
 ],
 "metadata": {
  "kernelspec": {
   "display_name": "Python 3",
   "language": "python",
   "name": "python3"
  },
  "language_info": {
   "codemirror_mode": {
    "name": "ipython",
    "version": 3
   },
   "file_extension": ".py",
   "mimetype": "text/x-python",
   "name": "python",
   "nbconvert_exporter": "python",
   "pygments_lexer": "ipython3",
   "version": "3.8.6"
  }
 },
 "nbformat": 4,
 "nbformat_minor": 4
}
